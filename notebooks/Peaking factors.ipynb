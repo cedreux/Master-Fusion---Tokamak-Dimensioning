{
 "cells": [
  {
   "cell_type": "markdown",
   "metadata": {},
   "source": [
    "# Peaking Factor\n",
    "This notebook perform the analytical calculations concerning peaking feactor. Mostly integral calculus. "
   ]
  },
  {
   "cell_type": "code",
   "execution_count": 1,
   "metadata": {},
   "outputs": [],
   "source": [
    "from sympy import *\n",
    "init_printing()\n",
    "\n",
    "r = symbols('r', real=True)\n",
    "T, n = symbols('T n', cls=Function)\n",
    "T_0, n_0 = symbols('T_0 n_0', positive=True, real=True)\n",
    "a, nu_n, nu_T = symbols('a nu_n nu_T', positive=True, real=True)"
   ]
  },
  {
   "cell_type": "code",
   "execution_count": 2,
   "metadata": {},
   "outputs": [],
   "source": [
    "def T(r):\n",
    "    return T_0 * (1 - r**2/a**2)**nu_T\n"
   ]
  },
  {
   "cell_type": "code",
   "execution_count": 3,
   "metadata": {},
   "outputs": [
    {
     "data": {
      "image/png": "[encoded data removed]",
      "text/latex": [
       "$$\\frac{T_{0} a^{2} a^{2 \\nu_{T}}}{2 a^{2 \\nu_{T}} \\nu_{T} + 2 a^{2 \\nu_{T}}}$$"
      ],
      "text/plain": [
       "          2  2⋅ν_T     \n",
       "      T₀⋅a ⋅a          \n",
       "───────────────────────\n",
       "   2⋅ν_T          2⋅ν_T\n",
       "2⋅a     ⋅ν_T + 2⋅a     "
      ]
     },
     "execution_count": 3,
     "metadata": {},
     "output_type": "execute_result"
    }
   ],
   "source": [
    "Integral( T(r) * r, (r,0,a) ).doit()"
   ]
  },
  {
   "cell_type": "code",
   "execution_count": 4,
   "metadata": {},
   "outputs": [],
   "source": [
    "avg_T_squared = (2/a**2 * simplify(_))**2"
   ]
  },
  {
   "cell_type": "code",
   "execution_count": 5,
   "metadata": {},
   "outputs": [
    {
     "data": {
      "image/png": "[encoded data removed]",
      "text/latex": [
       "$$\\int_{0}^{a} T_{0}^{2} r \\left(1 - \\frac{r^{2}}{a^{2}}\\right)^{2 \\nu_{T}}\\, dr$$"
      ],
      "text/plain": [
       "a                       \n",
       "⌠                       \n",
       "⎮               2⋅ν_T   \n",
       "⎮       ⎛     2⎞        \n",
       "⎮   2   ⎜    r ⎟        \n",
       "⎮ T₀ ⋅r⋅⎜1 - ──⎟      dr\n",
       "⎮       ⎜     2⎟        \n",
       "⎮       ⎝    a ⎠        \n",
       "⌡                       \n",
       "0                       "
      ]
     },
     "execution_count": 5,
     "metadata": {},
     "output_type": "execute_result"
    }
   ],
   "source": [
    "Integral( T(r)**2 * r, (r,0,a) )"
   ]
  },
  {
   "cell_type": "code",
   "execution_count": 6,
   "metadata": {},
   "outputs": [
    {
     "data": {
      "image/png": "[encoded data removed]",
      "text/latex": [
       "$$\\frac{T_{0}^{2} a^{2} a^{4 \\nu_{T}}}{4 a^{4 \\nu_{T}} \\nu_{T} + 2 a^{4 \\nu_{T}}}$$"
      ],
      "text/plain": [
       "       2  2  4⋅ν_T     \n",
       "     T₀ ⋅a ⋅a          \n",
       "───────────────────────\n",
       "   4⋅ν_T          4⋅ν_T\n",
       "4⋅a     ⋅ν_T + 2⋅a     "
      ]
     },
     "execution_count": 6,
     "metadata": {},
     "output_type": "execute_result"
    }
   ],
   "source": [
    "Integral( T(r)**2 * r, (r,0,a) ).doit()"
   ]
  },
  {
   "cell_type": "code",
   "execution_count": 7,
   "metadata": {},
   "outputs": [],
   "source": [
    "avg_T2 = 2/a**2*simplify(_)"
   ]
  },
  {
   "cell_type": "code",
   "execution_count": 8,
   "metadata": {},
   "outputs": [
    {
     "data": {
      "image/png": "[encoded data removed]",
      "text/latex": [
       "$$\\frac{T_{0}^{2}}{\\left(\\nu_{T} + 1\\right)^{2}}$$"
      ],
      "text/plain": [
       "     2    \n",
       "   T₀     \n",
       "──────────\n",
       "         2\n",
       "(ν_T + 1) "
      ]
     },
     "execution_count": 8,
     "metadata": {},
     "output_type": "execute_result"
    }
   ],
   "source": [
    "avg_T_squared"
   ]
  },
  {
   "cell_type": "code",
   "execution_count": 9,
   "metadata": {},
   "outputs": [
    {
     "data": {
      "image/png": "[encoded data removed]",
      "text/latex": [
       "$$\\frac{T_{0}^{2}}{2 \\nu_{T} + 1}$$"
      ],
      "text/plain": [
       "     2   \n",
       "   T₀    \n",
       "─────────\n",
       "2⋅ν_T + 1"
      ]
     },
     "execution_count": 9,
     "metadata": {},
     "output_type": "execute_result"
    }
   ],
   "source": [
    "avg_T2"
   ]
  },
  {
   "cell_type": "code",
   "execution_count": 10,
   "metadata": {},
   "outputs": [],
   "source": [
    "f_p = avg_T2/avg_T_squared"
   ]
  },
  {
   "cell_type": "code",
   "execution_count": 11,
   "metadata": {},
   "outputs": [
    {
     "data": {
      "image/png": "[encoded data removed]",
      "text/latex": [
       "$$\\frac{\\left(\\nu_{T} + 1\\right)^{2}}{2 \\nu_{T} + 1}$$"
      ],
      "text/plain": [
       "         2\n",
       "(ν_T + 1) \n",
       "──────────\n",
       "2⋅ν_T + 1 "
      ]
     },
     "execution_count": 11,
     "metadata": {},
     "output_type": "execute_result"
    }
   ],
   "source": [
    "f_p"
   ]
  },
  {
   "cell_type": "code",
   "execution_count": 12,
   "metadata": {},
   "outputs": [
    {
     "data": {
      "image/png": "[encoded data removed]",
      "text/latex": [
       "$$\\frac{4}{3}$$"
      ],
      "text/plain": [
       "4/3"
      ]
     },
     "execution_count": 12,
     "metadata": {},
     "output_type": "execute_result"
    }
   ],
   "source": [
    "f_p.subs(nu_T, 1)"
   ]
  },
  {
   "cell_type": "code",
   "execution_count": 13,
   "metadata": {},
   "outputs": [
    {
     "data": {
      "image/png": "[encoded data removed]",
      "text/latex": [
       "$$\\frac{9}{5}$$"
      ],
      "text/plain": [
       "9/5"
      ]
     },
     "execution_count": 13,
     "metadata": {},
     "output_type": "execute_result"
    }
   ],
   "source": [
    "f_p.subs(nu_T, 2)"
   ]
  },
  {
   "cell_type": "code",
   "execution_count": 14,
   "metadata": {},
   "outputs": [
    {
     "data": {
      "image/png": "[encoded data removed]",
      "text/latex": [
       "$$\\frac{16}{7}$$"
      ],
      "text/plain": [
       "16/7"
      ]
     },
     "execution_count": 14,
     "metadata": {},
     "output_type": "execute_result"
    }
   ],
   "source": [
    "f_p.subs(nu_T, 3)"
   ]
  },
  {
   "cell_type": "code",
   "execution_count": 15,
   "metadata": {},
   "outputs": [
    {
     "data": {
      "image/png": "[encoded data removed]",
      "text/latex": [
       "$$1.8$$"
      ],
      "text/plain": [
       "1.8"
      ]
     },
     "execution_count": 15,
     "metadata": {},
     "output_type": "execute_result"
    }
   ],
   "source": [
    "9/5"
   ]
  },
  {
   "cell_type": "code",
   "execution_count": 16,
   "metadata": {},
   "outputs": [
    {
     "data": {
      "image/png": "[encoded data removed]",
      "text/latex": [
       "$$1.3333333333333333$$"
      ],
      "text/plain": [
       "1.3333333333333333"
      ]
     },
     "execution_count": 16,
     "metadata": {},
     "output_type": "execute_result"
    }
   ],
   "source": [
    "4/3"
   ]
  },
  {
   "cell_type": "code",
   "execution_count": null,
   "metadata": {},
   "outputs": [],
   "source": []
  }
 ],
 "metadata": {
  "kernelspec": {
   "display_name": "Python 3",
   "language": "python",
   "name": "python3"
  },
  "language_info": {
   "codemirror_mode": {
    "name": "ipython",
    "version": 3
   },
   "file_extension": ".py",
   "mimetype": "text/x-python",
   "name": "python",
   "nbconvert_exporter": "python",
   "pygments_lexer": "ipython3",
   "version": "3.6.8"
  }
 },
 "nbformat": 4,
 "nbformat_minor": 2
}
