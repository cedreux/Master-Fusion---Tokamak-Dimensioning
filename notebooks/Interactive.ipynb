{
 "cells": [
  {
   "cell_type": "code",
   "execution_count": 1,
   "metadata": {},
   "outputs": [],
   "source": [
    "%load_ext autoreload\n",
    "%autoreload 2\n",
    "from ipywidgets import interact"
   ]
  },
  {
   "cell_type": "code",
   "execution_count": 2,
   "metadata": {},
   "outputs": [],
   "source": [
    "from scaling_laws import *"
   ]
  },
  {
   "cell_type": "markdown",
   "metadata": {},
   "source": [
    "# Plotting $\\beta_N$ curves"
   ]
  },
  {
   "cell_type": "code",
   "execution_count": 3,
   "metadata": {},
   "outputs": [
    {
     "data": {
      "application/vnd.jupyter.widget-view+json": {
       "model_id": "2eab7975fc7c472489df12370646323c",
       "version_major": 2,
       "version_minor": 0
      },
      "text/plain": [
       "interactive(children=(IntSlider(value=410, description='P_DT', max=800, min=100), IntSlider(value=10, descript…"
      ]
     },
     "metadata": {},
     "output_type": "display_data"
    },
    {
     "data": {
      "text/plain": [
       "<function scaling_laws.plot_beta_N_curves(P_DT=410, Q=10, kappa=1.7, epsilon=0.323, qa=3, lambd=5, M=2.7, n_N=0.85)>"
      ]
     },
     "execution_count": 3,
     "metadata": {},
     "output_type": "execute_result"
    }
   ],
   "source": [
    "interact(plot_beta_N_curves, Q=(1,50), P_DT=(100,800), \n",
    "         lambd=(4.0,6.0), M=(2.0, 4.0), kappa=(1.0, 3.0), \n",
    "         epsilon=(0.05, 1.0), qa=(1.0,4.0), n_N=(0.5,1.2))"
   ]
  },
  {
   "cell_type": "markdown",
   "metadata": {},
   "source": [
    "# $\\beta_N$ from fusion power"
   ]
  },
  {
   "cell_type": "markdown",
   "metadata": {},
   "source": [
    "The interactive widget below gives the result of the \n",
    "$$\n",
    "\\beta_N = q_a C_\\beta \\sqrt{ \n",
    "\\frac{ P_{DT} } \n",
    "     {C_{fus} C_{I}^2 \\kappa \\varepsilon^4 R^3 B^4}\n",
    "     }\n",
    "$$"
   ]
  },
  {
   "cell_type": "code",
   "execution_count": 4,
   "metadata": {},
   "outputs": [
    {
     "data": {
      "application/vnd.jupyter.widget-view+json": {
       "model_id": "4128761676bb44898193188aa0c4dd52",
       "version_major": 2,
       "version_minor": 0
      },
      "text/plain": [
       "interactive(children=(IntSlider(value=410, description='P_DT', max=800, min=100), FloatSlider(value=1.7, descr…"
      ]
     },
     "metadata": {},
     "output_type": "display_data"
    },
    {
     "data": {
      "text/plain": [
       "<function scaling_laws.beta_N1(P_DT=410, kappa=1.7, epsilon=0.323, qa=3, R=6.2, B=5.3)>"
      ]
     },
     "execution_count": 4,
     "metadata": {},
     "output_type": "execute_result"
    }
   ],
   "source": [
    "interact(beta_N1, P_DT=(100,800), \n",
    "          kappa=(1.0,3.0), epsilon=(0.05,1.0), qa=(1.0,4.0), \n",
    "          R=(1.0,10.0), B=(1.0,20.0))"
   ]
  },
  {
   "cell_type": "markdown",
   "metadata": {},
   "source": [
    "# $\\beta_N$ from confinement time scaling law"
   ]
  },
  {
   "cell_type": "code",
   "execution_count": 5,
   "metadata": {},
   "outputs": [
    {
     "data": {
      "application/vnd.jupyter.widget-view+json": {
       "model_id": "99f786bf70d1432ea01af3a74ab19eb5",
       "version_major": 2,
       "version_minor": 0
      },
      "text/plain": [
       "interactive(children=(IntSlider(value=10, description='Q', max=50, min=1), FloatSlider(value=4.94, description…"
      ]
     },
     "metadata": {},
     "output_type": "display_data"
    },
    {
     "data": {
      "text/plain": [
       "<function scaling_laws.beta_N2(Q=10, lambd=4.94, M=2.7, kappa=1.7, epsilon=0.323, qa=3, n_N=0.85, R=6.2, B=5.3)>"
      ]
     },
     "execution_count": 5,
     "metadata": {},
     "output_type": "execute_result"
    }
   ],
   "source": [
    "interact(beta_N2, Q=(1,50), \n",
    "         lambd=(4.0,6.0), M=(2.0, 4.0), kappa=(1.0, 3.0), \n",
    "         epsilon=(0.05, 1.0), qa=(1.0,4.0), n_N=(0.5,1.2), \n",
    "         R=(1.0,10.0), B=(1.0,20.0))"
   ]
  }
 ],
 "metadata": {
  "kernelspec": {
   "display_name": "Python 3",
   "language": "python",
   "name": "python3"
  },
  "language_info": {
   "codemirror_mode": {
    "name": "ipython",
    "version": 3
   },
   "file_extension": ".py",
   "mimetype": "text/x-python",
   "name": "python",
   "nbconvert_exporter": "python",
   "pygments_lexer": "ipython3",
   "version": "3.6.7"
  }
 },
 "nbformat": 4,
 "nbformat_minor": 2
}
