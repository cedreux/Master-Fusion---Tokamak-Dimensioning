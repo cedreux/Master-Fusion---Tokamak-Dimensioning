{
 "cells": [
  {
   "cell_type": "markdown",
   "metadata": {},
   "source": [
    "# Introduction and main quantities"
   ]
  },
  {
   "cell_type": "markdown",
   "metadata": {},
   "source": [
    "The quantities are expressed in the following units:\n",
    "-   density in $10^{19}$ $m^{-3}$\n",
    "-   temperature in $keV$\n",
    "-   current in $MA$ \n",
    "-   power in $MW$\n",
    "-   distances in $m$\n",
    "-   magnetic field in $T$\n",
    "-   time in $s$\n",
    "\n",
    "Reminder:\n",
    "- safety factor at $r=a$: $q_a$\n",
    "- inverse of the aspect ratio: $\\varepsilon=R/a$\n",
    "- elongation: $\\kappa=b/a$\n",
    "- triangularity: $\\delta$\n"
   ]
  },
  {
   "cell_type": "markdown",
   "metadata": {},
   "source": [
    "# Governing Equations and Scaling Laws"
   ]
  },
  {
   "cell_type": "code",
   "execution_count": 1,
   "metadata": {},
   "outputs": [],
   "source": [
    "%matplotlib widget"
   ]
  },
  {
   "cell_type": "code",
   "execution_count": 2,
   "metadata": {},
   "outputs": [],
   "source": [
    "import numpy as np\n",
    "import matplotlib.pyplot as plt\n",
    "from scipy.optimize import minimize\n",
    "from scipy.constants import pi, e, k, mu_0"
   ]
  },
  {
   "cell_type": "code",
   "execution_count": 3,
   "metadata": {},
   "outputs": [
    {
     "name": "stdout",
     "output_type": "stream",
     "text": [
      "C_loss=0.09487709734949361\n",
      "C_fus=0.0016410733400046324\n",
      "C_beta=0.8053418153388281\n",
      "C_n=3.183098861837907\n",
      "C_I=4.999999997278121\n"
     ]
    }
   ],
   "source": [
    "from scaling_laws import *"
   ]
  },
  {
   "cell_type": "markdown",
   "metadata": {},
   "source": [
    "Here are the main constants $C_{loss}, C_{fus}, C_\\beta, C_n$ and $C_I$"
   ]
  },
  {
   "cell_type": "code",
   "execution_count": 4,
   "metadata": {},
   "outputs": [
    {
     "name": "stdout",
     "output_type": "stream",
     "text": [
      "C_loss=0.0815943037205645\n",
      "C_fus=0.0010082754600988467\n",
      "C_beta=0.6925939611913922\n",
      "C_n=3.183098861837907\n",
      "C_I=13.148529471799288\n"
     ]
    }
   ],
   "source": [
    "print(f'C_loss={C_loss}')  # OK\n",
    "print(f'C_fus={C_fus}')  # OK\n",
    "print(f'C_beta={C_beta}')  # OK\n",
    "print(f'C_n={C_n}')  # OK\n",
    "print(f'C_I={C_I}')  # OK"
   ]
  },
  {
   "cell_type": "markdown",
   "metadata": {},
   "source": [
    "Let's use additional definition used by [Johner] "
   ]
  },
  {
   "cell_type": "code",
   "execution_count": 5,
   "metadata": {},
   "outputs": [
    {
     "name": "stdout",
     "output_type": "stream",
     "text": [
      "Meff=2.6666666666666665\n",
      "C_loss=0.0815943037205645\n",
      "C_fus=0.0010082754600988467\n",
      "C_beta=0.6925939611913922\n",
      "C_I=13.148529471799288\n"
     ]
    }
   ],
   "source": [
    "print(f'Meff={Meff}')\n",
    "print(f'C_loss={C_loss}')\n",
    "print(f'C_fus={C_fus}')\n",
    "print(f'C_beta={C_beta}')\n",
    "print(f'C_I={C_I}') "
   ]
  },
  {
   "cell_type": "markdown",
   "metadata": {},
   "source": [
    "The triple product $n \\times T \\times \\tau_e$ as a function of $Q$:"
   ]
  },
  {
   "cell_type": "code",
   "execution_count": 6,
   "metadata": {},
   "outputs": [
    {
     "data": {
      "text/plain": [
       "267.58206128555094"
      ]
     },
     "execution_count": 6,
     "metadata": {},
     "output_type": "execute_result"
    }
   ],
   "source": [
    "# check from §2.8\n",
    "nTtau_fromQ(Q=10)  # ~300 for Q --> +oo"
   ]
  },
  {
   "cell_type": "code",
   "execution_count": 7,
   "metadata": {},
   "outputs": [],
   "source": [
    "_B = np.linspace(3, 9, 101)\n",
    "_R = np.linspace(2, 10, 101)\n",
    "_RR, _BB = np.meshgrid(_R, _B)\n",
    "\n",
    "_beta_N1 = beta_N1(B=_BB, R=_RR)\n",
    "_beta_N2 = beta_N2(B=_BB, R=_RR)"
   ]
  },
  {
   "cell_type": "code",
   "execution_count": 8,
   "metadata": {
    "scrolled": true
   },
   "outputs": [
    {
     "data": {
      "application/vnd.jupyter.widget-view+json": {
       "model_id": "12008deb628a41d8a549bd41f7c0f824",
       "version_major": 2,
       "version_minor": 0
      },
      "text/plain": [
       "Canvas(toolbar=Toolbar(toolitems=[('Home', 'Reset original view', 'home', 'home'), ('Back', 'Back to previous …"
      ]
     },
     "metadata": {},
     "output_type": "display_data"
    }
   ],
   "source": [
    "fig, ax = plt.subplots(figsize=(7,5))\n",
    "c1=ax.contour(_RR, _BB, _beta_N1, levels=[1.4, 1.6, 1.8,  2, 2.2],\n",
    "             alpha=0.5, cmap='copper')\n",
    "ax.clabel(c1, inline=1, fontsize=10, fmt='%.1f')\n",
    "c2=ax.contour(_RR, _BB, _beta_N2, levels=[1.4, 1.6,  1.8,  2, 2.2], \n",
    "              linestyles='dashed', alpha=0.8)\n",
    "ax.clabel(c2, inline=1, fontsize=10, fmt='%.1f')\n",
    "ax.set_xlabel('R [m]')\n",
    "ax.set_ylabel('B [T]')\n",
    "ax.set_title(r'plain lines: $\\beta_N(R,B)$ from (2.10)'+' \\n'+ r' dashed lines: $\\beta_N(R,B)$ from (2.20)')\n",
    "\n",
    "# determine the points where both beta_N are equals to the target (common points)\n",
    "# from the contour lines\n",
    "# beta_N_target = 1.8 -> 3rd line on contour\n",
    "RB_sol1 = c1.allsegs[2][0]\n",
    "RB_sol2 = c2.allsegs[2][0]\n",
    "B_sol1 = RB_sol1[:,1]\n",
    "B_sol2 = np.interp(RB_sol1[:,0], RB_sol2[:,0], RB_sol2[:,1])  # interpolate to be able to find the nearest value \n",
    "\n",
    "R_sol = RB_sol1[np.argmin(np.abs(B_sol1 - B_sol2)), 0]\n",
    "B_sol = RB_sol1[np.argmin(np.abs(B_sol1 - B_sol2)), 1]\n",
    "\n",
    "ax.plot(R_sol, B_sol, '.', ms=20, color='k')\n",
    "\n",
    "ax.annotate(fr'(R,B) for $\\beta_N=1.8$: ({R_sol:.2f} m, {B_sol:.2f} T)', \n",
    "            xy=(R_sol+.1, B_sol+.1), xytext=(5,8),\n",
    "            arrowprops={'arrowstyle': '->'}, va='center')\n",
    "\n",
    "fig.savefig('beta_N.png', dpi=150)"
   ]
  },
  {
   "cell_type": "markdown",
   "metadata": {},
   "source": [
    "Since there is two equations $\\beta_{N,1}(R,B)$ and $\\beta_{N,2}(R,B)$, we solve for $(R,B)$ "
   ]
  },
  {
   "cell_type": "code",
   "execution_count": 9,
   "metadata": {},
   "outputs": [],
   "source": [
    "# for each R, find the points B for which beta_N1 = beta_N2\n",
    "from scipy.optimize import fsolve\n",
    "\n",
    "def diff_beta_N12(B, R):\n",
    "    return beta_N1(R=R, B=B) - beta_N2(R=R, B=B)\n",
    "\n",
    "B_sol12 = []\n",
    "B0 = 5\n",
    "for R in _R:\n",
    "    B_sol12.append(fsolve(diff_beta_N12, B0, args=R))\n",
    "B_sol12 = np.array(B_sol12).squeeze()"
   ]
  },
  {
   "cell_type": "code",
   "execution_count": 10,
   "metadata": {},
   "outputs": [
    {
     "data": {
      "application/vnd.jupyter.widget-view+json": {
       "model_id": "c2ce25569b6f4c46968e49636444c0be",
       "version_major": 2,
       "version_minor": 0
      },
      "text/plain": [
       "Canvas(toolbar=Toolbar(toolitems=[('Home', 'Reset original view', 'home', 'home'), ('Back', 'Back to previous …"
      ]
     },
     "metadata": {},
     "output_type": "display_data"
    }
   ],
   "source": [
    "from mpl_toolkits.mplot3d import Axes3D\n",
    "from matplotlib import cm\n",
    "\n",
    "fig = plt.figure()\n",
    "ax = fig.add_subplot(111, projection='3d')\n",
    "c=ax.plot_surface(_RR, _BB, _beta_N1, alpha=0.6, cmap=cm.viridis, vmin=0, vmax=3)\n",
    "ax.plot_surface(_RR, _BB, _beta_N2, alpha=0.6, cmap=cm.viridis, vmin=0, vmax=3)\n",
    "ax.set_xlabel('R [m]')\n",
    "ax.set_ylabel('B [T]')\n",
    "ax.set_zlabel(r'$\\beta_N$')\n",
    "#ax.set_aspect('equal')\n",
    "ax.set_zlim(0, 5)\n",
    "ax.plot(_R, B_sol12, beta_N1(R=_R, B=B_sol12), color='r', lw=2)\n",
    "ax.set_xlim(2, 10)\n",
    "ax.set_ylim(3, 9)\n",
    "ax.view_init(azim=-45, elev=25)\n",
    "fig.colorbar(c, shrink=0.7)\n",
    "fig.tight_layout()\n",
    "ax.set_title(r'$\\beta_N$(R,B) from eq.(2.10) and (2.20)')\n",
    "fig.savefig('beta_N_3D.png', dpi=150)"
   ]
  },
  {
   "cell_type": "code",
   "execution_count": 11,
   "metadata": {},
   "outputs": [],
   "source": [
    "# relative distance between the two surfaces\n",
    "delta_beta_N12 = 2*np.abs(_beta_N1 - _beta_N2)/(_beta_N1 + _beta_N2)"
   ]
  },
  {
   "cell_type": "code",
   "execution_count": 12,
   "metadata": {},
   "outputs": [
    {
     "data": {
      "application/vnd.jupyter.widget-view+json": {
       "model_id": "bf88f9f194e448838b88c68233c055ed",
       "version_major": 2,
       "version_minor": 0
      },
      "text/plain": [
       "Canvas(toolbar=Toolbar(toolitems=[('Home', 'Reset original view', 'home', 'home'), ('Back', 'Back to previous …"
      ]
     },
     "metadata": {},
     "output_type": "display_data"
    },
    {
     "name": "stderr",
     "output_type": "stream",
     "text": [
      "C:\\Users\\JH218595\\AppData\\Local\\Continuum\\anaconda3\\lib\\site-packages\\ipykernel_launcher.py:2: MatplotlibDeprecationWarning: shading='flat' when X and Y have the same dimensions as C is deprecated since 3.3.  Either specify the corners of the quadrilaterals with X and Y, or pass shading='auto', 'nearest' or 'gouraud', or set rcParams['pcolor.shading'].  This will become an error two minor releases later.\n",
      "  \n"
     ]
    }
   ],
   "source": [
    "fig, ax = plt.subplots()\n",
    "c=ax.pcolor(_R, _B, diff_beta_N12(_BB, _RR), cmap='RdGy', vmin=-10, vmax=10)\n",
    "fig.colorbar(c)\n",
    "ax.set_ylim(3,9)\n",
    "ax.set_xlim(2, 10)\n",
    "ax.plot(_R, B_sol12, lw=3)\n",
    "#ax.plot(_R, B_sol13)\n",
    "ax.set_xlabel('R [m]')\n",
    "ax.set_ylabel('$B_0$ [T]')\n",
    "ax.set_title(r'$\\Delta\\beta_N(R,B_0)$')\n",
    "fig.savefig('Beta_N_2D.png', dpi=150)"
   ]
  },
  {
   "cell_type": "markdown",
   "metadata": {},
   "source": [
    "# Retrieving ITER Parameters"
   ]
  },
  {
   "cell_type": "markdown",
   "metadata": {},
   "source": [
    "# Solving from minimization"
   ]
  },
  {
   "cell_type": "markdown",
   "metadata": {},
   "source": [
    "## Solving for $\\beta_N(R,B)$"
   ]
  },
  {
   "cell_type": "code",
   "execution_count": 13,
   "metadata": {},
   "outputs": [],
   "source": [
    "# return the distance between between the target beta_N and the beta_N functions of (R,B)\n",
    "# this function is minimized to find the optimal (R,B) to get the prescribed beta_N\n",
    "def obj_fun_beta(x, beta_N=1.8):  \n",
    "    # parameters to find\n",
    "    R, B = x \n",
    "    \n",
    "    _beta_N1 = beta_N1(R=R, B=B)\n",
    "    _beta_N2 = beta_N2(R=R, B=B)\n",
    "\n",
    "    # return scalar objective function\n",
    "    return np.sqrt((beta_N - _beta_N1)**2 + (beta_N - _beta_N2)**2)"
   ]
  },
  {
   "cell_type": "code",
   "execution_count": 14,
   "metadata": {},
   "outputs": [
    {
     "name": "stdout",
     "output_type": "stream",
     "text": [
      "Solution found: R=4.94 m, B=6.12 T\n"
     ]
    }
   ],
   "source": [
    "R0, B0 = 5, 4\n",
    "x0 = [R0, B0]\n",
    "\n",
    "x = minimize(obj_fun_beta, x0, args=[1.8])\n",
    "print(f'Solution found: R={x.x[0]:.2f} m, B={x.x[1]:.2f} T')"
   ]
  },
  {
   "cell_type": "markdown",
   "metadata": {},
   "source": [
    "## Stylin'"
   ]
  },
  {
   "cell_type": "code",
   "execution_count": 15,
   "metadata": {},
   "outputs": [
    {
     "data": {
      "text/html": [
       "<style><link href='http://fonts.googleapis.com/css?family=Fenix' rel='stylesheet' type='text/css'>\n",
       "<link href='http://fonts.googleapis.com/css?family=Alegreya+Sans:100,300,400,500,700,800,900,100italic,300italic,400italic,500italic,700italic,800italic,900italic' rel='stylesheet' type='text/css'>\n",
       "<link href='http://fonts.googleapis.com/css?family=Source+Code+Pro:300,400' rel='stylesheet' type='text/css'>\n",
       "<link href=\"https://fonts.googleapis.com/css?family=Fira+Mono\" rel=\"stylesheet\"> \n",
       "<style>\n",
       "    @font-face {\n",
       "        font-family: 'Fira Mono', monospace;\n",
       "        /*src: url('http://mirrors.ctan.org/fonts/cm-unicode/fonts/otf/cmunss.otf');*/\n",
       "    }\n",
       "    div.cell{\n",
       "        width:800px;\n",
       "        margin-left:16% !important;\n",
       "        margin-right:auto;\n",
       "    }\n",
       "    h1 {\n",
       "        font-family: 'Alegreya Sans', sans-serif;\n",
       "    }\n",
       "    h2 {\n",
       "        font-family: 'Fenix', serif;\n",
       "    }\n",
       "    h3{\n",
       "\t\tfont-family: 'Fenix', serif;\n",
       "        margin-top:12px;\n",
       "        margin-bottom: 3px;\n",
       "       }\n",
       "\th4{\n",
       "\t\tfont-family: 'Fenix', serif;\n",
       "       }\n",
       "    h5 {\n",
       "        font-family: 'Alegreya Sans', sans-serif;\n",
       "    }\t   \n",
       "    div.text_cell_render{\n",
       "        font-family: 'Fira Mono', 'Alegreya Sans',Computer Modern, \"Helvetica Neue\", Arial, Helvetica, Geneva, sans-serif;\n",
       "        line-height: 135%;\n",
       "        font-size: 120%;\n",
       "        width:700px;\n",
       "        margin-left:auto;\n",
       "        margin-right:auto;\n",
       "    }\n",
       "\n",
       "    .text_cell_render h1 {\n",
       "        font-weight: 200;\n",
       "        font-size: 30pt;\n",
       "\t\tline-height: 100%;\n",
       "        color:#CD2305;\n",
       "        margin-bottom: 0.5em;\n",
       "        margin-top: 0.5em;\n",
       "        display: block;\n",
       "    }\n",
       "\t\n",
       "    .text_cell_render h2 {\n",
       "        font-weight: 200;\n",
       "        font-size: 25pt;\n",
       "\t\tline-height: 100%;\n",
       "        color:#1a54b2;\n",
       "        margin-bottom: 0.5em;\n",
       "        margin-top: 0.5em;\n",
       "        display: block;\n",
       "    }\t\n",
       "\t\n",
       "    .text_cell_render h5 {\n",
       "        font-weight: 300;\n",
       "        font-size: 16pt;\n",
       "        color: #CD2305;\n",
       "        font-style: italic;\n",
       "        margin-bottom: .5em;\n",
       "        margin-top: 0.5em;\n",
       "        display: block;\n",
       "    }\n",
       "    \n",
       "    .warning{\n",
       "        color: rgb( 240, 20, 20 )\n",
       "        }  \n",
       "</style>\n",
       "<script>\n",
       "    MathJax.Hub.Config({\n",
       "                        TeX: {\n",
       "                           extensions: [\"AMSmath.js\"]\n",
       "                           },\n",
       "                tex2jax: {\n",
       "                    inlineMath: [ ['$','$'], [\"\\\\(\",\"\\\\)\"] ],\n",
       "                    displayMath: [ ['$$','$$'], [\"\\\\[\",\"\\\\]\"] ]\n",
       "                },\n",
       "                displayAlign: 'center', // Change this to 'center' to center equations.\n",
       "                \"HTML-CSS\": {\n",
       "                    styles: {'.MathJax_Display': {\"margin\": 4}}\n",
       "                }\n",
       "        });\n",
       "</script>\n",
       "</style>"
      ],
      "text/plain": [
       "<IPython.core.display.HTML object>"
      ]
     },
     "execution_count": 15,
     "metadata": {},
     "output_type": "execute_result"
    }
   ],
   "source": [
    "from IPython.core.display import HTML\n",
    "\n",
    "def _set_css_style(css_file_path):\n",
    "    styles = open(css_file_path, 'r').read()\n",
    "    s = '<style>%s</style>' % styles\n",
    "    return HTML(s)\n",
    "_set_css_style('../custom.css')"
   ]
  }
 ],
 "metadata": {
  "kernelspec": {
   "display_name": "Python 3",
   "language": "python",
   "name": "python3"
  },
  "language_info": {
   "codemirror_mode": {
    "name": "ipython",
    "version": 3
   },
   "file_extension": ".py",
   "mimetype": "text/x-python",
   "name": "python",
   "nbconvert_exporter": "python",
   "pygments_lexer": "ipython3",
   "version": "3.7.8"
  }
 },
 "nbformat": 4,
 "nbformat_minor": 2
}
