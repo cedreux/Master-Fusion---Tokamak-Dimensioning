{
 "cells": [
  {
   "cell_type": "code",
   "execution_count": 1,
   "metadata": {},
   "outputs": [],
   "source": [
    "%matplotlib widget"
   ]
  },
  {
   "cell_type": "code",
   "execution_count": 2,
   "metadata": {},
   "outputs": [],
   "source": [
    "import numpy as np\n",
    "import matplotlib.pyplot as plt\n",
    "from scipy.constants import e, k, mu_0, pi"
   ]
  },
  {
   "cell_type": "markdown",
   "metadata": {},
   "source": [
    "# Optimal Plasma Density"
   ]
  },
  {
   "cell_type": "markdown",
   "metadata": {},
   "source": [
    "## Density Limit from plasma pressure\n",
    "We recall that the plasma pressure can be expressed as\n",
    "$$\n",
    "\\beta = C_\\beta \\frac{\\hat n \\hat T}{B^2}\n",
    "$$\n",
    "with $C_\\beta=4 e \\mu_0\\times 10^{21}\\approx 0.00805$, $\\hat n$ expressed in $10^{19} m^{-3}$ and $\\hat T$ in keV.\n",
    "\n",
    "For the plasma to be magnetically confined, one must have $\\beta < 1$, which lead to the following constraint on the density:\n",
    "$$\n",
    "\\hat n < \\frac{B^2}{C_\\beta \\hat T}\n",
    "$$\n",
    "This limit is plotted below for few temperature:\n"
   ]
  },
  {
   "cell_type": "code",
   "execution_count": 3,
   "metadata": {},
   "outputs": [],
   "source": [
    "def n_lim(B, T=10):\n",
    "    C_beta = 4*e*mu_0*1e21  # 0.0085\n",
    "    return B**2 / (C_beta*T)"
   ]
  },
  {
   "cell_type": "code",
   "execution_count": 4,
   "metadata": {},
   "outputs": [
    {
     "data": {
      "application/vnd.jupyter.widget-view+json": {
       "model_id": "e8289fb20b64430caf32956659893f30",
       "version_major": 2,
       "version_minor": 0
      },
      "text/plain": [
       "Canvas(toolbar=Toolbar(toolitems=[('Home', 'Reset original view', 'home', 'home'), ('Back', 'Back to previous …"
      ]
     },
     "metadata": {},
     "output_type": "display_data"
    }
   ],
   "source": [
    "Ts = [4, 15, 26, 66]  # keV\n",
    "Bs = np.linspace(1, 10, num=100) # T\n",
    "\n",
    "fig, ax = plt.subplots()\n",
    "[ax.semilogy(Bs, n_lim(Bs, T)*1e19, label=f'{T} keV') for T in Ts]\n",
    "ax.legend()\n",
    "ax.set_xlabel('B [T]')\n",
    "ax.set_ylabel('$n$ [$\\mathrm{m}^{-3}$]')\n",
    "ax.grid(True)\n",
    "ax.grid(True, which='minor', axis='both')"
   ]
  },
  {
   "cell_type": "markdown",
   "metadata": {},
   "source": [
    "## Greenwald density"
   ]
  },
  {
   "cell_type": "code",
   "execution_count": 5,
   "metadata": {},
   "outputs": [],
   "source": [
    "def n_G(B, q_a=3, R=6):\n",
    "    C_n = 10/pi\n",
    "    C_I = 2*pi*1e-6/mu_0\n",
    "    n_G = C_n * C_I * B/q_a/R"
   ]
  },
  {
   "cell_type": "markdown",
   "metadata": {},
   "source": [
    "# Optimal Plasma Temperature"
   ]
  },
  {
   "cell_type": "markdown",
   "metadata": {},
   "source": [
    "Equalling net and loss power expression leads to:\n",
    "\\begin{equation}\n",
    "n \\tau_E \n",
    "\\geqslant\n",
    "C_{lawson}\n",
    "\\frac{Q}{1+Q/\\lambda}\n",
    "\\frac{\\hat T }{\\left< \\sigma v \\right>_{DT} }\n",
    "\\end{equation} \n"
   ]
  },
  {
   "cell_type": "markdown",
   "metadata": {},
   "source": [
    "The D-T fusion reactivity depends of the temperature and peaks around $T \\approx 66.5$ keV. Few empirical formulas or tabulations have been proposed, which can be found for instance the Bosch-Hale parametrization [Hartwig2016] or the Brunelli [FusionCEA1987]:\n",
    "\n",
    "\\begin{equation}\n",
    "\\left< \\sigma v \\right>_{DT} \\approx 9.10^{-22}\n",
    "\\exp\\left\\{ -0.476 \\left| \\ln\\frac{\\hat T}{69} \\right|^{2.25}\\right\\}\n",
    "\\;\\;\\;\\textrm{m}^3.\\textrm{s}^{-1}\n",
    "\\end{equation}"
   ]
  },
  {
   "cell_type": "markdown",
   "metadata": {},
   "source": [
    "## $n \\tau_E$ versus temperature"
   ]
  },
  {
   "cell_type": "code",
   "execution_count": 6,
   "metadata": {},
   "outputs": [],
   "source": [
    "def avg_sigmav_DT(T_keV):\n",
    "    'return the average D-T fusion reactivity in m^3/s'\n",
    "    return 9e-22 * np.exp(-0.476 * np.abs(np.log(T_keV/69))**2.25)\n",
    "\n",
    "def ntau_e(T_keV, Q=10, lambd=4.94, gamma_rad=1):\n",
    "    E_DT_MeV = 17.59 # MeV\n",
    "    E_DT = 2.82e-12 # J\n",
    "    C_lawson = 12*1e3*e/E_DT\n",
    "    return C_lawson * Q/(1+Q/lambd) * T_keV/ avg_sigmav_DT(T_keV) /gamma_rad\n",
    "\n",
    "def ntau_e_rad(T_keV):\n",
    "    C_B = 5.355e-37\n",
    "    return 3*e*1e3/C_B*np.sqrt(T_keV)"
   ]
  },
  {
   "cell_type": "code",
   "execution_count": 7,
   "metadata": {},
   "outputs": [
    {
     "data": {
      "application/vnd.jupyter.widget-view+json": {
       "model_id": "c08c5c937f854e27a5e1f19e3c9f827e",
       "version_major": 2,
       "version_minor": 0
      },
      "text/plain": [
       "Canvas(toolbar=Toolbar(toolitems=[('Home', 'Reset original view', 'home', 'home'), ('Back', 'Back to previous …"
      ]
     },
     "metadata": {},
     "output_type": "display_data"
    },
    {
     "data": {
      "text/plain": [
       "(2, 150)"
      ]
     },
     "execution_count": 7,
     "metadata": {},
     "output_type": "execute_result"
    }
   ],
   "source": [
    "T_keV = np.linspace(2, 150, num=150)\n",
    "ntau_Q1 = ntau_e(T_keV, Q=1)\n",
    "ntau_Q5 = ntau_e(T_keV, Q=5)\n",
    "ntau_Q10 = ntau_e(T_keV, Q=10)\n",
    "ntau_Qinf = ntau_e(T_keV, Q=1000000)\n",
    "\n",
    "T_opt = T_keV[np.argmin(ntau_Q10)]\n",
    "\n",
    "fig, ax = plt.subplots()\n",
    "ax.loglog(T_keV, ntau_Q1/1e19, lw=2, label='Q=1')\n",
    "ax.loglog(T_keV, ntau_Q5/1e19, lw=2, label='Q=5')\n",
    "ax.loglog(T_keV, ntau_Q10/1e19, lw=2, label='Q=10')\n",
    "ax.loglog(T_keV, ntau_Qinf/1e19, lw=2, label=r'Q$\\to \\infty$')\n",
    "\n",
    "ax.loglog(T_keV, ntau_e_rad(T_keV)/1e19, color='k', label='Bremsstrahlung')\n",
    "\n",
    "#fb = ax.fill_between(T_keV, y1=ntau_Q10/1e19, y2=100, color='grey', alpha=0.2, zorder=0)\n",
    "#fb.set_hatch(\"//\")\n",
    "\n",
    "fb = ax.fill_between(T_keV, y1=ntau_e_rad(T_keV)/1e19, y2=1e3, color='grey', alpha=0.3)\n",
    "fb.set_hatch('\\\\\\\\\\\\')\n",
    "\n",
    "\n",
    "ax.grid(True)\n",
    "ax.grid(True, which='minor')\n",
    "ax.set_xlabel('$\\hat T$ [keV]', fontsize=12)\n",
    "ax.set_ylabel(r'$\\hat n \\tau_E$ [$10^{19} m^{-3}.s$]', fontsize=12)\n",
    "ax.set_ylim(1, 1000)\n",
    "ax.legend(loc='upper right')\n",
    "ax.axvline(T_opt, ls='--', color='k', lw=2)\n",
    "ax.text(T_opt+2, 1.5, f'{T_opt:.1f} keV')\n",
    "ax.set_xlim(2, 150)\n"
   ]
  },
  {
   "cell_type": "code",
   "execution_count": 8,
   "metadata": {},
   "outputs": [],
   "source": [
    "fig.savefig('ntau_e_vs_T_loglog.png', dpi=150)"
   ]
  },
  {
   "cell_type": "markdown",
   "metadata": {},
   "source": [
    "## Bremsstrahlung radiation"
   ]
  },
  {
   "cell_type": "code",
   "execution_count": 9,
   "metadata": {},
   "outputs": [
    {
     "data": {
      "application/vnd.jupyter.widget-view+json": {
       "model_id": "05a79422f3ba458a83b6ddb86f259a87",
       "version_major": 2,
       "version_minor": 0
      },
      "text/plain": [
       "Canvas(toolbar=Toolbar(toolitems=[('Home', 'Reset original view', 'home', 'home'), ('Back', 'Back to previous …"
      ]
     },
     "metadata": {},
     "output_type": "display_data"
    },
    {
     "data": {
      "text/plain": [
       "<matplotlib.legend.Legend at 0x231503ae5c8>"
      ]
     },
     "execution_count": 9,
     "metadata": {},
     "output_type": "execute_result"
    }
   ],
   "source": [
    "fig, ax = plt.subplots()\n",
    "ax.plot(T_keV, ntau_e_rad(T_keV)/1e19, color='k', lw=2, label='Bremsstrahlung')\n",
    "ax.grid(True)\n",
    "ax.grid(True, which='minor')\n",
    "ax.set_xlabel('$\\hat T$ [keV]', fontsize=12)\n",
    "ax.set_ylabel(r'$\\hat n \\tau_E$ [$10^{19} m^{-3}.s$]', fontsize=12)\n",
    "ax.legend()"
   ]
  },
  {
   "cell_type": "markdown",
   "metadata": {},
   "source": [
    "## Role of the radiation factor"
   ]
  },
  {
   "cell_type": "code",
   "execution_count": 10,
   "metadata": {},
   "outputs": [
    {
     "data": {
      "application/vnd.jupyter.widget-view+json": {
       "model_id": "b4efd881c7c445ebb7a2d67e1a029c71",
       "version_major": 2,
       "version_minor": 0
      },
      "text/plain": [
       "Canvas(toolbar=Toolbar(toolitems=[('Home', 'Reset original view', 'home', 'home'), ('Back', 'Back to previous …"
      ]
     },
     "metadata": {},
     "output_type": "display_data"
    },
    {
     "data": {
      "text/plain": [
       "Text(0.5, 1.0, 'Role of radiation factor $\\\\gamma_{rad}$')"
      ]
     },
     "execution_count": 10,
     "metadata": {},
     "output_type": "execute_result"
    }
   ],
   "source": [
    "T_keV = np.linspace(2, 150, num=150)\n",
    "ntau_Q10_rad_0 = ntau_e(T_keV, Q=10, gamma_rad=0.01)\n",
    "ntau_Q10_rad_1 = ntau_e(T_keV, Q=10, gamma_rad=1)\n",
    "\n",
    "fig, ax = plt.subplots()\n",
    "ax.semilogy(T_keV, ntau_Q10_rad_0/1e19, lw=2, label=r'Q=10, $\\gamma_{rad} \\to 0$')\n",
    "ax.semilogy(T_keV, ntau_Q10_rad_1/1e19, lw=2, label=r'Q=10, $\\gamma_{rad} \\to 1$')\n",
    "ax.fill_between(T_keV, ntau_Q10_rad_0/1e19, ntau_Q10_rad_1/1e19, color='red', alpha=0.2)\n",
    "ax.grid(True)\n",
    "ax.grid(True, which='minor')\n",
    "ax.set_xlabel('$\\hat T$ [keV]', fontsize=12)\n",
    "ax.set_ylabel(r'$\\hat n \\tau_E$ [$10^{19} m^{-3}.s$]', fontsize=12)\n",
    "#ax.set_ylim(1, 100)\n",
    "ax.legend(loc='upper right')\n",
    "ax.set_xlim(1, 150)\n",
    "ax.set_title('Role of radiation factor $\\gamma_{rad}$')"
   ]
  },
  {
   "cell_type": "markdown",
   "metadata": {},
   "source": [
    "### Stylin'"
   ]
  },
  {
   "cell_type": "code",
   "execution_count": 11,
   "metadata": {},
   "outputs": [
    {
     "data": {
      "text/html": [
       "<style><link href='http://fonts.googleapis.com/css?family=Fenix' rel='stylesheet' type='text/css'>\n",
       "<link href='http://fonts.googleapis.com/css?family=Alegreya+Sans:100,300,400,500,700,800,900,100italic,300italic,400italic,500italic,700italic,800italic,900italic' rel='stylesheet' type='text/css'>\n",
       "<link href='http://fonts.googleapis.com/css?family=Source+Code+Pro:300,400' rel='stylesheet' type='text/css'>\n",
       "<link href=\"https://fonts.googleapis.com/css?family=Fira+Mono\" rel=\"stylesheet\"> \n",
       "<style>\n",
       "    @font-face {\n",
       "        font-family: 'Fira Mono', monospace;\n",
       "        /*src: url('http://mirrors.ctan.org/fonts/cm-unicode/fonts/otf/cmunss.otf');*/\n",
       "    }\n",
       "    div.cell{\n",
       "        width:800px;\n",
       "        margin-left:16% !important;\n",
       "        margin-right:auto;\n",
       "    }\n",
       "    h1 {\n",
       "        font-family: 'Alegreya Sans', sans-serif;\n",
       "    }\n",
       "    h2 {\n",
       "        font-family: 'Fenix', serif;\n",
       "    }\n",
       "    h3{\n",
       "\t\tfont-family: 'Fenix', serif;\n",
       "        margin-top:12px;\n",
       "        margin-bottom: 3px;\n",
       "       }\n",
       "\th4{\n",
       "\t\tfont-family: 'Fenix', serif;\n",
       "       }\n",
       "    h5 {\n",
       "        font-family: 'Alegreya Sans', sans-serif;\n",
       "    }\t   \n",
       "    div.text_cell_render{\n",
       "        font-family: 'Fira Mono', 'Alegreya Sans',Computer Modern, \"Helvetica Neue\", Arial, Helvetica, Geneva, sans-serif;\n",
       "        line-height: 135%;\n",
       "        font-size: 120%;\n",
       "        width:700px;\n",
       "        margin-left:auto;\n",
       "        margin-right:auto;\n",
       "    }\n",
       "\n",
       "    .text_cell_render h1 {\n",
       "        font-weight: 200;\n",
       "        font-size: 30pt;\n",
       "\t\tline-height: 100%;\n",
       "        color:#CD2305;\n",
       "        margin-bottom: 0.5em;\n",
       "        margin-top: 0.5em;\n",
       "        display: block;\n",
       "    }\n",
       "\t\n",
       "    .text_cell_render h2 {\n",
       "        font-weight: 200;\n",
       "        font-size: 25pt;\n",
       "\t\tline-height: 100%;\n",
       "        color:#1a54b2;\n",
       "        margin-bottom: 0.5em;\n",
       "        margin-top: 0.5em;\n",
       "        display: block;\n",
       "    }\t\n",
       "\t\n",
       "    .text_cell_render h5 {\n",
       "        font-weight: 300;\n",
       "        font-size: 16pt;\n",
       "        color: #CD2305;\n",
       "        font-style: italic;\n",
       "        margin-bottom: .5em;\n",
       "        margin-top: 0.5em;\n",
       "        display: block;\n",
       "    }\n",
       "    \n",
       "    .warning{\n",
       "        color: rgb( 240, 20, 20 )\n",
       "        }  \n",
       "</style>\n",
       "<script>\n",
       "    MathJax.Hub.Config({\n",
       "                        TeX: {\n",
       "                           extensions: [\"AMSmath.js\"]\n",
       "                           },\n",
       "                tex2jax: {\n",
       "                    inlineMath: [ ['$','$'], [\"\\\\(\",\"\\\\)\"] ],\n",
       "                    displayMath: [ ['$$','$$'], [\"\\\\[\",\"\\\\]\"] ]\n",
       "                },\n",
       "                displayAlign: 'center', // Change this to 'center' to center equations.\n",
       "                \"HTML-CSS\": {\n",
       "                    styles: {'.MathJax_Display': {\"margin\": 4}}\n",
       "                }\n",
       "        });\n",
       "</script>\n",
       "</style>"
      ],
      "text/plain": [
       "<IPython.core.display.HTML object>"
      ]
     },
     "execution_count": 11,
     "metadata": {},
     "output_type": "execute_result"
    }
   ],
   "source": [
    "from IPython.core.display import HTML\n",
    "\n",
    "def _set_css_style(css_file_path):\n",
    "    styles = open(css_file_path, 'r').read()\n",
    "    s = '<style>%s</style>' % styles\n",
    "    return HTML(s)\n",
    "_set_css_style('../custom.css')"
   ]
  }
 ],
 "metadata": {
  "kernelspec": {
   "display_name": "Python 3",
   "language": "python",
   "name": "python3"
  },
  "language_info": {
   "codemirror_mode": {
    "name": "ipython",
    "version": 3
   },
   "file_extension": ".py",
   "mimetype": "text/x-python",
   "name": "python",
   "nbconvert_exporter": "python",
   "pygments_lexer": "ipython3",
   "version": "3.7.8"
  }
 },
 "nbformat": 4,
 "nbformat_minor": 2
}
