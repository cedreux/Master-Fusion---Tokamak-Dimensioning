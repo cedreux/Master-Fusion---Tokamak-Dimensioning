{
 "cells": [
  {
   "cell_type": "code",
   "execution_count": 134,
   "metadata": {},
   "outputs": [],
   "source": [
    "import numpy as np\n",
    "from scipy.constants import pi, e, k, mu_0"
   ]
  },
  {
   "cell_type": "code",
   "execution_count": 135,
   "metadata": {},
   "outputs": [],
   "source": [
    "# Constant terms\n",
    "C_loss = 6 * pi**2 * 10e19 * 10e-3 * e  # for W in MW.s\n",
    "C_fus = 17.59 * e * 1.18e-24 * 10**(2*19) * pi**2 / 2  # for P_fus in MW\n",
    "C_beta = 4e2 * mu_0 * 1e19 * 1e3 * e  # beta expressed in %\n",
    "C_n = 10/pi  # for n in 10^19 m^-3\n",
    "C_I = 2 * pi * 1e-6 / mu_0  # for I in MA\n",
    "C_SL = 0.0562  # confinement time in s"
   ]
  },
  {
   "cell_type": "code",
   "execution_count": 136,
   "metadata": {},
   "outputs": [],
   "source": [
    "def nTtau(M=1, kappa=1, epsilon=1, qa=1, n_N=1, R=1, B=1, beta_N=1):\n",
    "    # (n*T*Tau)^0.31\n",
    "    _nTTau = C_SL * C_n**0.41 * C_I **0.96 * C_beta**0.38 * M**0.19 * kappa**0.09 * \\\n",
    "             epsilon**0.68 * qa**(-0.96) * n_N**0.41 * R**0.42 * B**0.73 * beta_N**(-0.38)\n",
    "    return _nTTau**(1/0.31)"
   ]
  },
  {
   "cell_type": "code",
   "execution_count": 137,
   "metadata": {},
   "outputs": [],
   "source": [
    "def RB1(Q=10, lambd=5, M=1, kappa=1, epsilon=1, qa=2, n_N=1, beta_N=1):\n",
    "    \" return R**0.42 * B**0.73 \"\n",
    "    # (n*T*Tau)^0.31\n",
    "    _temp = C_SL * C_n**0.4 * R**0.42 * B**0.731 * C_I **0.96 * C_beta**0.38 * \\\n",
    "            M**0.19 * kappa**0.09 * epsilon**0.68 * qa**(-0.96) * n_N**0.41 * beta_N**(-0.38)\n",
    "        \n",
    "    return (C_loss/C_fus * Q/(1+Q/lambd)) / (_temp)\n",
    "\n",
    "def RB2(P_DT=500, kappa=1, epsilon=1, qa=2, beta_N=1):\n",
    "    \" return R**3 * B**4 \"\n",
    "    return P_DT / (C_beta**(-2) * C_fus * C_I**2 * qa**(-2) * kappa * epsilon**(4) * beta_N**(2))\n"
   ]
  },
  {
   "cell_type": "code",
   "execution_count": 138,
   "metadata": {},
   "outputs": [
    {
     "name": "stdout",
     "output_type": "stream",
     "text": [
      "b1=1067462451168.6302, b2=886836.707756209\n",
      "x=[-197.62268204  151.64086556] -> R=1.4912817144679873e-86, B=7.191030747303694e+65\n"
     ]
    }
   ],
   "source": [
    "# Check consistency with ITER parameters :\n",
    "# R = 6.2 m\n",
    "# a = 2 m, b = 6.8 m -> kappa = 3.4, epsilon = 0.32\n",
    "# Ip = 15 MA\n",
    "# B = 5.3 T\n",
    "# Q = 10, Pfus = 500 MW\n",
    "epsilon = 0.32\n",
    "kappa = 3.4\n",
    "b1 = RB1(Q=10, lambd=5, kappa=kappa, epsilon=epsilon)\n",
    "b2 = RB2(P_DT=500, kappa=kappa, epsilon=epsilon)\n",
    "\n",
    "print(f'b1={b1}, b2={b2}')\n",
    "\n",
    "# one needs to solve for (R,B) the following system:\n",
    "# R**0.42 * B**0.73 = b1\n",
    "# return R**3 * B**4 = b2\n",
    "# multiplying by log leads to :\n",
    "# 0.42 log(R) + 0.73 log(B) = log(b1)\n",
    "# 3 log(R) + 4 log(B) = log(b2)\n",
    "\n",
    "a = np.array([[0.42, 0.73], [3, 4]])\n",
    "b = np.array([np.log(b1), np.log(b2)])\n",
    "\n",
    "x = np.linalg.solve(a,b)\n",
    "R = np.exp(x[0])\n",
    "B = np.exp(x[1])\n",
    "print(f'x={x} -> R={R}, B={B}')"
   ]
  },
  {
   "cell_type": "code",
   "execution_count": 139,
   "metadata": {},
   "outputs": [
    {
     "name": "stdout",
     "output_type": "stream",
     "text": [
      "ITER: b1=7.269857437594987, b2=188052.2555768\n"
     ]
    }
   ],
   "source": [
    "R_ITER = 6.2\n",
    "B_ITER = 5.3\n",
    "\n",
    "b1_ITER = R_ITER**0.42 * B_ITER**0.73\n",
    "b2_ITER = R_ITER**3 * B_ITER**4\n",
    "print(f'ITER: b1={b1_ITER}, b2={b2_ITER}')"
   ]
  },
  {
   "cell_type": "code",
   "execution_count": 140,
   "metadata": {},
   "outputs": [
    {
     "data": {
      "text/plain": [
       "0.3225806451612903"
      ]
     },
     "execution_count": 140,
     "metadata": {},
     "output_type": "execute_result"
    }
   ],
   "source": [
    "2/6.2"
   ]
  },
  {
   "cell_type": "code",
   "execution_count": null,
   "metadata": {},
   "outputs": [],
   "source": []
  }
 ],
 "metadata": {
  "kernelspec": {
   "display_name": "Python 3",
   "language": "python",
   "name": "python3"
  },
  "language_info": {
   "codemirror_mode": {
    "name": "ipython",
    "version": 3
   },
   "file_extension": ".py",
   "mimetype": "text/x-python",
   "name": "python",
   "nbconvert_exporter": "python",
   "pygments_lexer": "ipython3",
   "version": "3.6.6"
  }
 },
 "nbformat": 4,
 "nbformat_minor": 2
}
