{
 "cells": [
  {
   "cell_type": "markdown",
   "metadata": {},
   "source": [
    "# Introduction and main quantities"
   ]
  },
  {
   "cell_type": "markdown",
   "metadata": {},
   "source": [
    "The quantities are expressed in the following units:\n",
    "-   density in $10^{19}$ $m^{-3}$\n",
    "-   temperature in $keV$\n",
    "-   current in $MA$ \n",
    "-   power in $MW$\n",
    "-   distances in $m$\n",
    "-   magnetic field in $T$\n",
    "-   time in $s$\n",
    "\n",
    "Reminder:\n",
    "- safety factor at $r=a$: $q_a$\n",
    "- inverse of the aspect ratio: $\\varepsilon=R/a$\n",
    "- elongation: $\\kappa=b/a$\n",
    "- triangularity: $\\delta$\n"
   ]
  },
  {
   "cell_type": "markdown",
   "metadata": {},
   "source": [
    "# Governing Equations and Scaling Laws"
   ]
  },
  {
   "cell_type": "code",
   "execution_count": 1,
   "metadata": {},
   "outputs": [],
   "source": [
    "%matplotlib widget \n",
    "import numpy as np\n",
    "import matplotlib.pyplot as plt\n",
    "from scipy.optimize import minimize\n",
    "from scipy.constants import pi, e, k, mu_0"
   ]
  },
  {
   "cell_type": "code",
   "execution_count": 2,
   "metadata": {},
   "outputs": [
    {
     "name": "stdout",
     "output_type": "stream",
     "text": [
      "C_loss=0.09487709656782095\n",
      "C_fus=0.001641073326484171\n",
      "C_beta=0.8053418082653762\n",
      "C_n=3.183098861837907\n",
      "C_I=4.999999999999999\n"
     ]
    }
   ],
   "source": [
    "from scaling_laws import *"
   ]
  },
  {
   "cell_type": "markdown",
   "metadata": {},
   "source": [
    "Here are the main constants $C_{loss}, C_{fus}, C_\\beta, C_n$ and $C_I$"
   ]
  },
  {
   "cell_type": "code",
   "execution_count": 3,
   "metadata": {},
   "outputs": [
    {
     "name": "stdout",
     "output_type": "stream",
     "text": [
      "C_loss=0.08159430304832602\n",
      "C_fus=0.001008275451791875\n",
      "C_beta=0.6925939551082235\n",
      "C_n=3.183098861837907\n",
      "C_I=13.148529478957025\n"
     ]
    }
   ],
   "source": [
    "print(f'C_loss={C_loss}')  # OK\n",
    "print(f'C_fus={C_fus}')  # OK\n",
    "print(f'C_beta={C_beta}')  # OK\n",
    "print(f'C_n={C_n}')  # OK\n",
    "print(f'C_I={C_I}')  # OK"
   ]
  },
  {
   "cell_type": "markdown",
   "metadata": {},
   "source": [
    "Let's use additional definition used by [Johner] "
   ]
  },
  {
   "cell_type": "code",
   "execution_count": 4,
   "metadata": {},
   "outputs": [
    {
     "name": "stdout",
     "output_type": "stream",
     "text": [
      "Meff=2.6666666666666665\n",
      "C_loss=0.08159430304832602\n",
      "C_fus=0.001008275451791875\n",
      "C_beta=0.6925939551082235\n",
      "C_I=13.148529478957025\n"
     ]
    }
   ],
   "source": [
    "print(f'Meff={Meff}')\n",
    "print(f'C_loss={C_loss}')\n",
    "print(f'C_fus={C_fus}')\n",
    "print(f'C_beta={C_beta}')\n",
    "print(f'C_I={C_I}') "
   ]
  },
  {
   "cell_type": "markdown",
   "metadata": {},
   "source": [
    "The triple product $n \\times T \\times \\tau_e$ as a function of $Q$:"
   ]
  },
  {
   "cell_type": "code",
   "execution_count": 5,
   "metadata": {},
   "outputs": [
    {
     "data": {
      "text/plain": [
       "267.58206128555094"
      ]
     },
     "execution_count": 5,
     "metadata": {},
     "output_type": "execute_result"
    }
   ],
   "source": [
    "# check from §2.8\n",
    "nTtau_fromQ(Q=10)  # ~300 for Q --> +oo"
   ]
  },
  {
   "cell_type": "code",
   "execution_count": 6,
   "metadata": {},
   "outputs": [],
   "source": [
    "_B = np.linspace(3, 9, 101)\n",
    "_R = np.linspace(2, 10, 101)\n",
    "_RR, _BB = np.meshgrid(_R, _B)\n",
    "\n",
    "_beta_N1 = beta_N1(B=_BB, R=_RR)\n",
    "_beta_N2 = beta_N2(B=_BB, R=_RR)"
   ]
  },
  {
   "cell_type": "code",
   "execution_count": 7,
   "metadata": {
    "scrolled": true
   },
   "outputs": [
    {
     "data": {
      "application/vnd.jupyter.widget-view+json": {
       "model_id": "2fe693a4800d417c9d79cc42eb909e8c",
       "version_major": 2,
       "version_minor": 0
      },
      "text/plain": [
       "FigureCanvasNbAgg()"
      ]
     },
     "metadata": {},
     "output_type": "display_data"
    }
   ],
   "source": [
    "fig, ax = plt.subplots(figsize=(7,5))\n",
    "c1=ax.contour(_RR, _BB, _beta_N1, levels=[1.4, 1.6, 1.8,  2, 2.2],\n",
    "             alpha=0.5, cmap='copper')\n",
    "ax.clabel(c1, inline=1, fontsize=10, fmt='%.1f')\n",
    "c2=ax.contour(_RR, _BB, _beta_N2, levels=[1.4, 1.6,  1.8,  2, 2.2], \n",
    "              linestyles='dashed', alpha=0.8)\n",
    "ax.clabel(c2, inline=1, fontsize=10, fmt='%.1f')\n",
    "ax.set_xlabel('R [m]')\n",
    "ax.set_ylabel('B [T]')\n",
    "ax.set_title(r'plain lines: $\\beta_N(R,B)$ from (2.10)'+' \\n'+ r' dashed lines: $\\beta_N(R,B)$ from (2.20)')\n",
    "\n",
    "# determine the points where both beta_N are equals to the target (common points)\n",
    "# from the contour lines\n",
    "# beta_N_target = 1.8 -> 3rd line on contour\n",
    "RB_sol1 = c1.allsegs[2][0]\n",
    "RB_sol2 = c2.allsegs[2][0]\n",
    "B_sol1 = RB_sol1[:,1]\n",
    "B_sol2 = np.interp(RB_sol1[:,0], RB_sol2[:,0], RB_sol2[:,1])  # interpolate to be able to find the nearest value \n",
    "\n",
    "R_sol = RB_sol1[np.argmin(np.abs(B_sol1 - B_sol2)), 0]\n",
    "B_sol = RB_sol1[np.argmin(np.abs(B_sol1 - B_sol2)), 1]\n",
    "\n",
    "ax.plot(R_sol, B_sol, '.', ms=20, color='k')\n",
    "\n",
    "ax.annotate(fr'(R,B) for $\\beta_N=1.8$: ({R_sol:.2f} m, {B_sol:.2f} T)', \n",
    "            xy=(R_sol+.1, B_sol+.1), xytext=(5,8),\n",
    "            arrowprops={'arrowstyle': '->'}, va='center')\n",
    "\n",
    "fig.savefig('beta_N.png', dpi=150)"
   ]
  },
  {
   "cell_type": "markdown",
   "metadata": {},
   "source": [
    "Since there is two equations $\\beta_{N,1}(R,B)$ and $\\beta_{N,2}(R,B)$, we solve for $(R,B)$ "
   ]
  },
  {
   "cell_type": "code",
   "execution_count": 8,
   "metadata": {},
   "outputs": [],
   "source": [
    "# for each R, find the points B for which beta_N1 = beta_N2\n",
    "from scipy.optimize import fsolve\n",
    "\n",
    "def diff_beta_N12(B, R):\n",
    "    return beta_N1(R=R, B=B) - beta_N2(R=R, B=B)\n",
    "\n",
    "B_sol12 = []\n",
    "B0 = 5\n",
    "for R in _R:\n",
    "    B_sol12.append(fsolve(diff_beta_N12, B0, args=R))\n",
    "B_sol12 = np.array(B_sol12).squeeze()"
   ]
  },
  {
   "cell_type": "code",
   "execution_count": 9,
   "metadata": {},
   "outputs": [
    {
     "data": {
      "application/vnd.jupyter.widget-view+json": {
       "model_id": "7d351fd631ab4dec8693a2d15d96af17",
       "version_major": 2,
       "version_minor": 0
      },
      "text/plain": [
       "FigureCanvasNbAgg()"
      ]
     },
     "metadata": {},
     "output_type": "display_data"
    }
   ],
   "source": [
    "from mpl_toolkits.mplot3d import Axes3D\n",
    "from matplotlib import cm\n",
    "\n",
    "fig = plt.figure()\n",
    "ax = fig.add_subplot(111, projection='3d')\n",
    "c=ax.plot_surface(_RR, _BB, _beta_N1, alpha=0.6, cmap=cm.viridis, vmin=0, vmax=3)\n",
    "ax.plot_surface(_RR, _BB, _beta_N2, alpha=0.6, cmap=cm.viridis, vmin=0, vmax=3)\n",
    "ax.set_xlabel('R [m]')\n",
    "ax.set_ylabel('B [T]')\n",
    "ax.set_zlabel(r'$\\beta_N$')\n",
    "ax.set_aspect('equal')\n",
    "ax.set_zlim(0, 5)\n",
    "ax.plot(_R, B_sol12, beta_N1(R=_R, B=B_sol12), color='r', lw=2)\n",
    "ax.set_xlim(2, 10)\n",
    "ax.set_ylim(3, 9)\n",
    "ax.view_init(azim=-45, elev=25)\n",
    "fig.colorbar(c, shrink=0.7)\n",
    "fig.tight_layout()\n",
    "ax.set_title(r'$\\beta_N$(R,B) from eq.(2.10) and (2.20)')\n",
    "fig.savefig('beta_N_3D.png', dpi=150)"
   ]
  },
  {
   "cell_type": "code",
   "execution_count": 10,
   "metadata": {},
   "outputs": [],
   "source": [
    "# relative distance between the two surfaces\n",
    "delta_beta_N12 = 2*np.abs(_beta_N1 - _beta_N2)/(_beta_N1 + _beta_N2)"
   ]
  },
  {
   "cell_type": "code",
   "execution_count": 11,
   "metadata": {},
   "outputs": [
    {
     "data": {
      "application/vnd.jupyter.widget-view+json": {
       "model_id": "41b7b8e8d5f44cfe9e01916ba8399623",
       "version_major": 2,
       "version_minor": 0
      },
      "text/plain": [
       "FigureCanvasNbAgg()"
      ]
     },
     "metadata": {},
     "output_type": "display_data"
    },
    {
     "data": {
      "text/plain": [
       "Text(0.5, 1.0, '$\\\\Delta\\\\beta_N(R,B_0)$')"
      ]
     },
     "execution_count": 11,
     "metadata": {},
     "output_type": "execute_result"
    }
   ],
   "source": [
    "fig, ax = plt.subplots()\n",
    "c=ax.pcolor(_R, _B, diff_beta_N12(_BB, _RR), cmap='PiYG', vmin=-10, vmax=10)\n",
    "fig.colorbar(c)\n",
    "ax.set_ylim(3,9)\n",
    "ax.set_xlim(2, 10)\n",
    "ax.plot(_R, B_sol12)\n",
    "#ax.plot(_R, B_sol13)\n",
    "ax.set_xlabel('R [m]')\n",
    "ax.set_ylabel('$B_0$ [T]')\n",
    "ax.set_title(r'$\\Delta\\beta_N(R,B_0)$')"
   ]
  },
  {
   "cell_type": "markdown",
   "metadata": {},
   "source": [
    "# Retrieving ITER Parameters"
   ]
  },
  {
   "cell_type": "markdown",
   "metadata": {},
   "source": [
    "# Solving from minimization"
   ]
  },
  {
   "cell_type": "markdown",
   "metadata": {},
   "source": [
    "## Solving for $\\beta_N(R,B)$"
   ]
  },
  {
   "cell_type": "code",
   "execution_count": 12,
   "metadata": {},
   "outputs": [],
   "source": [
    "# return the distance between between the target beta_N and the beta_N functions of (R,B)\n",
    "# this function is minimized to find the optimal (R,B) to get the prescribed beta_N\n",
    "def obj_fun_beta(x, beta_N=1.8):  \n",
    "    # parameters to find\n",
    "    R, B = x \n",
    "    \n",
    "    _beta_N1 = beta_N1(R=R, B=B)\n",
    "    _beta_N2 = beta_N2(R=R, B=B)\n",
    "\n",
    "    # return scalar objective function\n",
    "    return np.sqrt((beta_N - _beta_N1)**2 + (beta_N - _beta_N2)**2)"
   ]
  },
  {
   "cell_type": "code",
   "execution_count": 13,
   "metadata": {},
   "outputs": [
    {
     "name": "stdout",
     "output_type": "stream",
     "text": [
      "Solution found: R=4.94 m, B=6.12 T\n"
     ]
    }
   ],
   "source": [
    "R0, B0 = 5, 4\n",
    "x0 = [R0, B0]\n",
    "\n",
    "x = minimize(obj_fun_beta, x0, args=[1.8])\n",
    "print(f'Solution found: R={x.x[0]:.2f} m, B={x.x[1]:.2f} T')"
   ]
  },
  {
   "cell_type": "markdown",
   "metadata": {},
   "source": [
    "## Solving directly for (R,B) - not working"
   ]
  },
  {
   "cell_type": "code",
   "execution_count": 14,
   "metadata": {},
   "outputs": [
    {
     "data": {
      "text/plain": [
       "80.92461529567066"
      ]
     },
     "execution_count": 14,
     "metadata": {},
     "output_type": "execute_result"
    }
   ],
   "source": [
    "C_loss/C_fus"
   ]
  },
  {
   "cell_type": "code",
   "execution_count": 29,
   "metadata": {},
   "outputs": [],
   "source": [
    "# R^a B^b expressions\n",
    "def RB1(Q=10, lambd=ratio, M=2.7, kappa=1.7, epsilon=0.323, qa=3, n_N=0.85, beta_N=1.8):\n",
    "    \" return R**0.42 * B**0.73 \"\n",
    "    C_SL = 0.0562 # constant coef\n",
    "    # from (n*T*Tau)^0.31\n",
    "    _temp = C_SL * C_n**0.41 * C_I **0.96 * C_beta**0.38 * \\\n",
    "            M**0.19 * kappa**0.09 * epsilon**0.68 * qa**(-0.96) * n_N**0.41 * beta_N**(-0.38)\n",
    "        \n",
    "    return (C_loss/C_fus * Q/(1+Q/lambd))**0.31 / (_temp)\n",
    "\n",
    "def RB2(P_DT=410, kappa=1.7, epsilon=0.323, qa=3, beta_N=1.8):\n",
    "    \" return R**3 * B**4 \"\n",
    "    return P_DT / (C_beta**(-2) * C_fus * C_I**2 * qa**(-2) * kappa * epsilon**(4) * beta_N**(2))"
   ]
  },
  {
   "cell_type": "code",
   "execution_count": 30,
   "metadata": {},
   "outputs": [],
   "source": [
    "# initialise with ITER data \n",
    "Q_target = 10\n",
    "Pfus_target = 410\n",
    "\n",
    "beta_N_target = 1.8\n",
    "n_N_target = 0.85\n",
    "qa_target = 3\n",
    "kappa_target = 1.7\n",
    "epsilon_target = 0.323"
   ]
  },
  {
   "cell_type": "code",
   "execution_count": 31,
   "metadata": {},
   "outputs": [
    {
     "name": "stdout",
     "output_type": "stream",
     "text": [
      "RB1_target=39.73276773979957\n",
      "RB2_target=169373.7785534574\n"
     ]
    }
   ],
   "source": [
    "RB1_target = RB1(Q_target, \n",
    "                lambd=ratio, M=Meff, kappa=kappa_target, \n",
    "                epsilon=epsilon_target, qa=qa_target, \n",
    "                n_N=n_N_target, beta_N=beta_N_target)\n",
    "\n",
    "RB2_target = RB2(Pfus_target, \n",
    "                kappa=kappa_target, epsilon=epsilon_target, \n",
    "                qa=qa_target, beta_N=beta_N_target)\n",
    "\n",
    "RB_target = [RB1_target, RB2_target]\n",
    "\n",
    "print(f'RB1_target={RB1_target}')\n",
    "print(f'RB2_target={RB2_target}')"
   ]
  },
  {
   "cell_type": "code",
   "execution_count": 32,
   "metadata": {},
   "outputs": [
    {
     "name": "stdout",
     "output_type": "stream",
     "text": [
      "ITER: R^0.42 B^0.73=7.269857437594987, R^3 B^4=188052.2555768\n"
     ]
    }
   ],
   "source": [
    "R_ITER = 6.2\n",
    "B_ITER = 5.3\n",
    "\n",
    "b1_ITER = R_ITER**0.42 * B_ITER**0.73\n",
    "b2_ITER = R_ITER**3 * B_ITER**4\n",
    "print(f'ITER: R^{0.42} B^{0.73}={b1_ITER}, R^3 B^4={b2_ITER}')"
   ]
  },
  {
   "cell_type": "code",
   "execution_count": 33,
   "metadata": {},
   "outputs": [
    {
     "name": "stdout",
     "output_type": "stream",
     "text": [
      "Starting from x=[4.94, 2.6666666666666665, 1.7, 0.323, 3, 0.85, 1.8]\n",
      "Solution found: [ 4.94020630e+00  2.66646037e+00 -3.11875563e+03  8.89880100e+02\n",
      "  3.59656821e+03  8.48074532e-01 -5.84706747e+03]\n"
     ]
    },
    {
     "name": "stderr",
     "output_type": "stream",
     "text": [
      "C:\\Users\\JH218595\\AppData\\Local\\Continuum\\Anaconda3\\lib\\site-packages\\ipykernel_launcher.py:7: RuntimeWarning: invalid value encountered in double_scalars\n",
      "  import sys\n",
      "C:\\Users\\JH218595\\AppData\\Local\\Continuum\\Anaconda3\\lib\\site-packages\\ipykernel_launcher.py:7: RuntimeWarning: invalid value encountered in double_scalars\n",
      "  import sys\n",
      "C:\\Users\\JH218595\\AppData\\Local\\Continuum\\Anaconda3\\lib\\site-packages\\ipykernel_launcher.py:7: RuntimeWarning: invalid value encountered in double_scalars\n",
      "  import sys\n",
      "C:\\Users\\JH218595\\AppData\\Local\\Continuum\\Anaconda3\\lib\\site-packages\\numpy\\core\\fromnumeric.py:83: RuntimeWarning: invalid value encountered in reduce\n",
      "  return ufunc.reduce(obj, axis, dtype, out, **passkwargs)\n"
     ]
    }
   ],
   "source": [
    "# optimizing all other ITER paramaters (except (Q,Pfus)) to deduce optimum (R,B)\n",
    "def obj_fun_RB(x, Q=10, Pfus=500):  \n",
    "    # parameters to find\n",
    "    ratio, Meff, kappa, epsilon, qa, n_N, beta_N = x\n",
    "    \n",
    "    _RB1 = RB1(Q=Q,\n",
    "              lambd=ratio, M=Meff, kappa=kappa, \n",
    "              epsilon=epsilon, qa=qa, \n",
    "              n_N=n_N, beta_N=beta_N)\n",
    "\n",
    "    _RB2 = RB2(P_DT=Pfus, \n",
    "            kappa=kappa, epsilon=epsilon, \n",
    "            qa=qa, beta_N=beta_N)\n",
    "    \n",
    "    # return scalar objective function\n",
    "    return np.sqrt((_RB1 - RB_target[0])**2 + (_RB2 - RB_target[1])**2)\n",
    "\n",
    "x0 = [ratio, Meff, kappa_target, epsilon_target, qa_target, n_N_target, beta_N_target]\n",
    "x = minimize(obj_fun_RB, x0)\n",
    "print(f'Starting from x={x0}')\n",
    "print(f'Solution found: {x.x}')"
   ]
  },
  {
   "cell_type": "code",
   "execution_count": null,
   "metadata": {},
   "outputs": [],
   "source": []
  }
 ],
 "metadata": {
  "kernelspec": {
   "display_name": "Python 3",
   "language": "python",
   "name": "python3"
  },
  "language_info": {
   "codemirror_mode": {
    "name": "ipython",
    "version": 3
   },
   "file_extension": ".py",
   "mimetype": "text/x-python",
   "name": "python",
   "nbconvert_exporter": "python",
   "pygments_lexer": "ipython3",
   "version": "3.6.7"
  }
 },
 "nbformat": 4,
 "nbformat_minor": 2
}
