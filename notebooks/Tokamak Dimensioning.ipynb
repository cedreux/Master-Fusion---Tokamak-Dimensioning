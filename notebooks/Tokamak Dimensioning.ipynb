{
 "cells": [
  {
   "cell_type": "code",
   "execution_count": 1,
   "metadata": {},
   "outputs": [],
   "source": [
    "import numpy as np\n",
    "import matplotlib.pyplot as plt\n",
    "from scipy.optimize import minimize\n",
    "from scipy.constants import pi, e, k, mu_0"
   ]
  },
  {
   "cell_type": "code",
   "execution_count": 2,
   "metadata": {},
   "outputs": [],
   "source": [
    "# Constant terms\n",
    "C_loss = 6 * pi**2 * 10e19 * 10e-3 * e  *1e-2# for W in MW.s\n",
    "C_fus = 17.59 * e * 1.18e-24 * 10**(2*19) * pi**2 / 2  # for P_fus in MW\n",
    "C_beta = 4e2 * mu_0 * 1e19 * 1e3 * e  # beta expressed in %\n",
    "C_n = 10/pi  # for n in 10^19 m^-3\n",
    "C_I = 2 * pi * 1e-6 / mu_0  # for I in MA\n",
    "C_SL = 0.0562  # confinement time in s"
   ]
  },
  {
   "cell_type": "code",
   "execution_count": 3,
   "metadata": {},
   "outputs": [
    {
     "name": "stdout",
     "output_type": "stream",
     "text": [
      "C_loss=0.09487709656782095\n",
      "C_fus=0.001641073326484171\n",
      "C_beta=0.8053418082653762\n",
      "C_n=3.183098861837907\n",
      "C_I=4.999999999999999\n",
      "C_SL=0.0562\n"
     ]
    }
   ],
   "source": [
    "print(f'C_loss={C_loss}')  # factor 1e-2 ?\n",
    "print(f'C_fus={C_fus}')  # OK\n",
    "print(f'C_beta={C_beta}')  # OK\n",
    "print(f'C_n={C_n}')  # OK\n",
    "print(f'C_I={C_I}')  # OK\n",
    "print(f'C_SL={C_SL}') # OK"
   ]
  },
  {
   "cell_type": "code",
   "execution_count": 4,
   "metadata": {},
   "outputs": [],
   "source": [
    "def nTtau_fromQ(Q=10, lambd=5):\n",
    "    \" n.T.tau_e from eq (2.33) \"\n",
    "    return C_loss/C_fus * Q / (1+Q/lambd)\n",
    "\n",
    "def nTtau(M=1, kappa=1, epsilon=1, qa=1, n_N=1, R=1, B=1, beta_N=2.8):\n",
    "    # (n*T*Tau)^0.31\n",
    "    _nTTau = C_SL * C_n**0.41 * C_I **0.96 * C_beta**0.38 * M**0.19 * kappa**0.09 * \\\n",
    "             epsilon**0.68 * qa**(-0.96) * n_N**0.41 * R**0.42 * B**0.73 * beta_N**(-0.38)\n",
    "    return _nTTau**(1/0.31)"
   ]
  },
  {
   "cell_type": "code",
   "execution_count": 5,
   "metadata": {},
   "outputs": [
    {
     "data": {
      "text/plain": [
       "192.71350247155067"
      ]
     },
     "execution_count": 5,
     "metadata": {},
     "output_type": "execute_result"
    }
   ],
   "source": [
    "# check from §2.8\n",
    "nTtau_fromQ(Q=10)"
   ]
  },
  {
   "cell_type": "code",
   "execution_count": 15,
   "metadata": {},
   "outputs": [],
   "source": [
    "def beta_N_(P_DT=410, kappa=3.4, epsilon=0.32, qa=2, R=6.2, B=5.3):\n",
    "    \" beta_N from expression (2.23) \"\n",
    "    beta_N = np.sqrt(P_DT * C_beta**2 * qa**2 / \n",
    "                     (C_fus * C_I**2 * kappa * epsilon**4 * R**3 * B**4) )\n",
    "    return beta_N\n",
    "    \n",
    "def RB1(Q=10, lambd=5, M=1, kappa=3.4, epsilon=0.32, qa=2, n_N=1, beta_N=2):\n",
    "    \" return R**0.42 * B**0.73 \"\n",
    "    # (n*T*Tau)^0.31\n",
    "    _temp = C_SL * C_n**0.4 * C_I **0.96 * C_beta**0.38 * \\\n",
    "            M**0.19 * kappa**0.09 * epsilon**0.68 * qa**(-0.96) * n_N**0.41 * beta_N**(-0.38)\n",
    "        \n",
    "    return (C_loss/C_fus * Q/(1+Q/lambd)) / (_temp)\n",
    "\n",
    "def RB2(P_DT=500, kappa=3.4, epsilon=0.32, qa=2, beta_N=2):\n",
    "    \" return R**3 * B**4 \"\n",
    "    return P_DT / (C_beta**(-2) * C_fus * C_I**2 * qa**(-2) * kappa * epsilon**(4) * beta_N**(2))\n"
   ]
  },
  {
   "cell_type": "code",
   "execution_count": 16,
   "metadata": {},
   "outputs": [
    {
     "name": "stdout",
     "output_type": "stream",
     "text": [
      "beta_N=1.9664797711898485, b1=3629.4832435388657, b2=409053.4314525514\n",
      "x=[-45.79335973  37.57542006] -> R=1.2947817273806538e-20, B=2.0835195924212164e+16\n"
     ]
    }
   ],
   "source": [
    "# Check consistency with ITER parameters :\n",
    "# a = 2 m, b = 6.8 m -> kappa = 3.4, epsilon = 0.32\n",
    "# R = 6.2 m, B = 5.3, Ip = 15 MA\n",
    "# Q = 10, Pfus = 500 MW\n",
    "ITER = {'R': 6.2, 'B':5.3, 'a':2, 'Q':10, 'Pfus':410, 'Ip':15,\n",
    "        'epsilon': 0.32, 'kappa':3.4, 'qa':3, 'beta_N':2, 'n_N':1}\n",
    "\n",
    "beta_N_ITER = beta_N_(P_DT=ITER['Pfus'], kappa=ITER['kappa'], \n",
    "                     epsilon=ITER['epsilon'], \n",
    "                     B=ITER['B'], R=ITER['R'])\n",
    "\n",
    "b1_ITER = RB1(Q=ITER['Q'], \n",
    "              kappa=ITER['kappa'], epsilon=ITER['epsilon'],\n",
    "             qa=ITER['qa'], n_N=ITER['n_N'], beta_N=ITER['beta_N'])\n",
    "b2_ITER = RB2(P_DT=ITER['Pfus'], \n",
    "              kappa=ITER['kappa'], epsilon=ITER['epsilon'], \n",
    "              qa=ITER['qa'], beta_N=ITER['beta_N'])\n",
    "\n",
    "print(f'beta_N={beta_N_ITER}, b1={b1_ITER}, b2={b2_ITER}')\n",
    "\n",
    "# one needs to solve for (R,B) the following system:\n",
    "# R**0.42 * B**0.73 = b1\n",
    "# return R**3 * B**4 = b2\n",
    "# multiplying by log leads to :\n",
    "# 0.42 log(R) + 0.73 log(B) = log(b1)\n",
    "# 3 log(R) + 4 log(B) = log(b2)\n",
    "\n",
    "a = np.array([[0.42, 0.73], [3, 4]])\n",
    "b = np.array([np.log(b1_ITER), np.log(b2_ITER)])\n",
    "\n",
    "x = np.linalg.solve(a,b)\n",
    "R = np.exp(x[0])\n",
    "B = np.exp(x[1])\n",
    "print(f'x={x} -> R={R}, B={B}')"
   ]
  },
  {
   "cell_type": "code",
   "execution_count": 8,
   "metadata": {},
   "outputs": [
    {
     "name": "stdout",
     "output_type": "stream",
     "text": [
      "ITER: b1=7.269857437594987, b2=188052.2555768\n"
     ]
    }
   ],
   "source": [
    "R_ITER = 6.2\n",
    "B_ITER = 5.3\n",
    "\n",
    "b1_ITER = R_ITER**0.42 * B_ITER**0.73\n",
    "b2_ITER = R_ITER**3 * B_ITER**4\n",
    "print(f'ITER: b1={b1_ITER}, b2={b2_ITER}')"
   ]
  },
  {
   "cell_type": "code",
   "execution_count": 9,
   "metadata": {},
   "outputs": [],
   "source": [
    "# let's do the opposite : what should be the best set of parameters\n",
    "# in order to obtain ITER values of (R,B)\n",
    "def obj_fun(x):\n",
    "    # fixed parameters\n",
    "    lambd = 5\n",
    "    Q = 10\n",
    "    P_fus = 410\n",
    "    # target (ITER)\n",
    "    b1_ITER = 7.269857437594987\n",
    "    b2_ITER = 188052.2555768\n",
    "    \n",
    "    epsilon = 0.32\n",
    "    kappa = 3.4\n",
    "    # parameters to find\n",
    "    qa, n_N, beta_N = x\n",
    "    \n",
    "    b1 = RB1(Q=Q, lambd=lambd, kappa=kappa, epsilon=epsilon,\n",
    "            qa=qa, n_N=n_N, beta_N=beta_N)\n",
    "    b2 = RB2(P_DT=P_fus, kappa=kappa, epsilon=epsilon,\n",
    "             qa=qa, beta_N=beta_N)\n",
    "\n",
    "    # return scalar objective function\n",
    "    return np.sqrt((b1 - b1_ITER)**2 + (b2 - b2_ITER)**2)\n"
   ]
  },
  {
   "cell_type": "code",
   "execution_count": 10,
   "metadata": {},
   "outputs": [
    {
     "name": "stderr",
     "output_type": "stream",
     "text": [
      "C:\\Users\\JH218595\\AppData\\Local\\Continuum\\Anaconda3\\lib\\site-packages\\ipykernel_launcher.py:10: RuntimeWarning: invalid value encountered in double_scalars\n",
      "  # Remove the CWD from sys.path while we load stuff.\n",
      "C:\\Users\\JH218595\\AppData\\Local\\Continuum\\Anaconda3\\lib\\site-packages\\ipykernel_launcher.py:10: RuntimeWarning: invalid value encountered in double_scalars\n",
      "  # Remove the CWD from sys.path while we load stuff.\n",
      "C:\\Users\\JH218595\\AppData\\Local\\Continuum\\Anaconda3\\lib\\site-packages\\ipykernel_launcher.py:10: RuntimeWarning: invalid value encountered in double_scalars\n",
      "  # Remove the CWD from sys.path while we load stuff.\n",
      "C:\\Users\\JH218595\\AppData\\Local\\Continuum\\Anaconda3\\lib\\site-packages\\ipykernel_launcher.py:10: RuntimeWarning: invalid value encountered in double_scalars\n",
      "  # Remove the CWD from sys.path while we load stuff.\n",
      "C:\\Users\\JH218595\\AppData\\Local\\Continuum\\Anaconda3\\lib\\site-packages\\numpy\\core\\fromnumeric.py:83: RuntimeWarning: invalid value encountered in reduce\n",
      "  return ufunc.reduce(obj, axis, dtype, out, **passkwargs)\n"
     ]
    },
    {
     "data": {
      "text/plain": [
       "      fun: nan\n",
       " hess_inv: array([[ 2.80076264e-02, -1.68906056e+00,  2.75492236e-02],\n",
       "       [-1.68906056e+00,  1.01959159e+02, -1.66141564e+00],\n",
       "       [ 2.75492236e-02, -1.66141564e+00,  2.70983238e-02]])\n",
       "      jac: array([nan, nan, nan])\n",
       "  message: 'Desired error not necessarily achieved due to precision loss.'\n",
       "     nfev: 1211\n",
       "      nit: 19\n",
       "     njev: 242\n",
       "   status: 2\n",
       "  success: False\n",
       "        x: array([-1242.87124629, 75223.38615835, -1222.51715156])"
      ]
     },
     "execution_count": 10,
     "metadata": {},
     "output_type": "execute_result"
    }
   ],
   "source": [
    "qa, beta_N, n_N = 3, 1.9, 1\n",
    "\n",
    "x0 = [qa, n_N, beta_N]\n",
    "\n",
    "x = minimize(obj_fun, x0)\n",
    "x"
   ]
  },
  {
   "cell_type": "code",
   "execution_count": 14,
   "metadata": {},
   "outputs": [
    {
     "ename": "TypeError",
     "evalue": "'float' object is not callable",
     "output_type": "error",
     "traceback": [
      "\u001b[1;31m---------------------------------------------------------------------------\u001b[0m",
      "\u001b[1;31mTypeError\u001b[0m                                 Traceback (most recent call last)",
      "\u001b[1;32m<ipython-input-14-adf699c9f57c>\u001b[0m in \u001b[0;36m<module>\u001b[1;34m()\u001b[0m\n\u001b[1;32m----> 1\u001b[1;33m \u001b[0mbeta_N\u001b[0m\u001b[1;33m(\u001b[0m\u001b[1;33m)\u001b[0m\u001b[1;33m\u001b[0m\u001b[0m\n\u001b[0m",
      "\u001b[1;31mTypeError\u001b[0m: 'float' object is not callable"
     ]
    }
   ],
   "source": [
    "beta_N()"
   ]
  },
  {
   "cell_type": "code",
   "execution_count": 17,
   "metadata": {},
   "outputs": [
    {
     "data": {
      "text/plain": [
       "Text(0.5,0,'R [m]')"
      ]
     },
     "execution_count": 17,
     "metadata": {},
     "output_type": "execute_result"
    },
    {
     "data": {
      "image/png": "[encoded data removed]",
      "text/plain": [
       "<Figure size 432x288 with 2 Axes>"
      ]
     },
     "metadata": {},
     "output_type": "display_data"
    }
   ],
   "source": [
    "_B = np.linspace(3, 9, 101)\n",
    "_R = np.linspace(2, 10, 101)\n",
    "\n",
    "fig, axes = plt.subplots(2, 1)\n",
    "axes[0].plot(_B, beta_N_(B=_B))\n",
    "axes[0].set_xlabel('B at $R_0$ [T]')\n",
    "axes[1].plot(_R, beta_N_(R=_R))\n",
    "axes[1].set_xlabel('R [m]')"
   ]
  },
  {
   "cell_type": "code",
   "execution_count": null,
   "metadata": {},
   "outputs": [],
   "source": []
  }
 ],
 "metadata": {
  "kernelspec": {
   "display_name": "Python 3",
   "language": "python",
   "name": "python3"
  },
  "language_info": {
   "codemirror_mode": {
    "name": "ipython",
    "version": 3
   },
   "file_extension": ".py",
   "mimetype": "text/x-python",
   "name": "python",
   "nbconvert_exporter": "python",
   "pygments_lexer": "ipython3",
   "version": "3.6.6"
  }
 },
 "nbformat": 4,
 "nbformat_minor": 2
}
