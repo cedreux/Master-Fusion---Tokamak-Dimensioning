{
 "cells": [
  {
   "cell_type": "markdown",
   "metadata": {},
   "source": [
    "# Introduction and main quantities"
   ]
  },
  {
   "cell_type": "markdown",
   "metadata": {},
   "source": [
    "The quantities are expressed in the following units:\n",
    "-   density in $10^{19}$ $m^{-3}$\n",
    "-   temperature in $keV$\n",
    "-   current in $MA$ \n",
    "-   power in $MW$\n",
    "-   distances in $m$\n",
    "-   magnetic field in $T$\n",
    "-   time in $s$\n",
    "\n",
    "Reminder:\n",
    "- safety factor at $r=a$: $q_a$\n",
    "- inverse of the aspect ratio: $\\varepsilon=R/a$\n",
    "- elongation: $\\kappa=b/a$\n",
    "- triangularity: $\\delta$\n"
   ]
  },
  {
   "cell_type": "markdown",
   "metadata": {},
   "source": [
    "# Scaling Laws"
   ]
  },
  {
   "cell_type": "code",
   "execution_count": 1,
   "metadata": {},
   "outputs": [],
   "source": [
    "%matplotlib widget \n",
    "import numpy as np\n",
    "import matplotlib.pyplot as plt\n",
    "from scipy.optimize import minimize\n",
    "from scipy.constants import pi, e, k, mu_0"
   ]
  },
  {
   "cell_type": "code",
   "execution_count": 2,
   "metadata": {},
   "outputs": [],
   "source": [
    "# Constant terms\n",
    "C_loss = 6 * pi**2 * 1e19 * 1e-3 * e # for W in MW.s\n",
    "C_fus = 17.59 * e * 1.18e-24 * 1e38 * pi**2 / 2  # for P_fus in MW\n",
    "C_fus = 9.51*pi**2*e*1e14 # ?? Yanick\n",
    "C_beta = 4e2 * mu_0 * 1e19 * 1e3 * e  # beta expressed in %\n",
    "C_n = 10/pi  # for n in 10^19 m^-3\n",
    "C_I = 2 * pi * 1e-6 / mu_0  # for I in MA\n",
    "ratio = 4.94  # ratio Pfus/Palpha (=5 w/o relativistic effects; =4.94 w/ relativistic effects)"
   ]
  },
  {
   "cell_type": "code",
   "execution_count": 3,
   "metadata": {},
   "outputs": [
    {
     "name": "stdout",
     "output_type": "stream",
     "text": [
      "C_loss=0.09487709656782095\n",
      "C_fus=0.0015038019805999618\n",
      "C_beta=0.8053418082653762\n",
      "C_n=3.183098861837907\n",
      "C_I=4.999999999999999\n"
     ]
    }
   ],
   "source": [
    "print(f'C_loss={C_loss}')  # OK\n",
    "print(f'C_fus={C_fus}')  # OK\n",
    "print(f'C_beta={C_beta}')  # OK\n",
    "print(f'C_n={C_n}')  # OK\n",
    "print(f'C_I={C_I}')  # OK"
   ]
  },
  {
   "cell_type": "code",
   "execution_count": 4,
   "metadata": {},
   "outputs": [
    {
     "name": "stdout",
     "output_type": "stream",
     "text": [
      "Meff=2.6666666666666665\n",
      "C_loss=0.08159430304832602\n",
      "C_fus=0.000923935936880617\n",
      "C_beta=0.6925939551082235\n",
      "C_I=13.148529478957025\n"
     ]
    }
   ],
   "source": [
    "# Additional corrections from Johner FST 2001\n",
    "def _C_I(epsilon=0.323, kappa=1.7, delta=0.33):\n",
    "    return C_I*(1.17 - 0.65*epsilon)/(1 - epsilon**2)**2 * \\\n",
    "        0.5*(1 + kappa**2 * (1 + 2*delta**2 - 1.2*delta**3))\n",
    "\n",
    "# Additional parameters\n",
    "falpha = 0.1  # fraction of alpha particles\n",
    "fp     = 1.5  # peaking factor of the temperature profile (<p^2> = fp <p>^2)\n",
    "thetai = 1/1.25  # Ratio of Te & Ti temperatures\n",
    "\n",
    "# Modified parameters\n",
    "def _Meff(falpha=0.1):\n",
    "    \" Average ion mass [Atomic Mass Unit] \"\n",
    "    return (5 - 2*falpha)/(2*(1 - falpha))\n",
    "\n",
    "def _Cfus(falpha=0.1, thetai=0.8, fp=1.5):\n",
    "    return C_fus * (1 - 2*falpha)**2 * thetai**2 * fp\n",
    "\n",
    "def _Closs(falpha=0.1, thetai=0.8):\n",
    "    return C_loss * (1 + thetai - thetai*falpha)/2 \n",
    "\n",
    "def _Cbeta(falpha=0.1, thetai=0.8):\n",
    "    return C_beta * (1 + thetai - thetai*falpha)/2\n",
    "\n",
    "Meff = _Meff()\n",
    "C_loss = _Closs()\n",
    "C_fus = _Cfus()\n",
    "C_beta = _Cbeta()\n",
    "C_I = _C_I()\n",
    "\n",
    "print(f'Meff={Meff}')\n",
    "print(f'C_loss={C_loss}')\n",
    "print(f'C_fus={C_fus}')\n",
    "print(f'C_beta={C_beta}')\n",
    "print(f'C_I={C_I}') "
   ]
  },
  {
   "cell_type": "code",
   "execution_count": 5,
   "metadata": {},
   "outputs": [],
   "source": [
    "def nTtau_fromQ(Q=10, lambd=ratio):\n",
    "    \" n.T.tau_e from eq (2.18) \"\n",
    "    return C_loss/C_fus * Q / (1 + Q/lambd)\n",
    "\n",
    "# TODO : the following is not usefull later\n",
    "def nTtau(M=2.7, kappa=1.7, epsilon=0.323, qa=3, n_N=0.85, R=6.2, B=5.3, beta_N=1.8):\n",
    "    \" n.T.tau_e from eq (2.20) \"\n",
    "    C_SL = 0.0562\n",
    "    # (n*T*Tau)^0.31 \n",
    "    _nTTau = C_SL * C_n**0.41 * C_I **0.96 * C_beta**0.38 * M**0.19 * kappa**0.09 * \\\n",
    "             epsilon**0.68 * qa**(-0.96) * n_N**0.41 * R**0.42 * B**0.73 * beta_N**(-0.38)\n",
    "    return _nTTau**(1/0.31)"
   ]
  },
  {
   "cell_type": "code",
   "execution_count": 6,
   "metadata": {},
   "outputs": [
    {
     "data": {
      "text/plain": [
       "292.00771716378296"
      ]
     },
     "execution_count": 6,
     "metadata": {},
     "output_type": "execute_result"
    }
   ],
   "source": [
    "# check from §2.8\n",
    "nTtau_fromQ(Q=10)  # ~300 for Q --> +oo"
   ]
  },
  {
   "cell_type": "code",
   "execution_count": 7,
   "metadata": {},
   "outputs": [],
   "source": [
    "# beta_N expressions\n",
    "def _beta_N1(P_DT=410, kappa=1.7, epsilon=0.323, qa=3, R=6.2, B=5.3):\n",
    "    \" beta_N from expression (2.10) \"\n",
    "    beta_N = qa * C_beta * np.sqrt(P_DT /(R**3 * B**4))  / \\\n",
    "                     np.sqrt(C_fus * C_I**2 * kappa * epsilon**4)\n",
    "    return beta_N\n",
    "\n",
    "def _beta_N2(Q=10, lambd=ratio, M=2.7, kappa=1.7, epsilon=0.323, qa=3, n_N=0.85, beta_N=1.8, R=6.2, B=5.3):\n",
    "    \" beta_N from expression (2.20)\"\n",
    "    _nTtau = nTtau_fromQ(Q, lambd)\n",
    "    numer = _nTtau**0.31\n",
    "    C_SL = 0.0562\n",
    "    denom = C_SL * C_n**0.41 * C_beta**0.96 * M**0.19 * kappa**0.09 * epsilon**0.68 * \\\n",
    "            qa**(-0.96) * n_N**0.41 * R**0.42 * B**0.73\n",
    "    return (numer/denom)**(-1/0.38) * 1e5 # why x 1e5 to have the correct scale?\n",
    "\n",
    "\n",
    "def _beta_N3(Q=10, lambd=ratio, M=2.7, kappa=1.7, epsilon=0.323, qa=3, n_N=0.85, beta_N=1.8, R=6.2, B=5.3, IPB98=True):\n",
    "    if IPB98:  # Case ITER IPB98(y,2): ELMy H-mode\n",
    "        C_SL = 0.0562 # constant coef\n",
    "        aM = 0.19 # average mass\n",
    "        aK = 0.78 # elongation kappa\n",
    "        aE = 0.58 # inverse aspect ratio epsilon\n",
    "        aN = 0.41 # density\n",
    "        aI = 0.93 #  plasma current\n",
    "        aR = 1.97 #  major radius\n",
    "        aB = 0.15 #  magnetic field\n",
    "        aP = -0.69 #  net power\n",
    "    else:  # [Sips et al., NF 58 (2018) 126010]\n",
    "        C_SL = 0.028 #  constant coef\n",
    "        aM = 0.14 #  average mass\n",
    "        aK = 0.75 #  elongation kappa\n",
    "        aE = 0.30 #   inverse aspect ratio epsilon\n",
    "        aN = 0.49 #   density\n",
    "        aI = 0.83 #   plasma current\n",
    "        aR = 1.51 #  major radius\n",
    "        aB = 0.07 #   magnetic field\n",
    "        aP = -0.55 #   net power\n",
    "    abetaN = 1+2*aP\n",
    "    return (C_SL * C_n**aN * C_fus**(1+aP) / C_loss)**(-1/abetaN) * \\\n",
    "        C_I**(-1 - (aN+aI)/abetaN) * C_beta * \\\n",
    "        (M**aM * kappa**(aK+aP) * epsilon**(aE+2*aI+1+4*aP))**(-1/abetaN) * \\\n",
    "        qa**(1+(aN+aI)/abetaN) * (n_N**aN * R**(aR+aI-aN+3*aP))**(-1/abetaN) * \\\n",
    "        B**(-2-(aB+aN+aI)/abetaN) * ((1+Q/lambd)/Q)**(-(1+aP)/abetaN)"
   ]
  },
  {
   "cell_type": "code",
   "execution_count": 8,
   "metadata": {},
   "outputs": [
    {
     "data": {
      "text/plain": [
       "1.784534657762421"
      ]
     },
     "execution_count": 8,
     "metadata": {},
     "output_type": "execute_result"
    }
   ],
   "source": [
    "_beta_N1()"
   ]
  },
  {
   "cell_type": "code",
   "execution_count": 9,
   "metadata": {},
   "outputs": [
    {
     "data": {
      "text/plain": [
       "1.6435813458224864"
      ]
     },
     "execution_count": 9,
     "metadata": {},
     "output_type": "execute_result"
    }
   ],
   "source": [
    "_beta_N2()"
   ]
  },
  {
   "cell_type": "code",
   "execution_count": 10,
   "metadata": {},
   "outputs": [
    {
     "data": {
      "text/plain": [
       "1.8285413942173556"
      ]
     },
     "execution_count": 10,
     "metadata": {},
     "output_type": "execute_result"
    }
   ],
   "source": [
    "_beta_N3(IPB98=True)"
   ]
  },
  {
   "cell_type": "code",
   "execution_count": 11,
   "metadata": {},
   "outputs": [],
   "source": [
    "_B = np.linspace(3, 9, 101)\n",
    "_R = np.linspace(2, 10, 101)\n",
    "_RR, _BB = np.meshgrid(_R, _B)\n",
    "\n",
    "beta_N1 = _beta_N1(B=_BB, R=_RR)\n",
    "beta_N2 = _beta_N2(B=_BB, R=_RR)\n",
    "beta_N3 = _beta_N3(B=_BB, R=_RR, IPB98=False)"
   ]
  },
  {
   "cell_type": "code",
   "execution_count": 45,
   "metadata": {
    "scrolled": true
   },
   "outputs": [
    {
     "data": {
      "application/vnd.jupyter.widget-view+json": {
       "model_id": "98d3d9a69e704e4e8e1932eb2dc575b5",
       "version_major": 2,
       "version_minor": 0
      },
      "text/plain": [
       "FigureCanvasNbAgg()"
      ]
     },
     "metadata": {},
     "output_type": "display_data"
    }
   ],
   "source": [
    "fig, ax = plt.subplots(figsize=(7,5))\n",
    "c1=ax.contour(_RR, _BB, beta_N1, levels=[1.4, 1.6, 1.8,  2, 2.2],\n",
    "             alpha=0.5, cmap='copper')\n",
    "ax.clabel(c1, inline=1, fontsize=10, fmt='%.1f')\n",
    "c2=ax.contour(_RR, _BB, beta_N2, levels=[1.4, 1.6,  1.8,  2, 2.2], \n",
    "              linestyles='dashed', alpha=0.8)\n",
    "ax.clabel(c2, inline=1, fontsize=10, fmt='%.1f')\n",
    "ax.set_xlabel('R [m]')\n",
    "ax.set_ylabel('B [T]')\n",
    "ax.set_title(r'plain lines: $\\beta_N(R,B)$ from (2.10)'+' \\n'+ r' dashed lines: $\\beta_N(R,B)$ from (2.20)')\n",
    "\n",
    "# determine the points where both beta_N are equals to the target (common points)\n",
    "# from the contour lines\n",
    "# beta_N_target = 1.8 -> 3rd line on contour\n",
    "RB_sol1 = c1.allsegs[2][0]\n",
    "RB_sol2 = c2.allsegs[2][0]\n",
    "B_sol1 = RB_sol1[:,1]\n",
    "B_sol2 = np.interp(RB_sol1[:,0], RB_sol2[:,0], RB_sol2[:,1])  # interpolate to be able to find the nearest value \n",
    "\n",
    "R_sol = RB_sol1[np.argmin(np.abs(B_sol1 - B_sol2)), 0]\n",
    "B_sol = RB_sol1[np.argmin(np.abs(B_sol1 - B_sol2)), 1]\n",
    "\n",
    "ax.plot(R_sol, B_sol, '.', ms=20, color='k')\n",
    "\n",
    "ax.annotate(fr'(R,B) for $\\beta_N=1.8$: ({R_sol:.2f} m, {B_sol:.2f} T)', \n",
    "            xy=(R_sol+.1, B_sol+.1), xytext=(5,8),\n",
    "            arrowprops={'arrowstyle': '->'}, va='center')\n",
    "\n",
    "fig.savefig('beta_N.png', dpi=150)"
   ]
  },
  {
   "cell_type": "markdown",
   "metadata": {},
   "source": [
    "Since there is two equations $\\beta_{N,1}(R,B)$ and $\\beta_{N,2}(R,B)$, we solve for $(R,B)$ "
   ]
  },
  {
   "cell_type": "code",
   "execution_count": 13,
   "metadata": {},
   "outputs": [],
   "source": [
    "# for each R, find the points B for which beta_N1 = beta_N2\n",
    "from scipy.optimize import fsolve\n",
    "\n",
    "def diff_beta_N12(B, R):\n",
    "    return _beta_N1(R=R, B=B) - _beta_N2(R=R, B=B)\n",
    "\n",
    "def diff_beta_N13(B, R):\n",
    "    return _beta_N1(R=R, B=B) - _beta_N3(R=R, B=B, IPB98=True)\n",
    "\n",
    "B_sol12 = []\n",
    "B0 = 5\n",
    "for R in _R:\n",
    "    B_sol12.append(fsolve(diff_beta_N12, B0, args=R))\n",
    "B_sol12 = np.array(B_sol12).squeeze()\n",
    "\n",
    "B_sol13 = []\n",
    "for R in _R:\n",
    "    B_sol13.append(fsolve(diff_beta_N13, B0, args=R))\n",
    "B_sol13 = np.array(B_sol13).squeeze()"
   ]
  },
  {
   "cell_type": "code",
   "execution_count": 50,
   "metadata": {},
   "outputs": [
    {
     "data": {
      "application/vnd.jupyter.widget-view+json": {
       "model_id": "35bf612c34f54c3ebbffc0b8b0762e17",
       "version_major": 2,
       "version_minor": 0
      },
      "text/plain": [
       "FigureCanvasNbAgg()"
      ]
     },
     "metadata": {},
     "output_type": "display_data"
    }
   ],
   "source": [
    "from mpl_toolkits.mplot3d import Axes3D\n",
    "from matplotlib import cm\n",
    "\n",
    "fig = plt.figure()\n",
    "ax = fig.add_subplot(111, projection='3d')\n",
    "c=ax.plot_surface(_RR, _BB, beta_N1, alpha=0.6, cmap=cm.viridis, vmin=0, vmax=3)\n",
    "ax.plot_surface(_RR, _BB, beta_N2, alpha=0.6, cmap=cm.viridis, vmin=0, vmax=3)\n",
    "ax.set_xlabel('R [m]')\n",
    "ax.set_ylabel('B [T]')\n",
    "ax.set_zlabel(r'$\\beta_N$')\n",
    "ax.set_aspect('equal')\n",
    "ax.set_zlim(0, 5)\n",
    "ax.plot(_R, B_sol12, _beta_N1(R=_R, B=B_sol12), color='r', lw=2)\n",
    "ax.set_xlim(2, 10)\n",
    "ax.set_ylim(3, 9)\n",
    "ax.view_init(azim=-45, elev=25)\n",
    "fig.colorbar(c, shrink=0.7)\n",
    "fig.tight_layout()\n",
    "ax.set_title(r'$\\beta_N$(R,B) from eq.(2.10) and (2.20)')\n",
    "fig.savefig('beta_N_3D.png', dpi=150)"
   ]
  },
  {
   "cell_type": "code",
   "execution_count": 15,
   "metadata": {},
   "outputs": [],
   "source": [
    "# relative distance between the two surfaces\n",
    "delta_beta_N12 = 2*np.abs(beta_N1 - beta_N2)/(beta_N1 + beta_N2)\n",
    "delta_beta_N13 = 2*np.abs(beta_N1 - beta_N3)/(beta_N1 + beta_N3)"
   ]
  },
  {
   "cell_type": "code",
   "execution_count": 16,
   "metadata": {},
   "outputs": [
    {
     "data": {
      "application/vnd.jupyter.widget-view+json": {
       "model_id": "85e861e390a345d39adc7364431ef751",
       "version_major": 2,
       "version_minor": 0
      },
      "text/plain": [
       "FigureCanvasNbAgg()"
      ]
     },
     "metadata": {},
     "output_type": "display_data"
    },
    {
     "data": {
      "text/plain": [
       "Text(0.5, 1.0, '$\\\\Delta\\\\beta_N(R,B_0)$')"
      ]
     },
     "execution_count": 16,
     "metadata": {},
     "output_type": "execute_result"
    }
   ],
   "source": [
    "fig, ax = plt.subplots()\n",
    "c=ax.pcolor(_R, _B, diff_beta_N12(_BB, _RR), cmap='PiYG', vmin=-10, vmax=10)\n",
    "fig.colorbar(c)\n",
    "ax.set_ylim(3,9)\n",
    "ax.set_xlim(2, 10)\n",
    "ax.plot(_R, B_sol12)\n",
    "#ax.plot(_R, B_sol13)\n",
    "ax.set_xlabel('R [m]')\n",
    "ax.set_ylabel('$B_0$ [T]')\n",
    "ax.set_title(r'$\\Delta\\beta_N(R,B_0)$')"
   ]
  },
  {
   "cell_type": "code",
   "execution_count": 17,
   "metadata": {},
   "outputs": [],
   "source": [
    "# R^a B^b expressions\n",
    "def RB1(Q=10, lambd=ratio, M=2.7, kappa=1.7, epsilon=0.323, qa=3, n_N=0.85, beta_N=1.8):\n",
    "    \" return R**0.42 * B**0.73 \"\n",
    "    C_SL = 0.0562 # constant coef\n",
    "    # from (n*T*Tau)^0.31\n",
    "    _temp = C_SL * C_n**0.41 * C_I **0.96 * C_beta**0.38 * \\\n",
    "            M**0.19 * kappa**0.09 * epsilon**0.68 * qa**(-0.96) * n_N**0.41 * beta_N**(-0.38)\n",
    "        \n",
    "    return (C_loss/C_fus * Q/(1+Q/lambd))**0.31 / (_temp)\n",
    "\n",
    "def RB2(P_DT=410, kappa=1.7, epsilon=0.323, qa=3, beta_N=1.8):\n",
    "    \" return R**3 * B**4 \"\n",
    "    return P_DT / (C_beta**(-2) * C_fus * C_I**2 * qa**(-2) * kappa * epsilon**(4) * beta_N**(2))"
   ]
  },
  {
   "cell_type": "markdown",
   "metadata": {},
   "source": [
    "# Retrieving ITER Parameters"
   ]
  },
  {
   "cell_type": "markdown",
   "metadata": {},
   "source": [
    "## ITER data:\n",
    "-   aspect ratio  = 3.1\n",
    "-   elongation    = 1.85\n",
    "-   triangularity = 0.33\n",
    "-   q95           = 3\n",
    "\n",
    "The ITER target are:\n",
    "-   Fusion power  = 500 MW\n",
    "-   Fusion gain   = 10 "
   ]
  },
  {
   "cell_type": "code",
   "execution_count": 18,
   "metadata": {},
   "outputs": [],
   "source": [
    "Q_target = 10\n",
    "Pfus_target = 410\n",
    "\n",
    "beta_N_target = 1.8\n",
    "n_N_target = 0.85\n",
    "qa_target = 3\n",
    "kappa_target = 1.7\n",
    "epsilon_target = 0.323"
   ]
  },
  {
   "cell_type": "code",
   "execution_count": 19,
   "metadata": {},
   "outputs": [
    {
     "name": "stdout",
     "output_type": "stream",
     "text": [
      "RB1_target=40.823420662464116\n",
      "RB2_target=184834.7014937577\n"
     ]
    }
   ],
   "source": [
    "RB1_target = RB1(Q_target, \n",
    "                lambd=ratio, M=Meff, kappa=kappa_target, \n",
    "                epsilon=epsilon_target, qa=qa_target, \n",
    "                n_N=n_N_target, beta_N=beta_N_target)\n",
    "\n",
    "RB2_target = RB2(Pfus_target, \n",
    "                kappa=kappa_target, epsilon=epsilon_target, \n",
    "                qa=qa_target, beta_N=beta_N_target)\n",
    "\n",
    "print(f'RB1_target={RB1_target}')\n",
    "print(f'RB2_target={RB2_target}')"
   ]
  },
  {
   "cell_type": "code",
   "execution_count": 20,
   "metadata": {},
   "outputs": [
    {
     "name": "stdout",
     "output_type": "stream",
     "text": [
      "ITER: b1=7.269857437594987, b2=188052.2555768\n"
     ]
    }
   ],
   "source": [
    "R_ITER = 6.2\n",
    "B_ITER = 5.3\n",
    "\n",
    "b1_ITER = R_ITER**0.42 * B_ITER**0.73\n",
    "b2_ITER = R_ITER**3 * B_ITER**4\n",
    "print(f'ITER: b1={b1_ITER}, b2={b2_ITER}')"
   ]
  },
  {
   "cell_type": "code",
   "execution_count": 21,
   "metadata": {},
   "outputs": [],
   "source": [
    "# let's do the opposite : what should be the best set of parameters\n",
    "# in order to obtain ITER values of (R,B)\n",
    "def obj_fun(x):\n",
    "    # fixed parameters\n",
    "    lambd = ratio\n",
    "\n",
    "    # target (ITER)\n",
    "    beta_N_target = 1.7\n",
    "    \n",
    "    # parameters to find\n",
    "    R, B = x \n",
    "    \n",
    "    beta_N1 = _beta_N1(R=R, B=B)\n",
    "    beta_N2 = _beta_N3(R=R, B=B, IPB98=False)\n",
    "    #beta_N2 = _beta_N3(R=R, B=B)\n",
    "\n",
    "    # return scalar objective function\n",
    "    return np.sqrt((beta_N_target - beta_N1)**2 + (beta_N_target - beta_N2)**2)\n"
   ]
  },
  {
   "cell_type": "code",
   "execution_count": 22,
   "metadata": {},
   "outputs": [
    {
     "data": {
      "text/plain": [
       "      fun: 7.689875016042648e-09\n",
       " hess_inv: array([[ 5.72169354e-08, -4.83801408e-08],\n",
       "       [-4.83801408e-08,  5.37779199e-08]])\n",
       "      jac: array([1.19412642, 0.89152643])\n",
       "  message: 'Desired error not necessarily achieved due to precision loss.'\n",
       "     nfev: 648\n",
       "      nit: 49\n",
       "     njev: 159\n",
       "   status: 2\n",
       "  success: False\n",
       "        x: array([ 1.99153383, 12.72673209])"
      ]
     },
     "execution_count": 22,
     "metadata": {},
     "output_type": "execute_result"
    }
   ],
   "source": [
    "R0, B0 = 5, 4\n",
    "x0 = [R0, B0]\n",
    "\n",
    "x = minimize(obj_fun, x0)\n",
    "x"
   ]
  },
  {
   "cell_type": "code",
   "execution_count": null,
   "metadata": {},
   "outputs": [],
   "source": []
  }
 ],
 "metadata": {
  "kernelspec": {
   "display_name": "Python 3",
   "language": "python",
   "name": "python3"
  },
  "language_info": {
   "codemirror_mode": {
    "name": "ipython",
    "version": 3
   },
   "file_extension": ".py",
   "mimetype": "text/x-python",
   "name": "python",
   "nbconvert_exporter": "python",
   "pygments_lexer": "ipython3",
   "version": "3.6.7"
  }
 },
 "nbformat": 4,
 "nbformat_minor": 2
}
