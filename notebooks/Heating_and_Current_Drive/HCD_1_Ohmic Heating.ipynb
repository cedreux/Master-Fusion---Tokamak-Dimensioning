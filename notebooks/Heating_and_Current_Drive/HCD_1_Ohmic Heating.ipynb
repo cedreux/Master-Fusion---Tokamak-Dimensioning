{
 "cells": [
  {
   "cell_type": "code",
   "execution_count": 1,
   "metadata": {},
   "outputs": [],
   "source": [
    "%matplotlib widget"
   ]
  },
  {
   "cell_type": "code",
   "execution_count": 2,
   "metadata": {},
   "outputs": [],
   "source": [
    "import matplotlib.pyplot as plt \n",
    "import numpy as np\n",
    "from scipy.constants import m_e, epsilon_0, pi, e, mu_0"
   ]
  },
  {
   "cell_type": "markdown",
   "metadata": {},
   "source": [
    "# Ohmic Heating\n",
    "What is the maximum plasma temperature achievable with only the Ohmic heating ?\n",
    "\n",
    "We will assume steady-state power balance, assuming Ohmic heating is balancing thermal losses:\n",
    "$$\n",
    "P_\\Omega = \\frac{W}{\\tau_e}\n",
    "$$"
   ]
  },
  {
   "cell_type": "markdown",
   "metadata": {},
   "source": [
    "## 0D Analysis"
   ]
  },
  {
   "cell_type": "markdown",
   "metadata": {},
   "source": [
    "Here we will assume that the main dimensions of the machine have been fixed to:\n",
    "\n",
    "- $a$ = 2 m\n",
    "- $\\varepsilon$ = 0.4\n",
    "- $\\kappa$ = 2\n",
    "- $B$ = 4.7 T\n",
    "- $n_{20}$ = 1.5 [$\\times 10^{20}$ $m^{-3}$]\n",
    "- $q_\\star$ = 2\n",
    "- $A$ = 2.5"
   ]
  },
  {
   "cell_type": "markdown",
   "metadata": {},
   "source": [
    "The plasma thermal losses are\n",
    "$$\n",
    "P_t = \\frac{W}{\\tau_e}\n",
    "$$\n",
    "where palsma energy is:\n",
    "$$\n",
    "    W = 3 n T V\n",
    "$$\n",
    "and the confinement time, for L-mode (relevant mode here) is :\n",
    "$$\n",
    "\\tau_L\n",
    "=\n",
    "0.048  I^{0.85} R^{1.2} \\kappa^{0.5} \\hat n^{0.1} B^{0.2} A^{0.5} P^{-0.5}  \n",
    "$$\n",
    "which can be reexpressed as:\n",
    "$$\n",
    "\\tau_L\n",
    "=\n",
    "    0.037  \n",
    "    \\frac{\\varepsilon^{0.3}}{q_\\star^{1.7}}\n",
    "    \\frac{a^{1.7} \\kappa^{1.7} \\hat B^{2.1} A}{n_{20}^{0.8} T_k}  \n",
    "$$\n",
    "\n",
    "\n",
    "The Ohmic heating is:\n",
    "$$\n",
    "    P_\\Omega\n",
    "    =\n",
    "    \\int \\eta_\\parallel J_\\parallel^2 dr\n",
    "$$\n",
    "where $\\eta_\\parallel$ is the classical (parallel) [Spitzer resistivity](https://en.wikipedia.org/wiki/Spitzer_resistivity): [Freidberg Eq.(11.15)]\n",
    "$$\n",
    "\\eta_\\parallel\n",
    "=\n",
    "0.51 \\frac{\\sqrt{2} e^2 m_e^{1/2} }{12 \\pi^{3/2} \\varepsilon_0^2 T_e^{3/2}} \\ln \\Lambda\n",
    "\\approx\n",
    "3.3 \\times 10^{-8} / \\hat T^{3/2}  \\, \\mathrm{\\Omega.m}\n",
    "$$"
   ]
  },
  {
   "cell_type": "markdown",
   "metadata": {},
   "source": [
    "So\n",
    "$$\n",
    "    P_\\Omega\n",
    "    =\n",
    "    3.3 \\times 10^{-8} \\frac{ I_p^2 }{ \\hat T^{3/2} } V\n",
    "$$"
   ]
  },
  {
   "cell_type": "code",
   "execution_count": 3,
   "metadata": {},
   "outputs": [],
   "source": [
    "def q_star(I, a=2, kappa=2, epsilon=0.4, B=4.7):\n",
    "    q = 2*pi*(a)**2 * kappa * B / (mu_0 * (a/epsilon) * I)\n",
    "    return q"
   ]
  },
  {
   "cell_type": "code",
   "execution_count": 4,
   "metadata": {},
   "outputs": [],
   "source": [
    "def tau_L(T_keV, I=15e6, a=2, B=4.7, n_20=1.5, epsilon=0.4, kappa=2, A=2.5):\n",
    "    q_s = q_star(I, a, kappa, epsilon, B)\n",
    "    tau = 0.037*epsilon**(0.3) * a**(1.7) * kappa**(1.7) * B**(2.1) * A / q_s**(1.7) / n_20**(0.8) / T_keV\n",
    "    return tau"
   ]
  },
  {
   "cell_type": "code",
   "execution_count": 5,
   "metadata": {},
   "outputs": [],
   "source": [
    "def P_th(T_keV, I=15e6, a=2, B=4.7, n_20=1.5, epsilon=0.4, kappa=2, q_star=2, A=2.5):   \n",
    "    tau = tau_L(T_keV, I=I, a=a, B=B, n_20=n_20, epsilon=epsilon, kappa=kappa,A=A)\n",
    "    P = 3*1e20*n_20 * 1e3*e*T_keV / tau\n",
    "    return P"
   ]
  },
  {
   "cell_type": "code",
   "execution_count": 6,
   "metadata": {},
   "outputs": [],
   "source": [
    "def resistivity(T_keV):\n",
    "    LnLambda = 20  # approx\n",
    "    return 0.51 * sqrt(2) * e**2 * m_e**(1/2) / (12 * pi**(3/2) * epsilon_0**2) * LnLambda / (e*1e3)**(3/2) / T_keV**(3/2)\n",
    " "
   ]
  },
  {
   "cell_type": "code",
   "execution_count": 7,
   "metadata": {},
   "outputs": [],
   "source": [
    "def P_Ohmic(T_kev, I):\n",
    "    return 3.3*1e-8 * I**2 / T_kev**(3/2)/1e6"
   ]
  },
  {
   "cell_type": "code",
   "execution_count": 8,
   "metadata": {},
   "outputs": [
    {
     "data": {
      "application/vnd.jupyter.widget-view+json": {
       "model_id": "1bb5a1c0af1d47518eded213db315ad8",
       "version_major": 2,
       "version_minor": 0
      },
      "text/plain": [
       "Canvas(toolbar=Toolbar(toolitems=[('Home', 'Reset original view', 'home', 'home'), ('Back', 'Back to previous …"
      ]
     },
     "metadata": {},
     "output_type": "display_data"
    }
   ],
   "source": [
    "n = 15e19 # m^-3\n",
    "T = np.linspace(1, 20, num=100) # keV\n",
    "Is = [10e6, 15e6, 20e6]\n",
    "\n",
    "fig, ax = plt.subplots(figsize=(8,4))\n",
    "[ax.plot(T, P_Ohmic(T,I), lw=2, color=f'C{idx}', label=f'Ohmic Power - $I_p$={I/1e6} MA') \n",
    " for (idx,I) in enumerate(Is)]\n",
    "[ax.plot(T, P_th(T, I)/1e6, ls='--', lw=2, color=f'C{idx}', label=f'Thermal losses - $I_p$={I/1e6} MA') \n",
    " for (idx,I) in enumerate(Is)]\n",
    "\n",
    "ax.set_ylabel('$p_\\Omega$ [$MW/m^3$]', fontsize=14)\n",
    "ax.set_xlabel('$\\hat T$ [keV]', fontsize=14)\n",
    "ax.set_xlim(1, 20)\n",
    "ax.set_ylim(0, 5)\n",
    "ax.legend()\n",
    "ax.tick_params(axis='both', labelsize=14)\n",
    "fig.tight_layout()\n",
    "fig.savefig('OhmicPower_vs_ThermalLosses.png', dpi=150)"
   ]
  },
  {
   "cell_type": "markdown",
   "metadata": {},
   "source": [
    "The conclusion for this 0D analysis is that for typical parameters of fusion reactor, the ohmic power is not enough to reach temperature high enough so that alpha heating becomes dominant (>7 keV). Thus the need of additional external heating systems. \n",
    "\n",
    "A different scaling law could have been choosen, for instance the Alcator scaling law:\n",
    "$$\n",
    "\\tau_e = \\frac{n_{20}}{2} a^2\n",
    "$$"
   ]
  },
  {
   "cell_type": "markdown",
   "metadata": {},
   "source": [
    "## 1D profiles\n",
    "The Ohmic heating power density is:\n",
    "$$\n",
    "    S_\\Omega (r)\n",
    "    = \\eta(r) j^2(r)\n",
    "$$\n",
    "in which both the plasma resistivity and current density depends on the geometry. The classical resistivity $\\eta^{CL}$ (Spitzer) is independant of the geometry, however neo-classical resistivity $\\eta^{NC}$ has a strong aspect ratio dependance:\n",
    "$$\n",
    "    \\eta^{NC} (r) \n",
    "    =\n",
    "    \\frac{ \\eta^{CL} }{\\left( 1 - \\left( \\frac{r}{R} \\right)^{1/2}  \\right)^2}\n",
    "$$\n",
    "Approximating the later expression for $R/a=3$, one has:\n",
    "$$\n",
    "    \\eta \n",
    "    \\approx\n",
    "    8\\times 10^{-8} Z_{eff} \\hat T^{-3/2}\n",
    "$$\n",
    "with $\\hat T$ in keV.\n",
    "\n",
    "Assuming the current profile if of the form\n",
    "$$\n",
    "    j(r) = j_0 \\left( 1 - \\frac{r^2}{a^2} \\right)^\\nu\n",
    "$$\n",
    "\n",
    "Then the averaged current density is \n",
    "$$\n",
    "    \\left< j^2 \\right>\n",
    "    =\n",
    "    \\frac{2}{a^2} \\int_0^a j^2(r) r dr\n",
    "    =\n",
    "    \\frac{j_0^2}{2\\nu + 1}\n",
    "$$"
   ]
  },
  {
   "cell_type": "code",
   "execution_count": 1,
   "metadata": {},
   "outputs": [],
   "source": [
    "import sympy as sp\n",
    "#sp.init_printing()"
   ]
  },
  {
   "cell_type": "code",
   "execution_count": 2,
   "metadata": {},
   "outputs": [],
   "source": [
    "r = sp.symbols('r', real=True)\n",
    "a, nu = sp.symbols('a nu', positive=True)"
   ]
  },
  {
   "cell_type": "code",
   "execution_count": 13,
   "metadata": {},
   "outputs": [
    {
     "data": {
      "text/latex": [
       "$\\displaystyle \\int\\limits_{0}^{a} r \\left(1 - \\frac{r^{2}}{a^{2}}\\right)^{2 \\nu}\\, dr = \\frac{a^{2} a^{4 \\nu}}{4 a^{4 \\nu} \\nu + 2 a^{4 \\nu}}$"
      ],
      "text/plain": [
       "Eq(Integral(r*(1 - r**2/a**2)**(2*nu), (r, 0, a)), a**2*a**(4*nu)/(4*a**(4*nu)*nu + 2*a**(4*nu)))"
      ]
     },
     "execution_count": 13,
     "metadata": {},
     "output_type": "execute_result"
    }
   ],
   "source": [
    "Int = sp.Integral( (1 - r**2 / a**2)**(2*nu)*r, (r,0,a) )\n",
    "sp.Eq(Int, Int.doit())"
   ]
  },
  {
   "cell_type": "markdown",
   "metadata": {},
   "source": [
    "The peak current density $j_0$ can be evaluated from Maxwell-Ampère at $r$:\n",
    "\n",
    "$$\n",
    "\\oint B \\cdot dl = \\mu_0 \\iint_\\Sigma J \\cdot dS\n",
    "$$\n",
    "leading to:\n",
    "$$\n",
    "2\\pi r B_\\theta(r) = 2\\pi\\mu_0  \\int_0^r j(r') r' dr' \n",
    "$$"
   ]
  },
  {
   "cell_type": "code",
   "execution_count": 12,
   "metadata": {},
   "outputs": [
    {
     "data": {
      "text/latex": [
       "$\\displaystyle \\int\\limits_{0}^{\\rho} \\rho_{2} \\left(1 - \\rho_{2}^{2}\\right)^{\\nu}\\, d\\rho_{2} = \\frac{\\rho^{2} \\left(1 - \\rho^{2}\\right)^{\\nu}}{2 \\nu + 2} - \\frac{\\left(1 - \\rho^{2}\\right)^{\\nu}}{2 \\nu + 2} + \\frac{1}{2 \\nu + 2}$"
      ],
      "text/plain": [
       "Eq(Integral(rho2*(1 - rho2**2)**nu, (rho2, 0, rho)), rho**2*(1 - rho**2)**nu/(2*nu + 2) - (1 - rho**2)**nu/(2*nu + 2) + 1/(2*nu + 2))"
      ]
     },
     "execution_count": 12,
     "metadata": {},
     "output_type": "execute_result"
    }
   ],
   "source": [
    "rho, rho2 = sp.symbols('rho rho2', real=True)\n",
    "expr = sp.Integral( (1 - rho2**2)**nu * rho2, (rho2,0,rho))\n",
    "sp.Eq(expr, expr.doit())"
   ]
  },
  {
   "cell_type": "markdown",
   "metadata": {},
   "source": [
    "Which simplify further to:"
   ]
  },
  {
   "cell_type": "code",
   "execution_count": 14,
   "metadata": {},
   "outputs": [
    {
     "data": {
      "text/latex": [
       "$\\displaystyle \\int\\limits_{0}^{\\rho} \\rho_{2} \\left(1 - \\rho_{2}^{2}\\right)^{\\nu}\\, d\\rho_{2} = \\frac{a^{2}}{2 \\left(2 \\nu + 1\\right)}$"
      ],
      "text/plain": [
       "Eq(Integral(rho2*(1 - rho2**2)**nu, (rho2, 0, rho)), a**2/(2*(2*nu + 1)))"
      ]
     },
     "execution_count": 14,
     "metadata": {},
     "output_type": "execute_result"
    }
   ],
   "source": [
    "sp.Eq(expr, sp.simplify(sp.collect(sp.simplify(_.rhs),  (1-rho**2)**nu)))"
   ]
  },
  {
   "cell_type": "markdown",
   "metadata": {},
   "source": [
    "So,\n",
    "$$\n",
    "B_\\theta(r) = \\frac{j_0 a^2 \\mu_0}{r}  \\frac{ 1 - \\left(1-\\frac{r^2}{a^2} \\right)^{\\nu+1} }{2(\\nu + 1)}\n",
    "$$"
   ]
  },
  {
   "cell_type": "markdown",
   "metadata": {},
   "source": [
    "Using the safety safety factor definition:"
   ]
  },
  {
   "cell_type": "markdown",
   "metadata": {},
   "source": [
    "The safety factor $q$, \n",
    "$$\n",
    "q(r) = \\frac{B(r) }{B_\\theta(r)}  \\frac{r}{R} \n",
    "$$\n",
    "can be expressed as:\n",
    "$$\n",
    "q(r) = \\frac{2(\\nu + 1)}{j_0 a^2 \\mu_0} \\frac{B(r) }{R}  \\frac{ r^2}{ 1 - (1-\\frac{r^2}{a^2})^{\\nu+1} }   \n",
    "$$\n"
   ]
  },
  {
   "cell_type": "markdown",
   "metadata": {},
   "source": [
    "Using the following limits:"
   ]
  },
  {
   "cell_type": "code",
   "execution_count": 15,
   "metadata": {},
   "outputs": [
    {
     "data": {
      "text/latex": [
       "$\\displaystyle \\lim_{r \\to 0^+}\\left(\\frac{r^{2}}{1 - \\left(1 - \\frac{r^{2}}{a^{2}}\\right)^{\\nu + 1}}\\right) = \\frac{a^{2}}{\\nu + 1}$"
      ],
      "text/plain": [
       "Eq(Limit(r**2/(1 - (1 - r**2/a**2)**(nu + 1)), r, 0), a**2/(nu + 1))"
      ]
     },
     "execution_count": 15,
     "metadata": {},
     "output_type": "execute_result"
    }
   ],
   "source": [
    "sp.Eq(\n",
    "    sp.Limit(r**2/(1-(1-r**2/a**2)**(nu+1)), r,0),\n",
    "    sp.limit(r**2/(1-(1-r**2/a**2)**(nu+1)), r,0))"
   ]
  },
  {
   "cell_type": "code",
   "execution_count": 16,
   "metadata": {},
   "outputs": [
    {
     "data": {
      "text/latex": [
       "$\\displaystyle \\lim_{r \\to a^+}\\left(\\frac{r^{2}}{1 - \\left(1 - \\frac{r^{2}}{a^{2}}\\right)^{\\nu + 1}}\\right) = a^{2}$"
      ],
      "text/plain": [
       "Eq(Limit(r**2/(1 - (1 - r**2/a**2)**(nu + 1)), r, a), a**2)"
      ]
     },
     "execution_count": 16,
     "metadata": {},
     "output_type": "execute_result"
    }
   ],
   "source": [
    "sp.Eq(\n",
    "    sp.Limit(r**2/(1-(1-r**2/a**2)**(nu+1)), r,a),\n",
    "    sp.limit(r**2/(1-(1-r**2/a**2)**(nu+1)), r,a))"
   ]
  },
  {
   "cell_type": "markdown",
   "metadata": {},
   "source": [
    "One can define:\n",
    "$$\n",
    "    q_0 \n",
    "    \\doteq \n",
    "    \\frac{2}{j_0  \\mu_0} \\frac{B_0 }{R}  \n",
    "    $$"
   ]
  },
  {
   "cell_type": "markdown",
   "metadata": {},
   "source": [
    "And \n",
    "$$\n",
    "    q_a \n",
    "    \\doteq\n",
    "    \\frac{2(\\nu + 1)}{j_0 \\mu_0} \\frac{B(a) }{R}\n",
    "    = (\\nu + 1 ) q_0 \\frac{B(a) }{B_0}\n",
    "$$"
   ]
  },
  {
   "cell_type": "markdown",
   "metadata": {},
   "source": [
    "One has for $r=0$:\n",
    "$$\n",
    "j_0 = \\frac{2}{  \\mu_0} \\frac{B(r) }{q(r)}  \\frac{1}{R}   \n",
    "$$\n",
    "which can be used for definition of $j_0$, for example in $\\left< j^2 \\right>$:\n",
    "$$\n",
    "    \\left< j^2 \\right>\n",
    "    =\n",
    "    \\left( \\frac{2}{\\mu_0} \\frac{B(r) }{R q(r)}  \\right)^2 \\frac{1}{2\\nu + 1}\n",
    "$$"
   ]
  },
  {
   "cell_type": "markdown",
   "metadata": {},
   "source": [
    "$$\n",
    "j_0 = \\frac{2(\\nu + 1)}{ a^2 \\mu_0} \\frac{r}{1 - (1)^{\\nu+1} } \\frac{B(r) }{q(r)}  \\frac{r}{R}   \n",
    "$$"
   ]
  },
  {
   "cell_type": "markdown",
   "metadata": {},
   "source": [
    "which has particular values for $r=0$ and $r=a$:\n",
    "$$\n",
    "\\frac{B(r) }{q(r)}  \\frac{r}{R}  = \\frac{j_0 a^2 \\mu_0}{r}  \\frac{ 1 - (1-\\frac{r^2}{a^2})^{\\nu+1} }{2(\\nu + 1)}\n",
    "$$\n",
    "\n",
    "$$\n",
    "q(0) = \n",
    "$$"
   ]
  },
  {
   "cell_type": "markdown",
   "metadata": {},
   "source": [
    "\n",
    "\n",
    "$$\n",
    "    P_\\Omega\n",
    "    =\n",
    "    \\eta \n",
    "    \\left< J_\\parallel^2 \\right>\n",
    "$$"
   ]
  },
  {
   "cell_type": "markdown",
   "metadata": {},
   "source": [
    "### Stylin'"
   ]
  },
  {
   "cell_type": "code",
   "execution_count": 17,
   "metadata": {},
   "outputs": [
    {
     "data": {
      "text/html": [
       "<style><link href='http://fonts.googleapis.com/css?family=Fenix' rel='stylesheet' type='text/css'>\n",
       "<link href='http://fonts.googleapis.com/css?family=Alegreya+Sans:100,300,400,500,700,800,900,100italic,300italic,400italic,500italic,700italic,800italic,900italic' rel='stylesheet' type='text/css'>\n",
       "<link href='http://fonts.googleapis.com/css?family=Source+Code+Pro:300,400' rel='stylesheet' type='text/css'>\n",
       "<link href=\"https://fonts.googleapis.com/css?family=Fira+Mono\" rel=\"stylesheet\"> \n",
       "<style>\n",
       "    @font-face {\n",
       "        font-family: 'Fira Mono', monospace;\n",
       "        /*src: url('http://mirrors.ctan.org/fonts/cm-unicode/fonts/otf/cmunss.otf');*/\n",
       "    }\n",
       "    div.cell{\n",
       "        width:800px;\n",
       "        margin-left:16% !important;\n",
       "        margin-right:auto;\n",
       "    }\n",
       "    h1 {\n",
       "        font-family: 'Alegreya Sans', sans-serif;\n",
       "    }\n",
       "    h2 {\n",
       "        font-family: 'Fenix', serif;\n",
       "    }\n",
       "    h3{\n",
       "\t\tfont-family: 'Fenix', serif;\n",
       "        margin-top:12px;\n",
       "        margin-bottom: 3px;\n",
       "       }\n",
       "\th4{\n",
       "\t\tfont-family: 'Fenix', serif;\n",
       "       }\n",
       "    h5 {\n",
       "        font-family: 'Alegreya Sans', sans-serif;\n",
       "    }\t   \n",
       "    div.text_cell_render{\n",
       "        font-family: 'Fira Mono', 'Alegreya Sans',Computer Modern, \"Helvetica Neue\", Arial, Helvetica, Geneva, sans-serif;\n",
       "        line-height: 135%;\n",
       "        font-size: 120%;\n",
       "        width:700px;\n",
       "        margin-left:auto;\n",
       "        margin-right:auto;\n",
       "    }\n",
       "\n",
       "    .text_cell_render h1 {\n",
       "        font-weight: 200;\n",
       "        font-size: 30pt;\n",
       "\t\tline-height: 100%;\n",
       "        color:#CD2305;\n",
       "        margin-bottom: 0.5em;\n",
       "        margin-top: 0.5em;\n",
       "        display: block;\n",
       "    }\n",
       "\t\n",
       "    .text_cell_render h2 {\n",
       "        font-weight: 200;\n",
       "        font-size: 25pt;\n",
       "\t\tline-height: 100%;\n",
       "        color:#1a54b2;\n",
       "        margin-bottom: 0.5em;\n",
       "        margin-top: 0.5em;\n",
       "        display: block;\n",
       "    }\t\n",
       "\t\n",
       "    .text_cell_render h5 {\n",
       "        font-weight: 300;\n",
       "        font-size: 16pt;\n",
       "        color: #CD2305;\n",
       "        font-style: italic;\n",
       "        margin-bottom: .5em;\n",
       "        margin-top: 0.5em;\n",
       "        display: block;\n",
       "    }\n",
       "    \n",
       "    .warning{\n",
       "        color: rgb( 240, 20, 20 )\n",
       "        }  \n",
       "</style>\n",
       "<script>\n",
       "    MathJax.Hub.Config({\n",
       "                        TeX: {\n",
       "                           extensions: [\"AMSmath.js\"]\n",
       "                           },\n",
       "                tex2jax: {\n",
       "                    inlineMath: [ ['$','$'], [\"\\\\(\",\"\\\\)\"] ],\n",
       "                    displayMath: [ ['$$','$$'], [\"\\\\[\",\"\\\\]\"] ]\n",
       "                },\n",
       "                displayAlign: 'center', // Change this to 'center' to center equations.\n",
       "                \"HTML-CSS\": {\n",
       "                    styles: {'.MathJax_Display': {\"margin\": 4}}\n",
       "                }\n",
       "        });\n",
       "</script>\n",
       "</style>"
      ],
      "text/plain": [
       "<IPython.core.display.HTML object>"
      ]
     },
     "execution_count": 17,
     "metadata": {},
     "output_type": "execute_result"
    }
   ],
   "source": [
    "from IPython.core.display import HTML\n",
    "\n",
    "def _set_css_style(css_file_path):\n",
    "    styles = open(css_file_path, 'r').read()\n",
    "    s = '<style>%s</style>' % styles\n",
    "    return HTML(s)\n",
    "_set_css_style('../custom.css')"
   ]
  },
  {
   "cell_type": "code",
   "execution_count": null,
   "metadata": {},
   "outputs": [],
   "source": []
  }
 ],
 "metadata": {
  "kernelspec": {
   "display_name": "Python 3",
   "language": "python",
   "name": "python3"
  },
  "language_info": {
   "codemirror_mode": {
    "name": "ipython",
    "version": 3
   },
   "file_extension": ".py",
   "mimetype": "text/x-python",
   "name": "python",
   "nbconvert_exporter": "python",
   "pygments_lexer": "ipython3",
   "version": "3.7.8"
  }
 },
 "nbformat": 4,
 "nbformat_minor": 4
}
