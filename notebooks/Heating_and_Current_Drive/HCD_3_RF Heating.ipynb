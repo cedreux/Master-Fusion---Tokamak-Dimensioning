{
 "cells": [
  {
   "cell_type": "markdown",
   "metadata": {},
   "source": [
    "# RF Heating and current drive dimensioning"
   ]
  },
  {
   "cell_type": "markdown",
   "metadata": {},
   "source": [
    "Here we explore the fabulous world of RF heating and current drive. Mostly, we try to analyse and visualize in a simple manner the dispersion relation of a magnetized cold plasma. "
   ]
  },
  {
   "cell_type": "code",
   "execution_count": 1,
   "metadata": {},
   "outputs": [],
   "source": [
    "%matplotlib widget"
   ]
  },
  {
   "cell_type": "code",
   "execution_count": 2,
   "metadata": {},
   "outputs": [],
   "source": [
    "import sys\n",
    "import numpy as np\n",
    "import matplotlib.pyplot as plt\n",
    "import astropy.units as u\n",
    "\n",
    "sys.path.append(\"../../../PlasmaPy\")\n",
    "import plasmapy as pp\n",
    "\n",
    "from plasmapy.formulary.parameters import gyrofrequency, plasma_frequency\n",
    "from plasmapy.formulary.dielectric import cold_plasma_permittivity_SDP"
   ]
  },
  {
   "cell_type": "code",
   "execution_count": 3,
   "metadata": {},
   "outputs": [],
   "source": [
    "from ipywidgets import interact, interactive, fixed, interact_manual, widgets"
   ]
  },
  {
   "cell_type": "markdown",
   "metadata": {},
   "source": [
    "# Tokamak Profiles\n",
    "As we will only use Cold Plasma approximation, only density and magnetic field profiles are necessary. "
   ]
  },
  {
   "cell_type": "code",
   "execution_count": 4,
   "metadata": {},
   "outputs": [],
   "source": [
    "# ITER Values\n",
    "deuxpi = 2*np.pi\n",
    "# Radial direction\n",
    "a = 2 # m\n",
    "R0 = 6.2 # m\n",
    "R = np.linspace(R0-a, R0+a, num=501)\n",
    "\n",
    "# Magnetic field\n",
    "B0 = 5.3 * u.T\n",
    "B = B0 * R0/R\n",
    "\n",
    "n0 = 1.5e20\n",
    "n_e0 = n0 * u.m**-3\n",
    "n_i0 = n0/2 * u.m**-3\n",
    "\n",
    "n_e = n_e0*(1 - (R-R0)**2 / a**2)\n",
    "n_i = n_i0*(1 - (R-R0)**2 / a**2)"
   ]
  },
  {
   "cell_type": "code",
   "execution_count": 5,
   "metadata": {},
   "outputs": [
    {
     "data": {
      "application/vnd.jupyter.widget-view+json": {
       "model_id": "4292a218e4f94a9d866629d92fdbe778",
       "version_major": 2,
       "version_minor": 0
      },
      "text/plain": [
       "Canvas(toolbar=Toolbar(toolitems=[('Home', 'Reset original view', 'home', 'home'), ('Back', 'Back to previous …"
      ]
     },
     "metadata": {},
     "output_type": "display_data"
    },
    {
     "data": {
      "text/plain": [
       "Text(0.5, 0, 'R [m]')"
      ]
     },
     "execution_count": 5,
     "metadata": {},
     "output_type": "execute_result"
    }
   ],
   "source": [
    "fig, (ax1,ax2) = plt.subplots(2,1, sharex=True)\n",
    "ax1.plot(R, B)\n",
    "ax1.set_ylabel('B [T]')\n",
    "ax2.plot(R, n_e/1e20)\n",
    "ax2.set_ylabel('$n_e$ [$10^{20} m^{-3}$]')\n",
    "ax2.set_xlabel('R [m]')"
   ]
  },
  {
   "cell_type": "markdown",
   "metadata": {},
   "source": [
    "# Cyclotron and Plasma Frequencies\n",
    "In order to get an order of magnitude of the frequencies involved, we first represent the cyclotron frequencies vs tokamak parameters."
   ]
  },
  {
   "cell_type": "code",
   "execution_count": 6,
   "metadata": {},
   "outputs": [],
   "source": [
    "# gyro and plasma frequencies\n",
    "omega_ce = gyrofrequency(B=B, particle='e', signed=True)\n",
    "omega_ci = gyrofrequency(B=B, particle='D+', signed=True)\n",
    "omega_pe = plasma_frequency(n_e, particle='e')\n",
    "omega_pi = plasma_frequency(n_i, particle='D+')"
   ]
  },
  {
   "cell_type": "markdown",
   "metadata": {},
   "source": [
    "The ion gyrofrequency for B=6 T is, in MHz:"
   ]
  },
  {
   "cell_type": "code",
   "execution_count": 7,
   "metadata": {},
   "outputs": [
    {
     "data": {
      "text/latex": [
       "$45.758268 \\; \\mathrm{\\frac{rad}{s}}$"
      ],
      "text/plain": [
       "<Quantity 45.75826761 rad / s>"
      ]
     },
     "execution_count": 7,
     "metadata": {},
     "output_type": "execute_result"
    }
   ],
   "source": [
    "gyrofrequency(B=6*u.T, particle='D+', signed=True)/deuxpi/1e6"
   ]
  },
  {
   "cell_type": "markdown",
   "metadata": {},
   "source": [
    "The electron gyrofrequency for B=6 T is, in GHz :"
   ]
  },
  {
   "cell_type": "code",
   "execution_count": 8,
   "metadata": {},
   "outputs": [
    {
     "data": {
      "text/latex": [
       "$167.95494 \\; \\mathrm{\\frac{rad}{s}}$"
      ],
      "text/plain": [
       "<Quantity 167.95493923 rad / s>"
      ]
     },
     "execution_count": 8,
     "metadata": {},
     "output_type": "execute_result"
    }
   ],
   "source": [
    "gyrofrequency(B=6*u.T, particle='e')/deuxpi/1e9"
   ]
  },
  {
   "cell_type": "code",
   "execution_count": 9,
   "metadata": {},
   "outputs": [
    {
     "data": {
      "application/vnd.jupyter.widget-view+json": {
       "model_id": "ceb9a9187c7d426aa18488aeb31f1d18",
       "version_major": 2,
       "version_minor": 0
      },
      "text/plain": [
       "Canvas(toolbar=Toolbar(toolitems=[('Home', 'Reset original view', 'home', 'home'), ('Back', 'Back to previous …"
      ]
     },
     "metadata": {},
     "output_type": "display_data"
    },
    {
     "data": {
      "text/plain": [
       "(10000000.0, 1000000000000.0)"
      ]
     },
     "execution_count": 9,
     "metadata": {},
     "output_type": "execute_result"
    }
   ],
   "source": [
    "# plot gyro and plasma frequencies vs Radius\n",
    "fig, ax = plt.subplots()\n",
    "ax.semilogy(R, np.abs(omega_ce)/deuxpi, label='$|f_{ce}|$')\n",
    "ax.semilogy(R, omega_ci/deuxpi, label='$f_{ci}$')\n",
    "ax.semilogy(R, np.abs(omega_pe)/deuxpi, ls='--', label='$f_{pe}$')\n",
    "ax.semilogy(R, omega_pi/deuxpi, ls='--', label='$f_{pi}$')\n",
    "\n",
    "ax.legend()\n",
    "ax.set_xlabel('R [m]')\n",
    "ax.set_ylabel('f=$\\omega/(2\\pi$) [Hz]')\n",
    "ax.grid(True)\n",
    "ax.grid(True, which='minor', axis='both')\n",
    "ax.set_xlim(4.5, 8)\n",
    "ax.set_ylim(1e7, 1e12)"
   ]
  },
  {
   "cell_type": "markdown",
   "metadata": {},
   "source": [
    "* Except at the edge, where a specific analysis should be made, one can see that the following ordering $\\omega_{ci} << \\omega_{pi} << \\omega_{pe} < |\\omega_{ce}|$ \n",
    "* Since $\\omega_{ce} > \\omega_{pe}$, only electrons respond to EC waves and are heated directly. "
   ]
  },
  {
   "cell_type": "markdown",
   "metadata": {},
   "source": [
    "# Cold Plasma Dielectric Tensor elements\n",
    "First we plot the cold plasma dielectric tensor elements vs tokamak radii for few fixed frequencies."
   ]
  },
  {
   "cell_type": "code",
   "execution_count": 10,
   "metadata": {},
   "outputs": [
    {
     "data": {
      "application/vnd.jupyter.widget-view+json": {
       "model_id": "0a11ac8d33f64774b5e1531c70c372c9",
       "version_major": 2,
       "version_minor": 0
      },
      "text/plain": [
       "interactive(children=(FloatLogSlider(value=50000000.0, description='f', max=12.0, min=6.0, step=0.01), Output(…"
      ]
     },
     "metadata": {},
     "output_type": "display_data"
    }
   ],
   "source": [
    "@interact(f = widgets.FloatLogSlider(value=50e6, base=10, min=6, max=12, step=0.01))\n",
    "def plot_SDP(f):# S, D, P cold dielectric coefficients\n",
    "    omega = f*deuxpi*u.rad/u.s\n",
    "    S, D, P = cold_plasma_permittivity_SDP(B, species=['e', 'D+'], n=[n_e, n_i], omega=omega )\n",
    "\n",
    "    fig, axes = plt.subplots(3, 1, sharex=True)\n",
    "    axes[0].semilogy(R, (S>0)*S, label=r\"$S>0$\")\n",
    "    axes[0].semilogy(R, (S<0)*np.abs(S), ls='--', label=r\"$S<0$\")\n",
    "    \n",
    "    axes[1].semilogy(R, (D>0)*D, label=r\"$D$>0\")\n",
    "    axes[1].semilogy(R, (D<0)*np.abs(D), ls='--', label=r\"$D$<0\")\n",
    "    \n",
    "    axes[2].semilogy(R, (P>0)*P, label=r\"$P$>0\")\n",
    "    axes[2].semilogy(R, (P<0)*np.abs(P), ls='--', label=r\"$P$<0\")\n",
    "    \n",
    "    [ax.axvline(R0, color='k', ls='--') for ax in axes]\n",
    "    axes[-1].set_xlabel('R [m]')\n",
    "    [ax.legend() for ax in axes]"
   ]
  },
  {
   "cell_type": "markdown",
   "metadata": {},
   "source": [
    "From the previous figure, one can deduce the following ordering when $\\omega\\approx\\omega_{ci}$: $|P| >> S >> D$"
   ]
  },
  {
   "cell_type": "markdown",
   "metadata": {},
   "source": [
    "# Solving the Dispersion Relation\n"
   ]
  },
  {
   "cell_type": "markdown",
   "metadata": {},
   "source": [
    "The cold plasma dispersion relation in slab approximation takes the form:\n",
    "$$\n",
    "    \\varepsilon_\\perp n_\\perp^4\n",
    "    -\\left[(\\varepsilon_\\perp - n_\\parallel^2)(\\varepsilon_\\perp + \\varepsilon_\\parallel) + \\varepsilon_{xy}^2 \\right] n_\\perp^2\n",
    "    + \\varepsilon_\\parallel\\left[(\\varepsilon_\\perp - n_\\parallel^2)^2 + \\varepsilon_{xy}^2 \\right]\n",
    "    =\n",
    "    0\n",
    "$$"
   ]
  },
  {
   "cell_type": "markdown",
   "metadata": {},
   "source": [
    "## ICRF\n",
    "When $\\omega \\approx \\omega_{ci}$, using the ordering found above, the dispersion relation can be approximated to:\n",
    "$$\n",
    "    -\\left[(\\varepsilon_\\perp - n_\\parallel^2)\\varepsilon_\\parallel + \\varepsilon_{xy}^2 \\right] n_\\perp^2\n",
    "    + \\varepsilon_\\parallel\\left[(\\varepsilon_\\perp - n_\\parallel^2)^2 + \\varepsilon_{xy}^2 \\right]\n",
    "    =\n",
    "    0\n",
    "$$\n",
    "which solution is:\n",
    "$$\n",
    "n_\\perp^2 \n",
    "\\approx\n",
    "\\frac{(\\varepsilon_\\perp - n_\\parallel^2)^2 + \\varepsilon_{xy}^2}{\\varepsilon_\\perp - n_\\parallel^2}\n",
    "=\n",
    "\\frac{\n",
    "    (\\varepsilon_\\perp - n_\\parallel^2) - i \\varepsilon_{xy})((\\varepsilon_\\perp - n_\\parallel^2) + i\\varepsilon_{xy})\n",
    "    }{\\varepsilon_\\perp - n_\\parallel^2}\n",
    "$$"
   ]
  },
  {
   "cell_type": "markdown",
   "metadata": {},
   "source": [
    "So two cut-off may appear for \n",
    "\n",
    "$$\n",
    "\\varepsilon_\\perp \\pm \\varepsilon_{xy} = n_\\parallel^2\n",
    "$$\n",
    "while a resonance appear for\n",
    "$$\n",
    "\\varepsilon_\\perp = n_\\parallel^2\n",
    "$$\n",
    "the hybrid resonance"
   ]
  },
  {
   "cell_type": "markdown",
   "metadata": {},
   "source": [
    "## ECRF\n",
    "The cold plasma dispersion relation can be approximated to ($n_\\parallel=0$):\n",
    "$$\n",
    "    \\varepsilon_\\perp n_\\perp^4\n",
    "    -\\left[ \\varepsilon_\\perp^2 + \\varepsilon_{xy}^2 \\right] n_\\perp^2\n",
    "    + \\varepsilon_\\parallel \\left[ \\varepsilon_\\perp^2 + \\varepsilon_{xy}^2 \\right]\n",
    "    =\n",
    "    0\n",
    "$$"
   ]
  },
  {
   "cell_type": "code",
   "execution_count": 11,
   "metadata": {},
   "outputs": [],
   "source": [
    "def disp_rel_coeffs(S, P, D, omega, n_parallel):\n",
    "    A4 = S\n",
    "    A2 = -((S - n_parallel**2) * (S + P) + (1j*D)**2)\n",
    "    A0 = P*((S - n_parallel**2)**2 + (1j*D)**2)\n",
    "    return np.array([A4,  A2,  A0])\n"
   ]
  },
  {
   "cell_type": "code",
   "execution_count": 12,
   "metadata": {},
   "outputs": [],
   "source": [
    "def n_perp_sq(f, n_parallel=1.0):\n",
    "    omega = f*deuxpi*u.rad/u.s\n",
    "    S, D, P = cold_plasma_permittivity_SDP(B, species=['e', 'D+'], n=[n_e, n_i], omega=omega )\n",
    "    ps = disp_rel_coeffs(S, P, D, omega, n_parallel)\n",
    "\n",
    "    n_perp_squared = []\n",
    "    for p in ps.T:\n",
    "        n_perp_squared.append(np.roots(p))\n",
    "\n",
    "    return np.array(n_perp_squared)"
   ]
  },
  {
   "cell_type": "code",
   "execution_count": 13,
   "metadata": {},
   "outputs": [
    {
     "data": {
      "application/vnd.jupyter.widget-view+json": {
       "model_id": "f19d4ef5fe7743afbffc083f95ca3f91",
       "version_major": 2,
       "version_minor": 0
      },
      "text/plain": [
       "interactive(children=(FloatLogSlider(value=50000000.0, description='f', max=12.0, min=6.0, step=0.01), FloatSl…"
      ]
     },
     "metadata": {},
     "output_type": "display_data"
    }
   ],
   "source": [
    "@interact(f = widgets.FloatLogSlider(value=50e6, base=10, min=6, max=12, step=0.01), \n",
    "         n_parallel = widgets.FloatSlider(value=2, min=0, max=50, step=0.1))\n",
    "def plot_n_perp_squared(f, n_parallel):\n",
    "    n_perp_squared = n_perp_sq(f, n_parallel)\n",
    "    \n",
    "    omega = f*deuxpi*u.rad/u.s\n",
    "    \n",
    "    fig, ax = plt.subplots()\n",
    "    # analytical solution\n",
    "    \n",
    "    ax.semilogy(R, (n_perp_squared[:,0] > 0) * n_perp_squared[:,0] , label='$n_\\perp^2 > 0$ (sol1)')\n",
    "    ax.semilogy(R, (n_perp_squared[:,0] < 0) * np.abs(n_perp_squared[:,0]), ls='--', color='b', label='$n_\\perp^2 < 0$ (sol1)')\n",
    "\n",
    "    ax.semilogy(R, (n_perp_squared[:,1] > 0) * n_perp_squared[:,1] , label='$n_\\perp^2 > 0$ (sol2)')\n",
    "    ax.semilogy(R, (n_perp_squared[:,1] < 0) * np.abs(n_perp_squared[:,1]), ls='--', color='orange', label='$n_\\perp^2 < 0$ (sol2)')\n",
    "\n",
    "    #S, D, P = cold_plasma_permittivity_SDP(B, species=['e', 'D+'], n=[n_e, n_i], omega=omega )\n",
    "    #n_a = ((S-n_parallel**2)**2 + (1j*D)**2)/(S - n_parallel**2)\n",
    "    #ax.semilogy(R, (n_a>0)*n_a, color='r', label=r'approx $\\omega\\approx\\omega_{ci} > 0$')\n",
    "    #ax.semilogy(R, (n_a<0)*np.abs(n_a), ls='--', color='r', label=r'approx $\\omega\\approx\\omega_{ci} < 0$')\n",
    "    \n",
    "    \n",
    "    ax.grid(True)\n",
    "    ax.grid(True, which='both', axis='both')\n",
    "    ax.set_xlabel('R [m]')\n",
    "    ax.set_ylabel('$n_\\perp^2$')\n",
    "    ax.legend()\n",
    "    ax.set_ylim(bottom=1e-1)\n",
    "    ax.axvline(R0+a, color='k', ls='--')"
   ]
  },
  {
   "cell_type": "markdown",
   "metadata": {},
   "source": [
    "Few observations:\n",
    "\n",
    "* the wave with the lowest $n_\\perp^2$ is called the 'fast-wave', as its phase velocity is higher ($v_\\phi = c/n_\\perp$)\n",
    "\n",
    "* note that the slow wave is evanesnt in vacuum ($n_\\parallel < 1$) for LHRF\n",
    "\n",
    "* Remark that for ICRF range of frequency, $n_\\perp^2$ is not positive at $R=R_0+a$ but for a value which is below. Cut-off density : value at which $n_\\perp^2=0$\n",
    "* existence of a density limit for EC but not for IC"
   ]
  },
  {
   "cell_type": "markdown",
   "metadata": {},
   "source": [
    "Below we illustrate the $n_\\perp^2$ for the X-mode on the ECRH range of frequencies"
   ]
  },
  {
   "cell_type": "code",
   "execution_count": 14,
   "metadata": {},
   "outputs": [
    {
     "data": {
      "application/vnd.jupyter.widget-view+json": {
       "model_id": "0d052fb93528431299386488f839abcf",
       "version_major": 2,
       "version_minor": 0
      },
      "text/plain": [
       "Canvas(toolbar=Toolbar(toolitems=[('Home', 'Reset original view', 'home', 'home'), ('Back', 'Back to previous …"
      ]
     },
     "metadata": {},
     "output_type": "display_data"
    },
    {
     "name": "stderr",
     "output_type": "stream",
     "text": [
      "C:\\Users\\JH218595\\AppData\\Local\\Continuum\\anaconda3\\lib\\site-packages\\numpy\\core\\_asarray.py:83: ComplexWarning: Casting complex values to real discards the imaginary part\n",
      "  return array(a, dtype, copy=False, order=order)\n"
     ]
    },
    {
     "data": {
      "text/plain": [
       "Text(0, 0.5, '$n_\\\\perp^2$')"
      ]
     },
     "execution_count": 14,
     "metadata": {},
     "output_type": "execute_result"
    }
   ],
   "source": [
    "f = np.linspace(100e9, 200e9, num=201)\n",
    "omega = f*deuxpi*u.rad/u.s\n",
    "n0 = 1.5e20 * u.m**-3\n",
    "    \n",
    "S, D, P = cold_plasma_permittivity_SDP(B=5.3*u.T, species=['e', 'D+'], n=[n0, n0/2], omega=omega)\n",
    "n_perp_square_X = (S**2 - (1j*D)**2)/S\n",
    "\n",
    "fig, ax = plt.subplots()\n",
    "ax.plot(f/1e9, n_perp_square_X)\n",
    "ax.set_xlabel('f [GHz]')   \n",
    "ax.set_ylabel('$n_\\perp^2$')"
   ]
  },
  {
   "cell_type": "markdown",
   "metadata": {},
   "source": [
    "Best frequencies are around 40 MHz and 140 GHz for ion and electron cyclotron heating in Iter. Does it match with the selected ones? What constraints on scenarios?"
   ]
  },
  {
   "cell_type": "markdown",
   "metadata": {},
   "source": [
    "# ICRH\n",
    "Cyclotron damping occurs when the wave electric field has component perpendicular to $\\bf B_0$"
   ]
  },
  {
   "cell_type": "markdown",
   "metadata": {},
   "source": [
    "## Polarization"
   ]
  },
  {
   "cell_type": "code",
   "execution_count": 15,
   "metadata": {},
   "outputs": [
    {
     "data": {
      "application/vnd.jupyter.widget-view+json": {
       "model_id": "9651ea51ffa0419589ff67c66db33927",
       "version_major": 2,
       "version_minor": 0
      },
      "text/plain": [
       "interactive(children=(FloatLogSlider(value=50000000.0, description='f', max=12.0, min=6.0, step=0.01), FloatSl…"
      ]
     },
     "metadata": {},
     "output_type": "display_data"
    }
   ],
   "source": [
    "@interact(f = widgets.FloatLogSlider(value=50e6, base=10, min=6, max=12, step=0.01), \n",
    "         n_parallel = widgets.FloatSlider(value=2, min=0, max=50, step=0.1))\n",
    "def plot_ratioE_squared(f, n_parallel):\n",
    "    n_perp_squared = n_perp_sq(f, n_parallel)\n",
    "    \n",
    "    omega = f*deuxpi*u.rad/u.s\n",
    "    S, D, P = cold_plasma_permittivity_SDP(B, species=['e', 'D+'], n=[n_e, n_i], omega=omega )\n",
    "    \n",
    "    #Ey_over_Ex = -S/(1j*D)\n",
    "    #Ez_over_Ex_1 = -np.sqrt(n_perp_squared[:,0])*n_parallel / (P - n_perp_squared[:,0])\n",
    "    #Ez_over_Ex_2 = -np.sqrt(n_perp_squared[:,1])*n_parallel / (P - n_perp_squared[:,1])\n",
    "    Ey_over_Ex1 = 1j*D/(n_perp_squared[:,0]**2 + n_parallel**2 - S)\n",
    "    Ey_over_Ex2 = 1j*D/(n_perp_squared[:,1]**2 + n_parallel**2 - S)\n",
    "    \n",
    "    Ez_over_Ex1 = n_perp_squared[:,0]*n_parallel / (n_perp_squared[:,0]**2 - P)\n",
    "    Ez_over_Ex2 = n_perp_squared[:,1]*n_parallel / (n_perp_squared[:,1]**2 - P)\n",
    "    \n",
    "    fig, ax = plt.subplots(4, 1, sharex=True)\n",
    "    ax[0].semilogy(R, np.abs(Ey_over_Ex1), label='slow wave')\n",
    "    ax[0].semilogy(R, np.abs(Ey_over_Ex2), label='fast wave')\n",
    "    ax[0].legend()\n",
    "    ax[0].set_ylabel('$|E_y/E_\\perp|$')\n",
    "    \n",
    "    ax[1].plot(R, np.angle(Ey_over_Ex1), label='slow wave')\n",
    "    ax[1].plot(R, np.angle(Ey_over_Ex2), label='fast wave')\n",
    "    ax[1].legend()\n",
    "    ax[1].set_ylabel('angle $(E_y/E_\\perp)$')\n",
    "    \n",
    "    ax[2].semilogy(R, np.abs(Ez_over_Ex1), label='slow wave')\n",
    "    ax[2].semilogy(R, np.abs(Ez_over_Ex2), label='fast wave')\n",
    "    ax[2].set_ylabel('$|E_\\parallel/E_\\perp|$')\n",
    "    ax[2].legend()\n",
    "    \n",
    "    ax[3].plot(R, np.angle(Ez_over_Ex1), label='slow wave')\n",
    "    ax[3].plot(R, np.angle(Ez_over_Ex2), label='fast wave')\n",
    "    ax[3].legend()\n",
    "    ax[3].set_ylabel('angle $(E_z/E_\\perp)$')\n",
    "    "
   ]
  },
  {
   "cell_type": "markdown",
   "metadata": {},
   "source": [
    "# Analytical treatment\n",
    "This is a try on SymPy for doing calculus job"
   ]
  },
  {
   "cell_type": "code",
   "execution_count": 16,
   "metadata": {},
   "outputs": [],
   "source": [
    "from sympy import *\n",
    "from scipy.constants import mu_0, e, m_e, m_p"
   ]
  },
  {
   "cell_type": "code",
   "execution_count": 17,
   "metadata": {},
   "outputs": [],
   "source": [
    "omega_pe, omega_pi = symbols('omega_pe omega_pi')\n",
    "omega_ce, omega_ci = symbols('omega_ce omega_ci')\n",
    "n_parallel, n_perp = symbols('n_parallel n_perp')\n",
    "omega, x = symbols('omega, x')"
   ]
  },
  {
   "cell_type": "code",
   "execution_count": 18,
   "metadata": {},
   "outputs": [],
   "source": [
    "epsilon_perp =  - omega_pe**2 / (omega**2 - omega_ce**2) - omega_pi**2 / (omega**2 - omega_ci**2)\n",
    "epsilon_parallel = 1 - omega_pe**2 / omega**2 - omega_pi**2/omega**2\n",
    "epsilon_xy = 1j * omega_pe**2 * omega_ce / (omega * (omega_ce**2 - omega**2)) + 1j * omega_pi**2 * omega_ci / (omega * (omega_ci**2 - omega**2))"
   ]
  },
  {
   "cell_type": "code",
   "execution_count": 19,
   "metadata": {},
   "outputs": [
    {
     "data": {
      "text/latex": [
       "$\\displaystyle 1 - \\frac{\\omega_{pe}^{2}}{\\omega^{2}} - \\frac{\\omega_{\\pi}^{2}}{\\omega^{2}}$"
      ],
      "text/plain": [
       "1 - omega_pe**2/omega**2 - omega_pi**2/omega**2"
      ]
     },
     "execution_count": 19,
     "metadata": {},
     "output_type": "execute_result"
    }
   ],
   "source": [
    "epsilon_parallel"
   ]
  },
  {
   "cell_type": "code",
   "execution_count": 20,
   "metadata": {},
   "outputs": [
    {
     "data": {
      "text/latex": [
       "$\\displaystyle - \\frac{\\omega_{pe}^{2}}{\\omega^{2} - \\omega_{ce}^{2}} - \\frac{\\omega_{\\pi}^{2}}{\\omega^{2} - \\omega_{ci}^{2}}$"
      ],
      "text/plain": [
       "-omega_pe**2/(omega**2 - omega_ce**2) - omega_pi**2/(omega**2 - omega_ci**2)"
      ]
     },
     "execution_count": 20,
     "metadata": {},
     "output_type": "execute_result"
    }
   ],
   "source": [
    "epsilon_perp"
   ]
  },
  {
   "cell_type": "code",
   "execution_count": 21,
   "metadata": {},
   "outputs": [
    {
     "data": {
      "text/latex": [
       "$\\displaystyle \\frac{1.0 i \\omega_{ce} \\omega_{pe}^{2}}{\\omega \\left(- \\omega^{2} + \\omega_{ce}^{2}\\right)} + \\frac{1.0 i \\omega_{ci} \\omega_{\\pi}^{2}}{\\omega \\left(- \\omega^{2} + \\omega_{ci}^{2}\\right)}$"
      ],
      "text/plain": [
       "1.0*I*omega_ce*omega_pe**2/(omega*(-omega**2 + omega_ce**2)) + 1.0*I*omega_ci*omega_pi**2/(omega*(-omega**2 + omega_ci**2))"
      ]
     },
     "execution_count": 21,
     "metadata": {},
     "output_type": "execute_result"
    }
   ],
   "source": [
    "epsilon_xy"
   ]
  },
  {
   "cell_type": "markdown",
   "metadata": {},
   "source": [
    "## Ion Cyclotron frequency range\n",
    "The ICRF frequency range is defined by $\\omega \\approx \\omega_{ci}$ and $\\omega << \\omega_{ce}$"
   ]
  },
  {
   "cell_type": "markdown",
   "metadata": {},
   "source": [
    "### Stylin'"
   ]
  },
  {
   "cell_type": "code",
   "execution_count": 22,
   "metadata": {},
   "outputs": [
    {
     "data": {
      "text/html": [
       "<style><link href='http://fonts.googleapis.com/css?family=Fenix' rel='stylesheet' type='text/css'>\n",
       "<link href='http://fonts.googleapis.com/css?family=Alegreya+Sans:100,300,400,500,700,800,900,100italic,300italic,400italic,500italic,700italic,800italic,900italic' rel='stylesheet' type='text/css'>\n",
       "<link href='http://fonts.googleapis.com/css?family=Source+Code+Pro:300,400' rel='stylesheet' type='text/css'>\n",
       "<link href=\"https://fonts.googleapis.com/css?family=Fira+Mono\" rel=\"stylesheet\"> \n",
       "<style>\n",
       "    @font-face {\n",
       "        font-family: 'Fira Mono', monospace;\n",
       "        /*src: url('http://mirrors.ctan.org/fonts/cm-unicode/fonts/otf/cmunss.otf');*/\n",
       "    }\n",
       "    div.cell{\n",
       "        width:800px;\n",
       "        margin-left:16% !important;\n",
       "        margin-right:auto;\n",
       "    }\n",
       "    h1 {\n",
       "        font-family: 'Alegreya Sans', sans-serif;\n",
       "    }\n",
       "    h2 {\n",
       "        font-family: 'Fenix', serif;\n",
       "    }\n",
       "    h3{\n",
       "\t\tfont-family: 'Fenix', serif;\n",
       "        margin-top:12px;\n",
       "        margin-bottom: 3px;\n",
       "       }\n",
       "\th4{\n",
       "\t\tfont-family: 'Fenix', serif;\n",
       "       }\n",
       "    h5 {\n",
       "        font-family: 'Alegreya Sans', sans-serif;\n",
       "    }\t   \n",
       "    div.text_cell_render{\n",
       "        font-family: 'Fira Mono', 'Alegreya Sans',Computer Modern, \"Helvetica Neue\", Arial, Helvetica, Geneva, sans-serif;\n",
       "        line-height: 135%;\n",
       "        font-size: 120%;\n",
       "        width:700px;\n",
       "        margin-left:auto;\n",
       "        margin-right:auto;\n",
       "    }\n",
       "\n",
       "    .text_cell_render h1 {\n",
       "        font-weight: 200;\n",
       "        font-size: 30pt;\n",
       "\t\tline-height: 100%;\n",
       "        color:#CD2305;\n",
       "        margin-bottom: 0.5em;\n",
       "        margin-top: 0.5em;\n",
       "        display: block;\n",
       "    }\n",
       "\t\n",
       "    .text_cell_render h2 {\n",
       "        font-weight: 200;\n",
       "        font-size: 25pt;\n",
       "\t\tline-height: 100%;\n",
       "        color:#1a54b2;\n",
       "        margin-bottom: 0.5em;\n",
       "        margin-top: 0.5em;\n",
       "        display: block;\n",
       "    }\t\n",
       "\t\n",
       "    .text_cell_render h5 {\n",
       "        font-weight: 300;\n",
       "        font-size: 16pt;\n",
       "        color: #CD2305;\n",
       "        font-style: italic;\n",
       "        margin-bottom: .5em;\n",
       "        margin-top: 0.5em;\n",
       "        display: block;\n",
       "    }\n",
       "    \n",
       "    .warning{\n",
       "        color: rgb( 240, 20, 20 )\n",
       "        }  \n",
       "</style>\n",
       "<script>\n",
       "    MathJax.Hub.Config({\n",
       "                        TeX: {\n",
       "                           extensions: [\"AMSmath.js\"]\n",
       "                           },\n",
       "                tex2jax: {\n",
       "                    inlineMath: [ ['$','$'], [\"\\\\(\",\"\\\\)\"] ],\n",
       "                    displayMath: [ ['$$','$$'], [\"\\\\[\",\"\\\\]\"] ]\n",
       "                },\n",
       "                displayAlign: 'center', // Change this to 'center' to center equations.\n",
       "                \"HTML-CSS\": {\n",
       "                    styles: {'.MathJax_Display': {\"margin\": 4}}\n",
       "                }\n",
       "        });\n",
       "</script>\n",
       "</style>"
      ],
      "text/plain": [
       "<IPython.core.display.HTML object>"
      ]
     },
     "execution_count": 22,
     "metadata": {},
     "output_type": "execute_result"
    }
   ],
   "source": [
    "from IPython.core.display import HTML\n",
    "\n",
    "def _set_css_style(css_file_path):\n",
    "    styles = open(css_file_path, 'r').read()\n",
    "    s = '<style>%s</style>' % styles\n",
    "    return HTML(s)\n",
    "_set_css_style('../custom.css')"
   ]
  },
  {
   "cell_type": "code",
   "execution_count": null,
   "metadata": {},
   "outputs": [],
   "source": []
  }
 ],
 "metadata": {
  "kernelspec": {
   "display_name": "Python 3",
   "language": "python",
   "name": "python3"
  },
  "language_info": {
   "codemirror_mode": {
    "name": "ipython",
    "version": 3
   },
   "file_extension": ".py",
   "mimetype": "text/x-python",
   "name": "python",
   "nbconvert_exporter": "python",
   "pygments_lexer": "ipython3",
   "version": "3.7.8"
  }
 },
 "nbformat": 4,
 "nbformat_minor": 4
}
