{
 "cells": [
  {
   "cell_type": "markdown",
   "metadata": {},
   "source": [
    "# Neutral Beam Injection\n",
    "In this notebook we investigate the possibility to heat the plasma by injection high energy neutral beam. Most of the analysis here follow Wesson [1] and Freidberg [2] books\n",
    "\n",
    " * [1] J. Wesson, Tokamaks, 3rf ed. (Clarendon Press - Oxford University Press, 2004).\n",
    " * [2] J. P. Freidberg, Plasma Physics and Fusion Energy (Cambridge University Press, 2007)."
   ]
  },
  {
   "cell_type": "code",
   "execution_count": 1,
   "metadata": {},
   "outputs": [],
   "source": [
    "%matplotlib widget"
   ]
  },
  {
   "cell_type": "code",
   "execution_count": 2,
   "metadata": {},
   "outputs": [],
   "source": [
    "import io  # for io.StringIo()\n",
    "import numpy as np\n",
    "from matplotlib.pyplot import *"
   ]
  },
  {
   "cell_type": "markdown",
   "metadata": {},
   "source": [
    "## Intro on beam flux and cross section"
   ]
  },
  {
   "cell_type": "code",
   "execution_count": 3,
   "metadata": {},
   "outputs": [],
   "source": [
    "# TODO"
   ]
  },
  {
   "cell_type": "markdown",
   "metadata": {},
   "source": [
    "## Energy Required for beam penetration\n",
    "How much beam energy is required for high energy neutral particles to penetrate to the center of the plasma before being ionized? The derivation depends mainly on the cross sections of ionization processes. \n",
    "\n",
    "There are three basic physical mechanisms for a high energy neutral particle $H_b$ to get ionized in a plasma specie $H_p$\n",
    " * charge exchange : $H_b + H_p^+ \\to H_b^+ + H_p$\n",
    " * ionization by ion : $H_b + H_p^+ \\to H_b^+ + H_p^+ + e$\n",
    " * ionization by electron : $H_b + e \\to H_b^+ + 2e$\n",
    " \n",
    "The absorption of the beam depend upon the cross-section for these processes, so first we must find the cross-section data "
   ]
  },
  {
   "cell_type": "markdown",
   "metadata": {},
   "source": [
    "### Cross-section "
   ]
  },
  {
   "cell_type": "markdown",
   "metadata": {},
   "source": [
    "Fits from [R. K. Janev, W. D. Langer, J. Post, Douglas E., and J. Evans, Kenneth, Elementary Processes in Hydrogen-Helium Plasmas: Cross Sections and Reaction Rate Coefficients (1987)]."
   ]
  },
  {
   "cell_type": "code",
   "execution_count": 4,
   "metadata": {},
   "outputs": [],
   "source": [
    "# Janev p253 \n",
    "PolyCoeffs = {\n",
    "    'H_2^+ + H_2 -> H_2 + H_2^+': # Reaction 4.3.1\n",
    "    [ \n",
    "        -3.427958758517e+01, # a0\n",
    "        -7.12148412518e-02,  # a1\n",
    "        4.690466187943e-02, \n",
    "        -8.033946660540e-03,\n",
    "        -2.265090924593e-03        \n",
    "        -2.102414848737e-04,\n",
    "        1.948869487515e-04,\n",
    "        -2.208124950005e-05,     \n",
    "        7.262446915488e-07],\n",
    "    'H_2^+ + H_2 -> H_2^+ + H_2^+ + e': # Reaction 4.3.2\n",
    "    [\n",
    "        -2.383489439121e+02,\n",
    "        2.38436843290e+02,\n",
    "        -1.263102889116e+02,\n",
    "        3.746454397894e+01,\n",
    "        -6.767700946931e+00,\n",
    "        7.629123486032e-01,\n",
    "        -5.246096809457e-02,\n",
    "        2.014116839267e-03,\n",
    "        -3.310073123768e-05\n",
    "    ]\n",
    "}"
   ]
  },
  {
   "cell_type": "code",
   "execution_count": 5,
   "metadata": {},
   "outputs": [],
   "source": [
    "def sigma_fromPoly(E, a):\n",
    "    ns = np.arange(len(a))\n",
    "    ln_sigma = np.sum([a_i*(np.log(E)**n) for (a_i, n) in zip(a, ns)],axis=0)\n",
    "    return np.exp(ln_sigma)*1e-4 # in m^2"
   ]
  },
  {
   "cell_type": "markdown",
   "metadata": {},
   "source": [
    "This results in the following figure, which does not match the one found in Wesson and Freidberg book (?)"
   ]
  },
  {
   "cell_type": "code",
   "execution_count": 15,
   "metadata": {},
   "outputs": [
    {
     "data": {
      "application/vnd.jupyter.widget-view+json": {
       "model_id": "5a72226e39484277a6179873cf1f28b1",
       "version_major": 2,
       "version_minor": 0
      },
      "text/plain": [
       "Canvas(toolbar=Toolbar(toolitems=[('Home', 'Reset original view', 'home', 'home'), ('Back', 'Back to previous …"
      ]
     },
     "metadata": {},
     "output_type": "display_data"
    },
    {
     "data": {
      "text/plain": [
       "(1e-21, 1e-19)"
      ]
     },
     "execution_count": 15,
     "metadata": {},
     "output_type": "execute_result"
    }
   ],
   "source": [
    "E = np.logspace(1, 6, num=301)\n",
    "# charge exchange\n",
    "sig1 = sigma_fromPoly(E, PolyCoeffs['H_2^+ + H_2 -> H_2 + H_2^+'])\n",
    "# ionisation by ions\n",
    "sig2 = sigma_fromPoly(E, PolyCoeffs['H_2^+ + H_2 -> H_2^+ + H_2^+ + e'])\n",
    "\n",
    "# Both curves do not match Wesson and Freidberg book figures... \n",
    "figure()\n",
    "loglog(E/1e3, sig1)\n",
    "loglog(E/1e3, sig2)\n",
    "xlabel('E(D) [keV]')\n",
    "grid(True)\n",
    "grid(True, which='minor')\n",
    "ylim(1e-21, 1e-19)"
   ]
  },
  {
   "cell_type": "markdown",
   "metadata": {},
   "source": [
    "Below is another tentative with the ONRL Rebook data, but again this does not match well with Wesson and Freidberg book:"
   ]
  },
  {
   "cell_type": "code",
   "execution_count": 16,
   "metadata": {},
   "outputs": [
    {
     "data": {
      "application/vnd.jupyter.widget-view+json": {
       "model_id": "5103acb84e534f688b90374901f85ede",
       "version_major": 2,
       "version_minor": 0
      },
      "text/plain": [
       "Canvas(toolbar=Toolbar(toolitems=[('Home', 'Reset original view', 'home', 'home'), ('Back', 'Back to previous …"
      ]
     },
     "metadata": {},
     "output_type": "display_data"
    },
    {
     "data": {
      "text/plain": [
       "(10, 1000.0)"
      ]
     },
     "execution_count": 16,
     "metadata": {},
     "output_type": "execute_result"
    }
   ],
   "source": [
    "# Cross sections from C. F. Barnett, Atomic Data for Fusion (1990), aka the \"ONRL Redbook\"\n",
    "\n",
    "# H_2^+ + H_2 --> H_2 + H_2^+ (A-58, p.74 ONRL Redbook) \n",
    "raw_data = '''\n",
    "2.0E+00 1.22E-15\n",
    "4.0E+00 1.12E-15\n",
    "7.0E+00 1.06E-15\n",
    "1.0E+01 1.01E-15\n",
    "2.0E+01 9.21E-16\n",
    "4.0E+01 7.03E-16\n",
    "8.0E+01 6.06E-16\n",
    "1.0E+02 5.64E-16\n",
    "2.0E+02 4.95E-16\n",
    "3.0E+02 4.89E-16\n",
    "6.0E+02 4.96E-16\n",
    "8.0E+02 5.28E-16\n",
    "1.0E+03 5.39E-16\n",
    "2.0E+03 5.49E-16\n",
    "3.0E+03 5.26E-16\n",
    "5.0E+03 4.81E-16\n",
    "8.0E+03 3.86E-16\n",
    "1.0E+04 3.39E-16\n",
    "2.0E+04 2.04E-16\n",
    "3.0E+04 1.26E-16\n",
    "5.0E+04 4.56E-17\n",
    "6.0E+04 2.72E-17\n",
    "8.0E+04 1.15E-17\n",
    "1.0E+05 6.43E-18\n",
    "'''\n",
    "E1, sigma1_cm2 = np.loadtxt(io.StringIO(raw_data), delimiter=' ', unpack=True)\n",
    "\n",
    "# H^+ + H --> H + H^+ (A-22, p.74 ONRL Redbook) \n",
    "raw_data = '''\n",
    "7.0e1 2.54e-15\n",
    "1.0e2 2.44e-15\n",
    "2.0e2 2.22e-15\n",
    "4.0e2 2.03e-15\n",
    "7.0e2 1.88e-15\n",
    "1.0e3 1.71e-15\n",
    "2.0e3 1.44e-15\n",
    "4.0e3 1.20e-15\n",
    "7.0e3 9.42e-16\n",
    "1.0e4 7.75e-16\n",
    "2.0e4 4.45e-16\n",
    "4.0e4 1.67e-16\n",
    "7.0e4 3.77e-17\n",
    "1.0e5 1.01e-17\n",
    "2.0e5 6.09e-19\n",
    "4.0e5 1.76e-20\n",
    "6.3e5 1.32e-21\n",
    "'''\n",
    "E3, sigma3_cm2 = np.loadtxt(io.StringIO(raw_data), delimiter=' ', unpack=True)\n",
    "\n",
    "#Ionization Cross Sections for H^+ + H -> H^+ + H^+ + e (ONRL Redbook D-6 p.397)\n",
    "raw_data='''\n",
    "9.4E+03 1.62E-17\n",
    "1.0E+04 1.84E-17\n",
    "1.5E+04 4.21E-17\n",
    "2.0E+04 7.20E-17\n",
    "3.0E+04 1.21E-16\n",
    "4.0E+04 1.39E-16\n",
    "4.5E+04 1.41E-16\n",
    "5.0E+04 1.40E-16\n",
    "6.0E+04 1.37E-16\n",
    "7.0E+04 1.30E-16\n",
    "8.0E+04 1.23E-16\n",
    "9.0E+04 1.16E-16\n",
    "1.0E+05 1.10E-16\n",
    "1.5E+05 8.72E-17\n",
    "2.0E+05 7.14E-17\n",
    "3.0E+05 5.14E-17\n",
    "4.0E+05 4.04E-17\n",
    "7.0E+05 2.54E-17\n",
    "1.0E+06 1.88E-17\n",
    "1.5E+06 1.34E-17\n",
    "'''\n",
    "E2, sigma2_cm2 = np.loadtxt(io.StringIO(raw_data), delimiter=' ', unpack=True)\n",
    "\n",
    "# Again, curves does not exactly match Wesson and Freidberg books...\n",
    "figure()\n",
    "loglog(E1/1e3, sigma1_cm2*1e-4, lw=2, label='A-58' )\n",
    "loglog(E3/1e3, sigma3_cm2*1e-4, lw=2, label='A-22')\n",
    "loglog(E2/1e3, sigma2_cm2*1e-4, lw=2, label='D-6')\n",
    "xlabel('E(D) [keV]')\n",
    "grid(True)\n",
    "grid(True, which='minor')\n",
    "ylim(1e-21, 1e-19)\n",
    "legend()\n",
    "xlim(10, 1e3)"
   ]
  },
  {
   "cell_type": "markdown",
   "metadata": {},
   "source": [
    "Finally we use analytical fit from Roubin's thesis, and we get closer results to Wesson & Freidberg books:"
   ]
  },
  {
   "cell_type": "code",
   "execution_count": 17,
   "metadata": {},
   "outputs": [],
   "source": [
    "# analytical fit from : J. P. Roubin, Etude de l’injection d’atomes Neutres Rapides Dans Le Tokamak T.F.R., Paris-Sud, 1987. \n",
    "def sigma_ec(E, A=2): # en cm^2\n",
    "    # A= 1 pour H^0, 2 pour D^0\n",
    "    return (0.6937e-14*(1 - 0.155*np.log10(E/A))**2) / (1 + 0.1112e-14 * (E/A)**3.3)\n",
    "\n",
    "def sigma_i(R, A=2): # en cm^2\n",
    "    # A= 1 pour H^0, 2 pour D^0\n",
    "    log10_sigma_i = -0.8712*(np.log10(E/A))**2 + 8.156*np.log10(E/A) - 34.833\n",
    "    return 10**log10_sigma_i"
   ]
  },
  {
   "cell_type": "code",
   "execution_count": 18,
   "metadata": {},
   "outputs": [
    {
     "data": {
      "application/vnd.jupyter.widget-view+json": {
       "model_id": "dc0f9c52a9e34d37989624ad76e011c1",
       "version_major": 2,
       "version_minor": 0
      },
      "text/plain": [
       "Canvas(toolbar=Toolbar(toolitems=[('Home', 'Reset original view', 'home', 'home'), ('Back', 'Back to previous …"
      ]
     },
     "metadata": {},
     "output_type": "display_data"
    },
    {
     "data": {
      "text/plain": [
       "<matplotlib.legend.Legend at 0x1c973cd2208>"
      ]
     },
     "execution_count": 18,
     "metadata": {},
     "output_type": "execute_result"
    }
   ],
   "source": [
    "# This time, this is closer than Wesson and Freidberg book.\n",
    "E = np.logspace(1, 6, num=301)\n",
    "\n",
    "figure()\n",
    "loglog(E/1e3, sigma_ec(E)*1e-4, lw=2, label='$\\sigma_{ch}$')\n",
    "loglog(E/1e3, sigma_i(E)*1e-4, lw=2, label='$\\sigma_{i}$')\n",
    "\n",
    "xlim(10, 1e3)\n",
    "xlabel('E(D) [keV]')\n",
    "grid(True)\n",
    "grid(True, which='minor')\n",
    "ylim(1e-21, 1e-19)\n",
    "legend()"
   ]
  },
  {
   "cell_type": "markdown",
   "metadata": {},
   "source": [
    "### Beam Flux Evolution"
   ]
  },
  {
   "cell_type": "markdown",
   "metadata": {},
   "source": [
    "The beam flux $\\Gamma_b = n_b v_b$ evolution is governed by the equation\n",
    "$$\n",
    "\\frac{d \\Gamma_b}{dx}\n",
    "    =\n",
    "    -n_p(x) \\left(\\sigma_{ch} + \\sigma_i + \\sigma_e \\frac{v_e}{v_b} \\right) \\Gamma_b(x)\n",
    "$$\n",
    "where $n_p$ is the background plasma electron and ion density, $\\sigma_{ch}$, $\\sigma_i$ and $\\sigma_e$ the cross sections for charge exchange, ionization  by ion and electron respectively. "
   ]
  },
  {
   "cell_type": "markdown",
   "metadata": {},
   "source": [
    "Assuming that the plasma density is relatively flat, $n_p$ is almost constant. The cross section for the ionization by electrons is much lower than the two other, so it will be neglected. \n",
    "\n",
    "Hence, the solution of the previous equation is\n",
    "$$\n",
    "    \\Gamma_b(x)\n",
    "    =\n",
    "    \\Gamma_b(0) \\left(1 - e^{-x\\lambda} \\right)\n",
    "$$\n",
    "where\n",
    "$$\n",
    "    \\lambda=\n",
    "    \\frac{1}{n_p (\\sigma_{ch} + \\sigma_i)}\n",
    "$$"
   ]
  },
  {
   "cell_type": "markdown",
   "metadata": {},
   "source": [
    "Discussion on the decay length : not to low, not too high. \n",
    "\n",
    "If the beam traverse a distance $x=2a$ at 3 decay length, hence $\\lambda\\approx 2a/3$.\n",
    "\n",
    "The beam penetration distance in the plasma can be expressed as a combination of density and cross-sections:\n",
    "$$\n",
    "d_b = \\frac{1.5}{n_p(\\sigma_{ch} + \\sigma_i)}\n",
    "$$"
   ]
  },
  {
   "cell_type": "code",
   "execution_count": 33,
   "metadata": {},
   "outputs": [
    {
     "data": {
      "application/vnd.jupyter.widget-view+json": {
       "model_id": "30a5efc5ecb244c58ce3e962b299b044",
       "version_major": 2,
       "version_minor": 0
      },
      "text/plain": [
       "Canvas(toolbar=Toolbar(toolitems=[('Home', 'Reset original view', 'home', 'home'), ('Back', 'Back to previous …"
      ]
     },
     "metadata": {},
     "output_type": "display_data"
    },
    {
     "data": {
      "text/plain": [
       "<matplotlib.legend.Legend at 0x1c97801d2c8>"
      ]
     },
     "execution_count": 33,
     "metadata": {},
     "output_type": "execute_result"
    }
   ],
   "source": [
    "# plot beam penetration vs energie and density\n",
    "E = np.logspace(1, 7, num=301)\n",
    "s_ec = sigma_ec(E)*1e-4\n",
    "s_i = sigma_i(E)*1e-4\n",
    "n_ps = [0.3e20, 1.5e20] # m^-3\n",
    "\n",
    "def d_b(n_p):\n",
    "    return 1.5/(n_p*(s_ec+s_i))\n",
    "\n",
    "figure()\n",
    "[loglog(E/1e3, d_b(n_p), label='$n_{20}$ = '+str(n_p/1e20)) for n_p in n_ps]\n",
    "xlim(10, 3e3)\n",
    "ylim(1e-1, 10)\n",
    "xlabel('E(D) [keV]')\n",
    "ylabel('Beam Penetration [m]')\n",
    "grid(True)\n",
    "grid(True, which='minor')\n",
    "axvline(100, color='b', ls='--', label='JET') # JET\n",
    "axhline(1.3, color='b', ls='--') # JET\n",
    "axhline(2.5, color='r', ls='--', label='ITER') # ITER\n",
    "axvline(800, color='r', ls='--') # ITER\n",
    "legend()\n",
    "# give conclusions about NBI system for current tokamak and for future reactor"
   ]
  },
  {
   "cell_type": "markdown",
   "metadata": {},
   "source": [
    "## Neutralization efficiency\n"
   ]
  },
  {
   "cell_type": "markdown",
   "metadata": {},
   "source": [
    "### Positive ions"
   ]
  },
  {
   "cell_type": "markdown",
   "metadata": {},
   "source": [
    "The evolution of the beam flux as it traverses the neutralizer is\n",
    "$$\n",
    "\\frac{d\\Gamma_b^+}{dx}\n",
    "    =\n",
    "    -n_n \\sigma_{ch} \\Gamma_b^+ + n_n \\sigma_i \\Gamma_b\n",
    "$$\n",
    "The model is closed assuming conservation of beam particles\n",
    "$$\n",
    "\\Gamma_b^+ + \\Gamma_b = \\Gamma_0 \\doteq \\Gamma_b^+ (0)\n",
    "$$\n",
    "\n",
    "Cross sections can be supposed as constant if both beam and neutral does not lose much energy as they progress along the neutralizer\n",
    "\n",
    "This leads to solutions:\n",
    "$$\n",
    "    \\Gamma_b^+ (x) = \\Gamma_0 \\left[ \\frac{\\lambda}{\\lambda_i} + \\left(1 - \\frac{\\lambda}{\\lambda_i} \\right) e^{-x/\\lambda} \\right]\n",
    "$$\n",
    "and \n",
    "$$\n",
    "\\Gamma_b (x) = \\Gamma_0 \\left(1 -  \\frac{\\lambda}{\\lambda_i}\\right)\\left(1 - e^{-x/\\lambda} \\right)\n",
    "$$\n"
   ]
  },
  {
   "cell_type": "markdown",
   "metadata": {},
   "source": [
    "with $\\lambda_i = 1/n_n \\sigma_i$. \n",
    "\n",
    "The fraction of neutral particles is thus\n",
    "$$\n",
    "f_n = \\lim_{x\\to\\infty} \\frac{\\Gamma_b}{\\Gamma_0} = \\frac{\\sigma_{ch}}{\\sigma_{ch} + \\sigma_i}\n",
    "$$"
   ]
  },
  {
   "cell_type": "markdown",
   "metadata": {},
   "source": [
    "## Negative Ions"
   ]
  },
  {
   "cell_type": "code",
   "execution_count": 39,
   "metadata": {},
   "outputs": [
    {
     "data": {
      "application/vnd.jupyter.widget-view+json": {
       "model_id": "abf43ffac4b0460fb34a068993f53db8",
       "version_major": 2,
       "version_minor": 0
      },
      "text/plain": [
       "Canvas(toolbar=Toolbar(toolitems=[('Home', 'Reset original view', 'home', 'home'), ('Back', 'Back to previous …"
      ]
     },
     "metadata": {},
     "output_type": "display_data"
    },
    {
     "data": {
      "text/plain": [
       "<matplotlib.legend.Legend at 0x1c97962ee48>"
      ]
     },
     "execution_count": 39,
     "metadata": {},
     "output_type": "execute_result"
    }
   ],
   "source": [
    "# stripping collision cross section from\n",
    "# K. H. Berkner, R. V. Pyle, and J. W. Stearns, Nucl. Fusion 15, 249 (1975).\n",
    "raw_data = '''\n",
    "10e3 100e-17\n",
    "20e3 108e-17\n",
    "50e3 85e-17\n",
    "100e3 65e-17\n",
    "200e3 47e-17\n",
    "500e3 25e-17\n",
    "1000e3 15e-17\n",
    "'''\n",
    "\n",
    "E_s, sigma_s = np.loadtxt(io.StringIO(raw_data), delimiter=' ', unpack=True)\n",
    "\n",
    "# replot cross section vs Energy figure to compare to Wesson and Freidberg books. Seems fair.\n",
    "figure()\n",
    "loglog(E/1e3, s_ec, lw=2, label='charge exchange')\n",
    "loglog(E/1e3, s_i, lw=2, label='ion')\n",
    "loglog(E_s/1e3, sigma_s*1e-4, lw=2, label='stripping')\n",
    "xlim(10, 1e3)\n",
    "ylim(1e-21, 1e-19)\n",
    "grid(True)\n",
    "grid(True, which='minor')\n",
    "legend()"
   ]
  },
  {
   "cell_type": "code",
   "execution_count": 35,
   "metadata": {},
   "outputs": [
    {
     "data": {
      "application/vnd.jupyter.widget-view+json": {
       "model_id": "0fdc65f19016452ba2a87a973746336a",
       "version_major": 2,
       "version_minor": 0
      },
      "text/plain": [
       "Canvas(toolbar=Toolbar(toolitems=[('Home', 'Reset original view', 'home', 'home'), ('Back', 'Back to previous …"
      ]
     },
     "metadata": {},
     "output_type": "display_data"
    },
    {
     "data": {
      "text/plain": [
       "<matplotlib.legend.Legend at 0x1c979317708>"
      ]
     },
     "execution_count": 35,
     "metadata": {},
     "output_type": "execute_result"
    }
   ],
   "source": [
    "# plot the fraction of neutral particles vs E\n",
    "figure()\n",
    "semilogx(E/1e3, 100*s_ec/(s_ec + s_i), lw=2, \n",
    "         label='positive ions')\n",
    "\n",
    "s_s = np.interp(E, E_s, sigma_s*1e-4, )\n",
    "delta = s_i/s_s\n",
    "semilogx(E/1e3, 100*delta**(delta/(1-delta)), lw=2, \n",
    "         label='negative ions')\n",
    "\n",
    "xlim(10, 1e3)\n",
    "xlabel('E(D) [keV]')\n",
    "ylabel('Neutral Conversion Efficiency [%]')\n",
    "grid(True)\n",
    "grid(True, which='minor')\n",
    "legend()\n",
    "\n",
    "# discussion on the choice of ion charge for neutralization for a reactor"
   ]
  },
  {
   "cell_type": "markdown",
   "metadata": {},
   "source": [
    "### Stylin'"
   ]
  },
  {
   "cell_type": "code",
   "execution_count": 37,
   "metadata": {},
   "outputs": [
    {
     "data": {
      "text/html": [
       "<style><link href='http://fonts.googleapis.com/css?family=Fenix' rel='stylesheet' type='text/css'>\n",
       "<link href='http://fonts.googleapis.com/css?family=Alegreya+Sans:100,300,400,500,700,800,900,100italic,300italic,400italic,500italic,700italic,800italic,900italic' rel='stylesheet' type='text/css'>\n",
       "<link href='http://fonts.googleapis.com/css?family=Source+Code+Pro:300,400' rel='stylesheet' type='text/css'>\n",
       "<link href=\"https://fonts.googleapis.com/css?family=Fira+Mono\" rel=\"stylesheet\"> \n",
       "<style>\n",
       "    @font-face {\n",
       "        font-family: 'Fira Mono', monospace;\n",
       "        /*src: url('http://mirrors.ctan.org/fonts/cm-unicode/fonts/otf/cmunss.otf');*/\n",
       "    }\n",
       "    div.cell{\n",
       "        width:800px;\n",
       "        margin-left:16% !important;\n",
       "        margin-right:auto;\n",
       "    }\n",
       "    h1 {\n",
       "        font-family: 'Alegreya Sans', sans-serif;\n",
       "    }\n",
       "    h2 {\n",
       "        font-family: 'Fenix', serif;\n",
       "    }\n",
       "    h3{\n",
       "\t\tfont-family: 'Fenix', serif;\n",
       "        margin-top:12px;\n",
       "        margin-bottom: 3px;\n",
       "       }\n",
       "\th4{\n",
       "\t\tfont-family: 'Fenix', serif;\n",
       "       }\n",
       "    h5 {\n",
       "        font-family: 'Alegreya Sans', sans-serif;\n",
       "    }\t   \n",
       "    div.text_cell_render{\n",
       "        font-family: 'Fira Mono', 'Alegreya Sans',Computer Modern, \"Helvetica Neue\", Arial, Helvetica, Geneva, sans-serif;\n",
       "        line-height: 135%;\n",
       "        font-size: 120%;\n",
       "        width:700px;\n",
       "        margin-left:auto;\n",
       "        margin-right:auto;\n",
       "    }\n",
       "\n",
       "    .text_cell_render h1 {\n",
       "        font-weight: 200;\n",
       "        font-size: 30pt;\n",
       "\t\tline-height: 100%;\n",
       "        color:#CD2305;\n",
       "        margin-bottom: 0.5em;\n",
       "        margin-top: 0.5em;\n",
       "        display: block;\n",
       "    }\n",
       "\t\n",
       "    .text_cell_render h2 {\n",
       "        font-weight: 200;\n",
       "        font-size: 25pt;\n",
       "\t\tline-height: 100%;\n",
       "        color:#1a54b2;\n",
       "        margin-bottom: 0.5em;\n",
       "        margin-top: 0.5em;\n",
       "        display: block;\n",
       "    }\t\n",
       "\t\n",
       "    .text_cell_render h5 {\n",
       "        font-weight: 300;\n",
       "        font-size: 16pt;\n",
       "        color: #CD2305;\n",
       "        font-style: italic;\n",
       "        margin-bottom: .5em;\n",
       "        margin-top: 0.5em;\n",
       "        display: block;\n",
       "    }\n",
       "    \n",
       "    .warning{\n",
       "        color: rgb( 240, 20, 20 )\n",
       "        }  \n",
       "</style>\n",
       "<script>\n",
       "    MathJax.Hub.Config({\n",
       "                        TeX: {\n",
       "                           extensions: [\"AMSmath.js\"]\n",
       "                           },\n",
       "                tex2jax: {\n",
       "                    inlineMath: [ ['$','$'], [\"\\\\(\",\"\\\\)\"] ],\n",
       "                    displayMath: [ ['$$','$$'], [\"\\\\[\",\"\\\\]\"] ]\n",
       "                },\n",
       "                displayAlign: 'center', // Change this to 'center' to center equations.\n",
       "                \"HTML-CSS\": {\n",
       "                    styles: {'.MathJax_Display': {\"margin\": 4}}\n",
       "                }\n",
       "        });\n",
       "</script>\n",
       "</style>"
      ],
      "text/plain": [
       "<IPython.core.display.HTML object>"
      ]
     },
     "execution_count": 37,
     "metadata": {},
     "output_type": "execute_result"
    }
   ],
   "source": [
    "from IPython.core.display import HTML\n",
    "\n",
    "def _set_css_style(css_file_path):\n",
    "    styles = open(css_file_path, 'r').read()\n",
    "    s = '<style>%s</style>' % styles\n",
    "    return HTML(s)\n",
    "_set_css_style('../custom.css')"
   ]
  },
  {
   "cell_type": "code",
   "execution_count": null,
   "metadata": {},
   "outputs": [],
   "source": []
  }
 ],
 "metadata": {
  "kernelspec": {
   "display_name": "Python 3",
   "language": "python",
   "name": "python3"
  },
  "language_info": {
   "codemirror_mode": {
    "name": "ipython",
    "version": 3
   },
   "file_extension": ".py",
   "mimetype": "text/x-python",
   "name": "python",
   "nbconvert_exporter": "python",
   "pygments_lexer": "ipython3",
   "version": "3.7.8"
  }
 },
 "nbformat": 4,
 "nbformat_minor": 4
}
